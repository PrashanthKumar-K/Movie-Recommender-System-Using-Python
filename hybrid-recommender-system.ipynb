{
 "cells": [
  {
   "cell_type": "code",
   "execution_count": 1,
   "id": "116fa2a6",
   "metadata": {
    "_cell_guid": "b1076dfc-b9ad-4769-8c92-a6c4dae69d19",
    "_uuid": "8f2839f25d086af736a60e9eeb907d3b93b6e0e5",
    "execution": {
     "iopub.execute_input": "2023-02-20T09:53:28.946551Z",
     "iopub.status.busy": "2023-02-20T09:53:28.945901Z",
     "iopub.status.idle": "2023-02-20T09:53:28.975433Z",
     "shell.execute_reply": "2023-02-20T09:53:28.973895Z"
    },
    "papermill": {
     "duration": 0.045852,
     "end_time": "2023-02-20T09:53:28.979638",
     "exception": false,
     "start_time": "2023-02-20T09:53:28.933786",
     "status": "completed"
    },
    "tags": []
   },
   "outputs": [
    {
     "name": "stdout",
     "output_type": "stream",
     "text": [
      "/kaggle/input/hybrid-filtering-system/ratings.csv\n",
      "/kaggle/input/hybrid-filtering-system/RatingsCount.csv\n",
      "/kaggle/input/hybrid-filtering-system/FinalData.csv\n",
      "/kaggle/input/hybrid-filtering-system/AverageRatings.csv\n"
     ]
    }
   ],
   "source": [
    "# This Python 3 environment comes with many helpful analytics libraries installed\n",
    "# It is defined by the kaggle/python Docker image: https://github.com/kaggle/docker-python\n",
    "# For example, here's several helpful packages to load\n",
    "\n",
    "import numpy as np # linear algebra\n",
    "import pandas as pd # data processing, CSV file I/O (e.g. pd.read_csv)\n",
    "\n",
    "# Input data files are available in the read-only \"../input/\" directory\n",
    "# For example, running this (by clicking run or pressing Shift+Enter) will list all files under the input directory\n",
    "\n",
    "import os\n",
    "for dirname, _, filenames in os.walk('/kaggle/input'):\n",
    "    for filename in filenames:\n",
    "        print(os.path.join(dirname, filename))\n",
    "\n",
    "# You can write up to 20GB to the current directory (/kaggle/working/) that gets preserved as output when you create a version using \"Save & Run All\" \n",
    "# You can also write temporary files to /kaggle/temp/, but they won't be saved outside of the current session"
   ]
  },
  {
   "cell_type": "markdown",
   "id": "482c5c49",
   "metadata": {
    "papermill": {
     "duration": 0.004613,
     "end_time": "2023-02-20T09:53:28.990004",
     "exception": false,
     "start_time": "2023-02-20T09:53:28.985391",
     "status": "completed"
    },
    "tags": []
   },
   "source": [
    "# Introduction to Recommendation Systems "
   ]
  },
  {
   "cell_type": "markdown",
   "id": "4ec25be0",
   "metadata": {
    "papermill": {
     "duration": 0.004462,
     "end_time": "2023-02-20T09:53:28.999413",
     "exception": false,
     "start_time": "2023-02-20T09:53:28.994951",
     "status": "completed"
    },
    "tags": []
   },
   "source": [
    "A recommendation system is a type of information filtering system that provides personalized recommendations to users based on their preferences and behavior. These systems are commonly used in e-commerce, social media, music and video streaming platforms, and other applications where a large amount of content is available, and it can be challenging for users to find what they're looking for.\n",
    "\n",
    "Recommendation systems work by analyzing data on user behavior, such as search queries, browsing history, and purchase history, as well as data on the items available, such as product descriptions, user ratings, and reviews. Based on this data, the system can generate personalized recommendations for each user, suggesting items that they may be interested in.\n",
    "\n",
    "There are two main types of recommendation systems: content-based and collaborative filtering. Content-based systems recommend items based on the characteristics of the items themselves, while collaborative filtering systems recommend items based on the behavior of other users who have similar preferences.\n",
    "\n",
    "There are also hybrid recommendation systems that combine both content-based and collaborative filtering approaches to generate more accurate and diverse recommendations. Other types of recommendation systems include knowledge-based systems, which make recommendations based on explicit user preferences, and context-aware systems, which take into account the user's location, time of day, and other contextual factors.\n",
    "\n",
    "Overall, recommendation systems are valuable tools for businesses and users alike, enabling more personalized and efficient interactions with a wide range of content and products."
   ]
  },
  {
   "cell_type": "markdown",
   "id": "288c0df0",
   "metadata": {
    "papermill": {
     "duration": 0.004373,
     "end_time": "2023-02-20T09:53:29.008567",
     "exception": false,
     "start_time": "2023-02-20T09:53:29.004194",
     "status": "completed"
    },
    "tags": []
   },
   "source": [
    "# Importing Libraries and Data"
   ]
  },
  {
   "cell_type": "code",
   "execution_count": 2,
   "id": "19a37f70",
   "metadata": {
    "execution": {
     "iopub.execute_input": "2023-02-20T09:53:29.019994Z",
     "iopub.status.busy": "2023-02-20T09:53:29.019580Z",
     "iopub.status.idle": "2023-02-20T09:53:30.031070Z",
     "shell.execute_reply": "2023-02-20T09:53:30.029954Z"
    },
    "papermill": {
     "duration": 1.020227,
     "end_time": "2023-02-20T09:53:30.033732",
     "exception": false,
     "start_time": "2023-02-20T09:53:29.013505",
     "status": "completed"
    },
    "tags": []
   },
   "outputs": [],
   "source": [
    "import pandas as pd\n",
    "from sklearn.feature_extraction.text import TfidfVectorizer\n",
    "from sklearn.metrics.pairwise import cosine_similarity\n",
    "from surprise import Dataset, Reader, SVD\n",
    "from surprise.model_selection import cross_validate\n",
    "from sklearn.feature_extraction.text import CountVectorizer\n"
   ]
  },
  {
   "cell_type": "code",
   "execution_count": 3,
   "id": "0db62c7a",
   "metadata": {
    "execution": {
     "iopub.execute_input": "2023-02-20T09:53:30.045147Z",
     "iopub.status.busy": "2023-02-20T09:53:30.044729Z",
     "iopub.status.idle": "2023-02-20T09:53:31.240679Z",
     "shell.execute_reply": "2023-02-20T09:53:31.239643Z"
    },
    "papermill": {
     "duration": 1.204712,
     "end_time": "2023-02-20T09:53:31.243356",
     "exception": false,
     "start_time": "2023-02-20T09:53:30.038644",
     "status": "completed"
    },
    "tags": []
   },
   "outputs": [],
   "source": [
    "# Load data from CSV files\n",
    "final_data = pd.read_csv('/kaggle/input/hybrid-filtering-system/FinalData.csv')\n",
    "ratings = pd.read_csv('/kaggle/input/hybrid-filtering-system/ratings.csv')\n",
    "rating_count = pd.read_csv('/kaggle/input/hybrid-filtering-system/RatingsCount.csv')\n",
    "avg_rating = pd.read_csv('/kaggle/input/hybrid-filtering-system/AverageRatings.csv')"
   ]
  },
  {
   "cell_type": "markdown",
   "id": "09f8d417",
   "metadata": {
    "papermill": {
     "duration": 0.004441,
     "end_time": "2023-02-20T09:53:31.252669",
     "exception": false,
     "start_time": "2023-02-20T09:53:31.248228",
     "status": "completed"
    },
    "tags": []
   },
   "source": [
    "# Data Preparation"
   ]
  },
  {
   "cell_type": "code",
   "execution_count": 4,
   "id": "ec559174",
   "metadata": {
    "execution": {
     "iopub.execute_input": "2023-02-20T09:53:31.263953Z",
     "iopub.status.busy": "2023-02-20T09:53:31.263554Z",
     "iopub.status.idle": "2023-02-20T09:53:31.732505Z",
     "shell.execute_reply": "2023-02-20T09:53:31.731259Z"
    },
    "papermill": {
     "duration": 0.477625,
     "end_time": "2023-02-20T09:53:31.735086",
     "exception": false,
     "start_time": "2023-02-20T09:53:31.257461",
     "status": "completed"
    },
    "tags": []
   },
   "outputs": [
    {
     "data": {
      "text/html": [
       "<div>\n",
       "<style scoped>\n",
       "    .dataframe tbody tr th:only-of-type {\n",
       "        vertical-align: middle;\n",
       "    }\n",
       "\n",
       "    .dataframe tbody tr th {\n",
       "        vertical-align: top;\n",
       "    }\n",
       "\n",
       "    .dataframe thead th {\n",
       "        text-align: right;\n",
       "    }\n",
       "</style>\n",
       "<table border=\"1\" class=\"dataframe\">\n",
       "  <thead>\n",
       "    <tr style=\"text-align: right;\">\n",
       "      <th></th>\n",
       "      <th>book_id</th>\n",
       "      <th>authors</th>\n",
       "      <th>title</th>\n",
       "      <th>Genres</th>\n",
       "      <th>rating_x</th>\n",
       "      <th>rating_y</th>\n",
       "      <th>total_ratings</th>\n",
       "    </tr>\n",
       "  </thead>\n",
       "  <tbody>\n",
       "    <tr>\n",
       "      <th>0</th>\n",
       "      <td>1</td>\n",
       "      <td>Suzanne Collins</td>\n",
       "      <td>The Hunger Games (The Hunger Games, #1)</td>\n",
       "      <td>SciFi;Drama</td>\n",
       "      <td>4.279707</td>\n",
       "      <td>22806</td>\n",
       "      <td>97603.0</td>\n",
       "    </tr>\n",
       "    <tr>\n",
       "      <th>1</th>\n",
       "      <td>2</td>\n",
       "      <td>J.K. Rowling, Mary GrandPré</td>\n",
       "      <td>Harry Potter and the Sorcerer's Stone (Harry P...</td>\n",
       "      <td>Fantasy;Young-Age</td>\n",
       "      <td>4.351350</td>\n",
       "      <td>21850</td>\n",
       "      <td>95077.0</td>\n",
       "    </tr>\n",
       "    <tr>\n",
       "      <th>2</th>\n",
       "      <td>3</td>\n",
       "      <td>Stephenie Meyer</td>\n",
       "      <td>Twilight (Twilight, #1)</td>\n",
       "      <td>Fantasy</td>\n",
       "      <td>3.214341</td>\n",
       "      <td>16931</td>\n",
       "      <td>54422.0</td>\n",
       "    </tr>\n",
       "    <tr>\n",
       "      <th>3</th>\n",
       "      <td>4</td>\n",
       "      <td>Harper Lee</td>\n",
       "      <td>To Kill a Mockingbird</td>\n",
       "      <td>Self-Help;Drama</td>\n",
       "      <td>4.329369</td>\n",
       "      <td>19088</td>\n",
       "      <td>82639.0</td>\n",
       "    </tr>\n",
       "    <tr>\n",
       "      <th>4</th>\n",
       "      <td>5</td>\n",
       "      <td>F. Scott Fitzgerald</td>\n",
       "      <td>The Great Gatsby</td>\n",
       "      <td>Drama</td>\n",
       "      <td>3.772224</td>\n",
       "      <td>16604</td>\n",
       "      <td>62634.0</td>\n",
       "    </tr>\n",
       "    <tr>\n",
       "      <th>...</th>\n",
       "      <td>...</td>\n",
       "      <td>...</td>\n",
       "      <td>...</td>\n",
       "      <td>...</td>\n",
       "      <td>...</td>\n",
       "      <td>...</td>\n",
       "      <td>...</td>\n",
       "    </tr>\n",
       "    <tr>\n",
       "      <th>994</th>\n",
       "      <td>995</td>\n",
       "      <td>Michelle Hodkin</td>\n",
       "      <td>The Unbecoming of Mara Dyer (Mara Dyer, #1)</td>\n",
       "      <td>Fiction</td>\n",
       "      <td>3.961576</td>\n",
       "      <td>1015</td>\n",
       "      <td>4021.0</td>\n",
       "    </tr>\n",
       "    <tr>\n",
       "      <th>995</th>\n",
       "      <td>996</td>\n",
       "      <td>Janet Evanovich</td>\n",
       "      <td>Three to Get Deadly (Stephanie Plum, #3)</td>\n",
       "      <td>Crime</td>\n",
       "      <td>4.007496</td>\n",
       "      <td>1334</td>\n",
       "      <td>5346.0</td>\n",
       "    </tr>\n",
       "    <tr>\n",
       "      <th>996</th>\n",
       "      <td>997</td>\n",
       "      <td>Emmuska Orczy</td>\n",
       "      <td>The Scarlet Pimpernel</td>\n",
       "      <td>History;Fiction</td>\n",
       "      <td>3.971863</td>\n",
       "      <td>1315</td>\n",
       "      <td>5223.0</td>\n",
       "    </tr>\n",
       "    <tr>\n",
       "      <th>997</th>\n",
       "      <td>998</td>\n",
       "      <td>Jon Stone, Michael J. Smollin</td>\n",
       "      <td>The Monster at the End of this Book</td>\n",
       "      <td>Fiction;Kids</td>\n",
       "      <td>4.452181</td>\n",
       "      <td>1307</td>\n",
       "      <td>5819.0</td>\n",
       "    </tr>\n",
       "    <tr>\n",
       "      <th>998</th>\n",
       "      <td>999</td>\n",
       "      <td>Judy Blume</td>\n",
       "      <td>Tales of a Fourth Grade Nothing (Fudge, #1)</td>\n",
       "      <td>Kids</td>\n",
       "      <td>4.047478</td>\n",
       "      <td>1348</td>\n",
       "      <td>5456.0</td>\n",
       "    </tr>\n",
       "  </tbody>\n",
       "</table>\n",
       "<p>999 rows × 7 columns</p>\n",
       "</div>"
      ],
      "text/plain": [
       "     book_id                        authors  \\\n",
       "0          1                Suzanne Collins   \n",
       "1          2    J.K. Rowling, Mary GrandPré   \n",
       "2          3                Stephenie Meyer   \n",
       "3          4                     Harper Lee   \n",
       "4          5            F. Scott Fitzgerald   \n",
       "..       ...                            ...   \n",
       "994      995                Michelle Hodkin   \n",
       "995      996                Janet Evanovich   \n",
       "996      997                  Emmuska Orczy   \n",
       "997      998  Jon Stone, Michael J. Smollin   \n",
       "998      999                     Judy Blume   \n",
       "\n",
       "                                                 title             Genres  \\\n",
       "0              The Hunger Games (The Hunger Games, #1)        SciFi;Drama   \n",
       "1    Harry Potter and the Sorcerer's Stone (Harry P...  Fantasy;Young-Age   \n",
       "2                              Twilight (Twilight, #1)            Fantasy   \n",
       "3                                To Kill a Mockingbird    Self-Help;Drama   \n",
       "4                                     The Great Gatsby              Drama   \n",
       "..                                                 ...                ...   \n",
       "994        The Unbecoming of Mara Dyer (Mara Dyer, #1)            Fiction   \n",
       "995           Three to Get Deadly (Stephanie Plum, #3)              Crime   \n",
       "996                              The Scarlet Pimpernel    History;Fiction   \n",
       "997                The Monster at the End of this Book       Fiction;Kids   \n",
       "998        Tales of a Fourth Grade Nothing (Fudge, #1)               Kids   \n",
       "\n",
       "     rating_x  rating_y  total_ratings  \n",
       "0    4.279707     22806        97603.0  \n",
       "1    4.351350     21850        95077.0  \n",
       "2    3.214341     16931        54422.0  \n",
       "3    4.329369     19088        82639.0  \n",
       "4    3.772224     16604        62634.0  \n",
       "..        ...       ...            ...  \n",
       "994  3.961576      1015         4021.0  \n",
       "995  4.007496      1334         5346.0  \n",
       "996  3.971863      1315         5223.0  \n",
       "997  4.452181      1307         5819.0  \n",
       "998  4.047478      1348         5456.0  \n",
       "\n",
       "[999 rows x 7 columns]"
      ]
     },
     "execution_count": 4,
     "metadata": {},
     "output_type": "execute_result"
    }
   ],
   "source": [
    "books = pd.merge(final_data, avg_rating, on=\"book_id\")\n",
    "books = pd.merge(books, rating_count, on=\"book_id\")\n",
    "books[\"total_ratings\"] = books[\"rating_y\"] * books[\"rating_x\"]\n",
    "ratings = pd.merge(ratings, books[[\"book_id\", \"title\"]], on=\"book_id\")\n",
    "books"
   ]
  },
  {
   "cell_type": "code",
   "execution_count": 5,
   "id": "aea08eb8",
   "metadata": {
    "execution": {
     "iopub.execute_input": "2023-02-20T09:53:31.747573Z",
     "iopub.status.busy": "2023-02-20T09:53:31.747178Z",
     "iopub.status.idle": "2023-02-20T09:53:31.752953Z",
     "shell.execute_reply": "2023-02-20T09:53:31.751842Z"
    },
    "papermill": {
     "duration": 0.014761,
     "end_time": "2023-02-20T09:53:31.755335",
     "exception": false,
     "start_time": "2023-02-20T09:53:31.740574",
     "status": "completed"
    },
    "tags": []
   },
   "outputs": [],
   "source": [
    "# Preprocess the dataset\n",
    "books = books.fillna(\"\")\n"
   ]
  },
  {
   "cell_type": "markdown",
   "id": "0a7fef4f",
   "metadata": {
    "papermill": {
     "duration": 0.005108,
     "end_time": "2023-02-20T09:53:31.765664",
     "exception": false,
     "start_time": "2023-02-20T09:53:31.760556",
     "status": "completed"
    },
    "tags": []
   },
   "source": [
    "# Collaborative Filtering System"
   ]
  },
  {
   "cell_type": "markdown",
   "id": "4099c2e5",
   "metadata": {
    "papermill": {
     "duration": 0.0048,
     "end_time": "2023-02-20T09:53:31.775500",
     "exception": false,
     "start_time": "2023-02-20T09:53:31.770700",
     "status": "completed"
    },
    "tags": []
   },
   "source": [
    "Collaborative filtering is a type of recommendation system that predicts a user's interests or preferences based on the behavior and preferences of similar users. Collaborative filtering works by identifying users who have similar patterns of interaction with the system and recommending items that those similar users have expressed a preference for.\n",
    "\n",
    "Collaborative filtering can be based on explicit or implicit feedback. Explicit feedback is when users rate or review items, while implicit feedback is when the system infers user preferences based on their behavior, such as their browsing history or purchase history.\n",
    "\n",
    "There are two main types of collaborative filtering: user-based and item-based. User-based collaborative filtering recommends items to a user based on the preferences of other users who are similar to them. Item-based collaborative filtering, on the other hand, recommends items to a user based on the similarity of the items they have interacted with in the past.\n",
    "\n",
    "Collaborative filtering systems have some advantages over other types of recommendation systems. For example, they can make recommendations for new or unpopular items that do not yet have many ratings or reviews. However, collaborative filtering systems can also suffer from the \"cold start\" problem, where it is difficult to make accurate recommendations for new users or items that have not yet been rated or reviewed.\n",
    "\n",
    "Overall, collaborative filtering is a popular and effective approach to recommendation systems that can generate accurate and personalized recommendations for users based on the behavior and preferences of similar users."
   ]
  },
  {
   "cell_type": "code",
   "execution_count": 6,
   "id": "47d78cfb",
   "metadata": {
    "execution": {
     "iopub.execute_input": "2023-02-20T09:53:31.787478Z",
     "iopub.status.busy": "2023-02-20T09:53:31.787041Z",
     "iopub.status.idle": "2023-02-20T09:53:36.021862Z",
     "shell.execute_reply": "2023-02-20T09:53:36.020735Z"
    },
    "papermill": {
     "duration": 4.244057,
     "end_time": "2023-02-20T09:53:36.024772",
     "exception": false,
     "start_time": "2023-02-20T09:53:31.780715",
     "status": "completed"
    },
    "tags": []
   },
   "outputs": [],
   "source": [
    "# Define the collaborative filtering recommender system\n",
    "user_ratings = pd.pivot_table(ratings, index=\"user_id\", columns=\"book_id\", values=\"rating\")\n",
    "\n",
    "def collaborative_filtering_recommender(user_id):\n",
    "    user_books = user_ratings.loc[user_id].dropna().index\n",
    "    book_similarities = pd.DataFrame()\n",
    "    for book_id in user_books:\n",
    "        similar_books = user_ratings.corrwith(user_ratings[book_id])\n",
    "        book_similarities[book_id] = similar_books\n",
    "    recommendations = book_similarities.mean(axis=1).sort_values(ascending=False).head(10)\n",
    "    return books.loc[recommendations.index]"
   ]
  },
  {
   "cell_type": "code",
   "execution_count": 7,
   "id": "1e886f27",
   "metadata": {
    "execution": {
     "iopub.execute_input": "2023-02-20T09:53:36.037120Z",
     "iopub.status.busy": "2023-02-20T09:53:36.036716Z",
     "iopub.status.idle": "2023-02-20T09:54:18.920657Z",
     "shell.execute_reply": "2023-02-20T09:54:18.919063Z"
    },
    "papermill": {
     "duration": 42.898127,
     "end_time": "2023-02-20T09:54:18.928500",
     "exception": false,
     "start_time": "2023-02-20T09:53:36.030373",
     "status": "completed"
    },
    "tags": []
   },
   "outputs": [
    {
     "name": "stderr",
     "output_type": "stream",
     "text": [
      "/opt/conda/lib/python3.7/site-packages/numpy/lib/function_base.py:2683: RuntimeWarning: Degrees of freedom <= 0 for slice\n",
      "  c = cov(x, y, rowvar, dtype=dtype)\n",
      "/opt/conda/lib/python3.7/site-packages/numpy/lib/function_base.py:2542: RuntimeWarning: divide by zero encountered in true_divide\n",
      "  c *= np.true_divide(1, fact)\n"
     ]
    },
    {
     "name": "stdout",
     "output_type": "stream",
     "text": [
      "         book_id                                     authors  \\\n",
      "book_id                                                        \n",
      "532          533                                  Harper Lee   \n",
      "800          801                            Jonathan Tropper   \n",
      "878          879  Upton Sinclair, Earl Lee, Kathleen DeGrave   \n",
      "720          721                                 Allie Brosh   \n",
      "363          364                                   Dr. Seuss   \n",
      "990          991                              Rainbow Rowell   \n",
      "762          763                               Toni Morrison   \n",
      "868          869             Muriel Barbery, Alison Anderson   \n",
      "346          347                                  C.S. Lewis   \n",
      "954          955                             Sophie Kinsella   \n",
      "\n",
      "                                                     title  \\\n",
      "book_id                                                      \n",
      "532                                      Go Set a Watchman   \n",
      "800                              This is Where I Leave You   \n",
      "878                                             The Jungle   \n",
      "720      Hyperbole and a Half: Unfortunate Situations, ...   \n",
      "363                        How the Grinch Stole Christmas!   \n",
      "990                                            Attachments   \n",
      "762                                         The Bluest Eye   \n",
      "868                           The Elegance of the Hedgehog   \n",
      "346              Prince Caspian (Chronicles of Narnia, #2)   \n",
      "954            Shopaholic Takes Manhattan (Shopaholic, #2)   \n",
      "\n",
      "                         Genres  rating_x  rating_y  total_ratings  \n",
      "book_id                                                             \n",
      "532                     Fiction  3.208688      2233         7165.0  \n",
      "800               Psychological  3.788623      1547         5861.0  \n",
      "878                     Fiction  3.633220      1764         6409.0  \n",
      "720            Comedy;Biography  4.232490      1028         4351.0  \n",
      "363                Kids;Fantasy  4.328691      3231        13986.0  \n",
      "990             Romance;Fiction  3.870742      1145         4432.0  \n",
      "762           Fiction;Biography  3.840588      1700         6529.0  \n",
      "868                     Fiction  3.597353      1587         5709.0  \n",
      "346                Kids;Fantasy  3.852669      3353        12918.0  \n",
      "954      Comedy;Romance;Fiction  3.505840      1113         3902.0  \n"
     ]
    }
   ],
   "source": [
    "# Test the collaborative filtering recommender system\n",
    "print(collaborative_filtering_recommender(1))"
   ]
  },
  {
   "cell_type": "markdown",
   "id": "f3a3744c",
   "metadata": {
    "papermill": {
     "duration": 0.005338,
     "end_time": "2023-02-20T09:54:18.940835",
     "exception": false,
     "start_time": "2023-02-20T09:54:18.935497",
     "status": "completed"
    },
    "tags": []
   },
   "source": [
    "# Content Based Filtering System"
   ]
  },
  {
   "cell_type": "markdown",
   "id": "cc2d01a9",
   "metadata": {
    "papermill": {
     "duration": 0.005514,
     "end_time": "2023-02-20T09:54:18.952526",
     "exception": false,
     "start_time": "2023-02-20T09:54:18.947012",
     "status": "completed"
    },
    "tags": []
   },
   "source": [
    "Content-based filtering is a type of recommendation system that suggests items to a user based on the characteristics or features of the items themselves. The system analyzes the attributes of items that the user has interacted with in the past, such as their text, images, audio, or video content, and generates recommendations for similar items.\n",
    "\n",
    "Content-based filtering works by building a user profile based on the features of the items that the user has interacted with in the past. The system then identifies other items with similar features and recommends those to the user. For example, if a user has interacted with several science fiction movies in the past, a content-based filtering system might recommend other science fiction movies based on the genre, actors, and plot elements of the movies they have already watched.\n",
    "\n",
    "Content-based filtering systems can be particularly useful for recommending items that are less popular or less well-known, as they are not dependent on the behavior of other users to generate recommendations. Additionally, content-based filtering systems can be effective for users with unique or niche preferences, as they can recommend items based on specific features that the user has expressed a preference for."
   ]
  },
  {
   "cell_type": "code",
   "execution_count": 8,
   "id": "da3cbdbf",
   "metadata": {
    "execution": {
     "iopub.execute_input": "2023-02-20T09:54:18.965438Z",
     "iopub.status.busy": "2023-02-20T09:54:18.965000Z",
     "iopub.status.idle": "2023-02-20T09:54:19.010028Z",
     "shell.execute_reply": "2023-02-20T09:54:19.008903Z"
    },
    "papermill": {
     "duration": 0.05471,
     "end_time": "2023-02-20T09:54:19.012751",
     "exception": false,
     "start_time": "2023-02-20T09:54:18.958041",
     "status": "completed"
    },
    "tags": []
   },
   "outputs": [
    {
     "name": "stdout",
     "output_type": "stream",
     "text": [
      "     book_id                                            authors  \\\n",
      "963      964                                     J.R.R. Tolkien   \n",
      "465      466  Chuck Dixon, J.R.R. Tolkien, David Wenzel, Sea...   \n",
      "610      611   J.R.R. Tolkien, Christopher Tolkien, Ted Nasmith   \n",
      "154      155                                     J.R.R. Tolkien   \n",
      "160      161                                     J.R.R. Tolkien   \n",
      "18        19                                     J.R.R. Tolkien   \n",
      "188      189                                     J.R.R. Tolkien   \n",
      "0          1                                    Suzanne Collins   \n",
      "1          2                        J.K. Rowling, Mary GrandPré   \n",
      "2          3                                    Stephenie Meyer   \n",
      "\n",
      "                                                 title  \\\n",
      "963  J.R.R. Tolkien 4-Book Boxed Set: The Hobbit an...   \n",
      "465                          The Hobbit: Graphic Novel   \n",
      "610           The Silmarillion (Middle-Earth Universe)   \n",
      "154         The Two Towers (The Lord of the Rings, #2)   \n",
      "160  The Return of the King (The Lord of the Rings,...   \n",
      "18   The Fellowship of the Ring (The Lord of the Ri...   \n",
      "188  The Lord of the Rings (The Lord of the Rings, ...   \n",
      "0              The Hunger Games (The Hunger Games, #1)   \n",
      "1    Harry Potter and the Sorcerer's Stone (Harry P...   \n",
      "2                              Twilight (Twilight, #1)   \n",
      "\n",
      "                      Genres  rating_x  rating_y  total_ratings  \n",
      "963  Fantasy;Drama;Young-Age  4.518571      1400         6326.0  \n",
      "465          Classic;Fiction  4.459596      1782         7947.0  \n",
      "610                  Fantasy  3.610053      1890         6823.0  \n",
      "154         Fantasy;Thriller  4.332047      6478        28063.0  \n",
      "160         Fantasy;Thriller  4.424735      6331        28013.0  \n",
      "18                   Fantasy  4.271828     12530        53526.0  \n",
      "188                  Fantasy  4.377728      5316        23272.0  \n",
      "0                SciFi;Drama  4.279707     22806        97603.0  \n",
      "1          Fantasy;Young-Age  4.351350     21850        95077.0  \n",
      "2                    Fantasy  3.214341     16931        54422.0  \n"
     ]
    }
   ],
   "source": [
    "from sklearn.metrics.pairwise import linear_kernel\n",
    "\n",
    "# Define the content-based recommender system\n",
    "tfidf = TfidfVectorizer(stop_words=\"english\")\n",
    "book_features = tfidf.fit_transform(books[\"authors\"] + \" \" + books[\"title\"])\n",
    "book_sim = linear_kernel(book_features, book_features)\n",
    "\n",
    "def content_recommender(title):\n",
    "    book_idx = books[books[\"title\"]==title].index[0]\n",
    "    sim_scores = list(enumerate(book_sim[book_idx]))\n",
    "    sim_scores = sorted(sim_scores, key=lambda x: x[1], reverse=True)\n",
    "    sim_scores = sim_scores[1:11]\n",
    "    book_indices = [i[0] for i in sim_scores]\n",
    "    return books.iloc[book_indices]\n",
    "\n",
    "# Test the content-based recommender system\n",
    "print(content_recommender(\"The Hobbit\"))"
   ]
  },
  {
   "cell_type": "markdown",
   "id": "cfd555fa",
   "metadata": {
    "papermill": {
     "duration": 0.005288,
     "end_time": "2023-02-20T09:54:19.023760",
     "exception": false,
     "start_time": "2023-02-20T09:54:19.018472",
     "status": "completed"
    },
    "tags": []
   },
   "source": [
    "# Hybrid recommender system"
   ]
  },
  {
   "cell_type": "markdown",
   "id": "f4e27d0e",
   "metadata": {
    "papermill": {
     "duration": 0.005286,
     "end_time": "2023-02-20T09:54:19.034697",
     "exception": false,
     "start_time": "2023-02-20T09:54:19.029411",
     "status": "completed"
    },
    "tags": []
   },
   "source": [
    "A hybrid recommender system is a type of recommendation system that combines multiple approaches to generate more accurate and diverse recommendations for users. Hybrid systems can combine different types of recommendation techniques, such as content-based filtering, collaborative filtering, knowledge-based recommendation, and more, to provide more personalized and relevant recommendations for users.\n",
    "\n",
    "There are two main types of hybrid recommender systems: model-based and feature-based. Model-based hybrid systems combine multiple recommendation models, such as collaborative filtering and content-based filtering, into a single model that generates recommendations. Feature-based hybrid systems, on the other hand, use multiple features of items, such as genre, director, and actor, to generate recommendations."
   ]
  },
  {
   "cell_type": "code",
   "execution_count": 9,
   "id": "2c52d7cf",
   "metadata": {
    "execution": {
     "iopub.execute_input": "2023-02-20T09:54:19.048087Z",
     "iopub.status.busy": "2023-02-20T09:54:19.046893Z",
     "iopub.status.idle": "2023-02-20T09:55:02.679299Z",
     "shell.execute_reply": "2023-02-20T09:55:02.677709Z"
    },
    "papermill": {
     "duration": 43.647933,
     "end_time": "2023-02-20T09:55:02.688096",
     "exception": false,
     "start_time": "2023-02-20T09:54:19.040163",
     "status": "completed"
    },
    "tags": []
   },
   "outputs": [
    {
     "name": "stderr",
     "output_type": "stream",
     "text": [
      "/opt/conda/lib/python3.7/site-packages/numpy/lib/function_base.py:2683: RuntimeWarning: Degrees of freedom <= 0 for slice\n",
      "  c = cov(x, y, rowvar, dtype=dtype)\n",
      "/opt/conda/lib/python3.7/site-packages/numpy/lib/function_base.py:2542: RuntimeWarning: divide by zero encountered in true_divide\n",
      "  c *= np.true_divide(1, fact)\n"
     ]
    },
    {
     "name": "stdout",
     "output_type": "stream",
     "text": [
      "     book_id                                     authors  \\\n",
      "842      843                                  E.L. James   \n",
      "720      721                                 Allie Brosh   \n",
      "532      533                                  Harper Lee   \n",
      "22        23                 J.K. Rowling, Mary GrandPré   \n",
      "150      151                                Rick Riordan   \n",
      "346      347                                  C.S. Lewis   \n",
      "990      991                              Rainbow Rowell   \n",
      "95        96                                  E.L. James   \n",
      "800      801                            Jonathan Tropper   \n",
      "33        34                                  E.L. James   \n",
      "98        99                                  E.L. James   \n",
      "762      763                               Toni Morrison   \n",
      "868      869             Muriel Barbery, Alison Anderson   \n",
      "421      422                                J.K. Rowling   \n",
      "40        41                                Rick Riordan   \n",
      "363      364                                   Dr. Seuss   \n",
      "878      879  Upton Sinclair, Earl Lee, Kathleen DeGrave   \n",
      "115      116       Mark Twain, Guy Cardwell, John Seelye   \n",
      "57        58       Mark Twain, John Seelye, Guy Cardwell   \n",
      "954      955                             Sophie Kinsella   \n",
      "\n",
      "                                                 title  \\\n",
      "842          Fifty Shades Trilogy (Fifty Shades, #1-3)   \n",
      "720  Hyperbole and a Half: Unfortunate Situations, ...   \n",
      "532                                  Go Set a Watchman   \n",
      "22   Harry Potter and the Chamber of Secrets (Harry...   \n",
      "150  The Sea of Monsters (Percy Jackson and the Oly...   \n",
      "346          Prince Caspian (Chronicles of Narnia, #2)   \n",
      "990                                        Attachments   \n",
      "95               Fifty Shades Freed (Fifty Shades, #3)   \n",
      "800                          This is Where I Leave You   \n",
      "33             Fifty Shades of Grey (Fifty Shades, #1)   \n",
      "98              Fifty Shades Darker (Fifty Shades, #2)   \n",
      "762                                     The Bluest Eye   \n",
      "868                       The Elegance of the Hedgehog   \n",
      "421           Harry Potter Boxset (Harry Potter, #1-7)   \n",
      "40   The Lightning Thief (Percy Jackson and the Oly...   \n",
      "363                    How the Grinch Stole Christmas!   \n",
      "878                                         The Jungle   \n",
      "115                       The Adventures of Tom Sawyer   \n",
      "57                  The Adventures of Huckleberry Finn   \n",
      "954        Shopaholic Takes Manhattan (Shopaholic, #2)   \n",
      "\n",
      "                     Genres  rating_x  rating_y  total_ratings  \n",
      "842          Erotic;Romance  3.635889       574         2087.0  \n",
      "720        Comedy;Biography  4.232490      1028         4351.0  \n",
      "532                 Fiction  3.208688      2233         7165.0  \n",
      "22        Fantasy;Young-Age  4.229418     15657        66220.0  \n",
      "150            Fantasy;Kids  4.038708      4056        16381.0  \n",
      "346            Kids;Fantasy  3.852669      3353        12918.0  \n",
      "990         Romance;Fiction  3.870742      1145         4432.0  \n",
      "95             Erotic;Drama  3.444683      4185        14416.0  \n",
      "800           Psychological  3.788623      1547         5861.0  \n",
      "33             Erotic;Drama  3.092439      7724        23886.0  \n",
      "98             Erotic;Drama  3.448787      4452        15354.0  \n",
      "762       Fiction;Biography  3.840588      1700         6529.0  \n",
      "868                 Fiction  3.597353      1587         5709.0  \n",
      "421            Fantasy;Kids  4.659530      1915         8923.0  \n",
      "40         Fantasy;Thriller  3.992374      7606        30366.0  \n",
      "363            Kids;Fantasy  4.328691      3231        13986.0  \n",
      "878                 Fiction  3.633220      1764         6409.0  \n",
      "115            Kids;Fiction  3.854311      7214        27805.0  \n",
      "57        History;Young-Age  3.826343      9323        35673.0  \n",
      "954  Comedy;Romance;Fiction  3.505840      1113         3902.0  \n"
     ]
    }
   ],
   "source": [
    "# Define the hybrid recommender system\n",
    "def hybrid_recommender(user_id):\n",
    "    user_books = user_ratings.loc[user_id].dropna().index\n",
    "    book_scores = pd.DataFrame(book_sim).loc[user_books].sum()\n",
    "    top_books_content = book_scores.sort_values(ascending=False).head(10).index\n",
    "    top_books_cf = collaborative_filtering_recommender(user_id).index\n",
    "    top_books = list(set(top_books_content).union(set(top_books_cf)))\n",
    "    return books.loc[top_books]\n",
    "\n",
    "# Test the hybrid recommender system\n",
    "print(hybrid_recommender(1))"
   ]
  }
 ],
 "metadata": {
  "kernelspec": {
   "display_name": "Python 3",
   "language": "python",
   "name": "python3"
  },
  "language_info": {
   "codemirror_mode": {
    "name": "ipython",
    "version": 3
   },
   "file_extension": ".py",
   "mimetype": "text/x-python",
   "name": "python",
   "nbconvert_exporter": "python",
   "pygments_lexer": "ipython3",
   "version": "3.7.12"
  },
  "papermill": {
   "default_parameters": {},
   "duration": 103.112669,
   "end_time": "2023-02-20T09:55:03.523184",
   "environment_variables": {},
   "exception": null,
   "input_path": "__notebook__.ipynb",
   "output_path": "__notebook__.ipynb",
   "parameters": {},
   "start_time": "2023-02-20T09:53:20.410515",
   "version": "2.3.4"
  }
 },
 "nbformat": 4,
 "nbformat_minor": 5
}
