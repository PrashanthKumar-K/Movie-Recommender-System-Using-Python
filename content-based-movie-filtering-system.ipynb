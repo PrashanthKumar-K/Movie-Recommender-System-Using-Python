{
 "cells": [
  {
   "cell_type": "code",
   "execution_count": 1,
   "id": "236c89ad",
   "metadata": {
    "_cell_guid": "b1076dfc-b9ad-4769-8c92-a6c4dae69d19",
    "_uuid": "8f2839f25d086af736a60e9eeb907d3b93b6e0e5",
    "execution": {
     "iopub.execute_input": "2023-02-19T08:22:15.305369Z",
     "iopub.status.busy": "2023-02-19T08:22:15.304456Z",
     "iopub.status.idle": "2023-02-19T08:22:15.322794Z",
     "shell.execute_reply": "2023-02-19T08:22:15.321840Z"
    },
    "papermill": {
     "duration": 0.035272,
     "end_time": "2023-02-19T08:22:15.326591",
     "exception": false,
     "start_time": "2023-02-19T08:22:15.291319",
     "status": "completed"
    },
    "tags": []
   },
   "outputs": [
    {
     "name": "stdout",
     "output_type": "stream",
     "text": [
      "/kaggle/input/movie-lens-small-latest-dataset/movies.csv\n",
      "/kaggle/input/movie-lens-small-latest-dataset/ratings.csv\n",
      "/kaggle/input/movie-lens-small-latest-dataset/README.txt\n",
      "/kaggle/input/movie-lens-small-latest-dataset/tags.csv\n",
      "/kaggle/input/movie-lens-small-latest-dataset/links.csv\n"
     ]
    }
   ],
   "source": [
    "# This Python 3 environment comes with many helpful analytics libraries installed\n",
    "# It is defined by the kaggle/python Docker image: https://github.com/kaggle/docker-python\n",
    "# For example, here's several helpful packages to load\n",
    "\n",
    "import numpy as np # linear algebra\n",
    "import pandas as pd # data processing, CSV file I/O (e.g. pd.read_csv)\n",
    "\n",
    "# Input data files are available in the read-only \"../input/\" directory\n",
    "# For example, running this (by clicking run or pressing Shift+Enter) will list all files under the input directory\n",
    "\n",
    "import os\n",
    "for dirname, _, filenames in os.walk('/kaggle/input'):\n",
    "    for filename in filenames:\n",
    "        print(os.path.join(dirname, filename))\n",
    "\n",
    "# You can write up to 20GB to the current directory (/kaggle/working/) that gets preserved as output when you create a version using \"Save & Run All\" \n",
    "# You can also write temporary files to /kaggle/temp/, but they won't be saved outside of the current session"
   ]
  },
  {
   "cell_type": "markdown",
   "id": "6b2ab4cc",
   "metadata": {
    "papermill": {
     "duration": 0.009011,
     "end_time": "2023-02-19T08:22:15.345608",
     "exception": false,
     "start_time": "2023-02-19T08:22:15.336597",
     "status": "completed"
    },
    "tags": []
   },
   "source": [
    "\n",
    "\n",
    "****Recommendation Systems**\n",
    "\n",
    "Recommendation systems are the systems that are used to gain more user attraction by understanding the user’s taste. These systems have now become popular because of their ability to provide personalized content to users that are of the user’s interest. These days millions of products are listed on e-commerce websites that make it impossible to find out a product of our desired choice. This is where these systems help us by quickly recommending us with the desired products. Also, Netflix suggests the same genre movies to us by understanding our interest/ choice of movies we like similarly Youtube recommends videos to us. There are many different recommendation engines that work backends to make it possible.\n",
    "\n",
    "****Content-Based Filtering:- ****\n",
    "\n",
    "In this system user’s interest and profile features are taken into considerations. They make \n",
    "an assumption that if a one has interests in an item, then one will once again be interested in \n",
    "it in the future. Items sharing something in common are usually grouped together based on \n",
    "their features. User profiles are constructed using past interactions or by indirectly asking \n",
    "users about their interests. Other systems, which are not content-based, utilize user personal \n",
    "and social data. \n",
    "\n",
    "They suggest similar items based on a particular item. This system uses item metadata, such as genre, director, description, actors, etc. for movies, to make these recommendations. The general idea behind these recommender systems is that if a person liked a particular item, he or she will also like an item that is similar to it."
   ]
  },
  {
   "cell_type": "markdown",
   "id": "9d8118b9",
   "metadata": {
    "papermill": {
     "duration": 0.009173,
     "end_time": "2023-02-19T08:22:15.364192",
     "exception": false,
     "start_time": "2023-02-19T08:22:15.355019",
     "status": "completed"
    },
    "tags": []
   },
   "source": [
    "# Import required files and Libraries"
   ]
  },
  {
   "cell_type": "code",
   "execution_count": 2,
   "id": "e3d70cee",
   "metadata": {
    "execution": {
     "iopub.execute_input": "2023-02-19T08:22:15.386141Z",
     "iopub.status.busy": "2023-02-19T08:22:15.385340Z",
     "iopub.status.idle": "2023-02-19T08:22:15.446955Z",
     "shell.execute_reply": "2023-02-19T08:22:15.445720Z"
    },
    "papermill": {
     "duration": 0.075967,
     "end_time": "2023-02-19T08:22:15.449831",
     "exception": false,
     "start_time": "2023-02-19T08:22:15.373864",
     "status": "completed"
    },
    "tags": []
   },
   "outputs": [
    {
     "data": {
      "text/html": [
       "<div>\n",
       "<style scoped>\n",
       "    .dataframe tbody tr th:only-of-type {\n",
       "        vertical-align: middle;\n",
       "    }\n",
       "\n",
       "    .dataframe tbody tr th {\n",
       "        vertical-align: top;\n",
       "    }\n",
       "\n",
       "    .dataframe thead th {\n",
       "        text-align: right;\n",
       "    }\n",
       "</style>\n",
       "<table border=\"1\" class=\"dataframe\">\n",
       "  <thead>\n",
       "    <tr style=\"text-align: right;\">\n",
       "      <th></th>\n",
       "      <th>movieId</th>\n",
       "      <th>title</th>\n",
       "      <th>genres</th>\n",
       "    </tr>\n",
       "  </thead>\n",
       "  <tbody>\n",
       "    <tr>\n",
       "      <th>0</th>\n",
       "      <td>1</td>\n",
       "      <td>Toy Story (1995)</td>\n",
       "      <td>Adventure|Animation|Children|Comedy|Fantasy</td>\n",
       "    </tr>\n",
       "    <tr>\n",
       "      <th>1</th>\n",
       "      <td>2</td>\n",
       "      <td>Jumanji (1995)</td>\n",
       "      <td>Adventure|Children|Fantasy</td>\n",
       "    </tr>\n",
       "    <tr>\n",
       "      <th>2</th>\n",
       "      <td>3</td>\n",
       "      <td>Grumpier Old Men (1995)</td>\n",
       "      <td>Comedy|Romance</td>\n",
       "    </tr>\n",
       "    <tr>\n",
       "      <th>3</th>\n",
       "      <td>4</td>\n",
       "      <td>Waiting to Exhale (1995)</td>\n",
       "      <td>Comedy|Drama|Romance</td>\n",
       "    </tr>\n",
       "    <tr>\n",
       "      <th>4</th>\n",
       "      <td>5</td>\n",
       "      <td>Father of the Bride Part II (1995)</td>\n",
       "      <td>Comedy</td>\n",
       "    </tr>\n",
       "    <tr>\n",
       "      <th>...</th>\n",
       "      <td>...</td>\n",
       "      <td>...</td>\n",
       "      <td>...</td>\n",
       "    </tr>\n",
       "    <tr>\n",
       "      <th>9737</th>\n",
       "      <td>193581</td>\n",
       "      <td>Black Butler: Book of the Atlantic (2017)</td>\n",
       "      <td>Action|Animation|Comedy|Fantasy</td>\n",
       "    </tr>\n",
       "    <tr>\n",
       "      <th>9738</th>\n",
       "      <td>193583</td>\n",
       "      <td>No Game No Life: Zero (2017)</td>\n",
       "      <td>Animation|Comedy|Fantasy</td>\n",
       "    </tr>\n",
       "    <tr>\n",
       "      <th>9739</th>\n",
       "      <td>193585</td>\n",
       "      <td>Flint (2017)</td>\n",
       "      <td>Drama</td>\n",
       "    </tr>\n",
       "    <tr>\n",
       "      <th>9740</th>\n",
       "      <td>193587</td>\n",
       "      <td>Bungo Stray Dogs: Dead Apple (2018)</td>\n",
       "      <td>Action|Animation</td>\n",
       "    </tr>\n",
       "    <tr>\n",
       "      <th>9741</th>\n",
       "      <td>193609</td>\n",
       "      <td>Andrew Dice Clay: Dice Rules (1991)</td>\n",
       "      <td>Comedy</td>\n",
       "    </tr>\n",
       "  </tbody>\n",
       "</table>\n",
       "<p>9742 rows × 3 columns</p>\n",
       "</div>"
      ],
      "text/plain": [
       "      movieId                                      title  \\\n",
       "0           1                           Toy Story (1995)   \n",
       "1           2                             Jumanji (1995)   \n",
       "2           3                    Grumpier Old Men (1995)   \n",
       "3           4                   Waiting to Exhale (1995)   \n",
       "4           5         Father of the Bride Part II (1995)   \n",
       "...       ...                                        ...   \n",
       "9737   193581  Black Butler: Book of the Atlantic (2017)   \n",
       "9738   193583               No Game No Life: Zero (2017)   \n",
       "9739   193585                               Flint (2017)   \n",
       "9740   193587        Bungo Stray Dogs: Dead Apple (2018)   \n",
       "9741   193609        Andrew Dice Clay: Dice Rules (1991)   \n",
       "\n",
       "                                           genres  \n",
       "0     Adventure|Animation|Children|Comedy|Fantasy  \n",
       "1                      Adventure|Children|Fantasy  \n",
       "2                                  Comedy|Romance  \n",
       "3                            Comedy|Drama|Romance  \n",
       "4                                          Comedy  \n",
       "...                                           ...  \n",
       "9737              Action|Animation|Comedy|Fantasy  \n",
       "9738                     Animation|Comedy|Fantasy  \n",
       "9739                                        Drama  \n",
       "9740                             Action|Animation  \n",
       "9741                                       Comedy  \n",
       "\n",
       "[9742 rows x 3 columns]"
      ]
     },
     "execution_count": 2,
     "metadata": {},
     "output_type": "execute_result"
    }
   ],
   "source": [
    "import pandas as pd\n",
    "import numpy as np \n",
    "# import file\n",
    "movie = pd.read_csv(\"/kaggle/input/movie-lens-small-latest-dataset/movies.csv\")\n",
    "movie"
   ]
  },
  {
   "cell_type": "markdown",
   "id": "b748afdd",
   "metadata": {
    "papermill": {
     "duration": 0.010067,
     "end_time": "2023-02-19T08:22:15.469984",
     "exception": false,
     "start_time": "2023-02-19T08:22:15.459917",
     "status": "completed"
    },
    "tags": []
   },
   "source": [
    "# Data Prepration and cleaning"
   ]
  },
  {
   "cell_type": "code",
   "execution_count": 3,
   "id": "1d18f8b6",
   "metadata": {
    "execution": {
     "iopub.execute_input": "2023-02-19T08:22:15.492463Z",
     "iopub.status.busy": "2023-02-19T08:22:15.491527Z",
     "iopub.status.idle": "2023-02-19T08:22:15.507687Z",
     "shell.execute_reply": "2023-02-19T08:22:15.506733Z"
    },
    "papermill": {
     "duration": 0.030352,
     "end_time": "2023-02-19T08:22:15.510270",
     "exception": false,
     "start_time": "2023-02-19T08:22:15.479918",
     "status": "completed"
    },
    "tags": []
   },
   "outputs": [
    {
     "data": {
      "text/plain": [
       "array(['Toy Story (1995)', 'Jumanji (1995)', 'Grumpier Old Men (1995)',\n",
       "       ..., 'Flint (2017)', 'Bungo Stray Dogs: Dead Apple (2018)',\n",
       "       'Andrew Dice Clay: Dice Rules (1991)'], dtype=object)"
      ]
     },
     "execution_count": 3,
     "metadata": {},
     "output_type": "execute_result"
    }
   ],
   "source": [
    "# Check unique movie title\n",
    "movie[\"title\"].unique()"
   ]
  },
  {
   "cell_type": "code",
   "execution_count": 4,
   "id": "66a41f3a",
   "metadata": {
    "execution": {
     "iopub.execute_input": "2023-02-19T08:22:15.532540Z",
     "iopub.status.busy": "2023-02-19T08:22:15.531690Z",
     "iopub.status.idle": "2023-02-19T08:22:15.553864Z",
     "shell.execute_reply": "2023-02-19T08:22:15.552528Z"
    },
    "papermill": {
     "duration": 0.037113,
     "end_time": "2023-02-19T08:22:15.557236",
     "exception": false,
     "start_time": "2023-02-19T08:22:15.520123",
     "status": "completed"
    },
    "tags": []
   },
   "outputs": [
    {
     "data": {
      "text/plain": [
       "0       1995\n",
       "1       1995\n",
       "2       1995\n",
       "3       1995\n",
       "4       1995\n",
       "        ... \n",
       "9737    2017\n",
       "9738    2017\n",
       "9739    2017\n",
       "9740    2018\n",
       "9741    1991\n",
       "Name: Year, Length: 9742, dtype: object"
      ]
     },
     "execution_count": 4,
     "metadata": {},
     "output_type": "execute_result"
    }
   ],
   "source": [
    "# Extract the year from the title column and create a new \"year\" column\n",
    "movie['Year'] = movie['title'].str.extract(r'\\((\\d{4})\\)', expand=False)\n",
    "movie[\"Year\"]"
   ]
  },
  {
   "cell_type": "code",
   "execution_count": 5,
   "id": "2411938c",
   "metadata": {
    "execution": {
     "iopub.execute_input": "2023-02-19T08:22:15.580259Z",
     "iopub.status.busy": "2023-02-19T08:22:15.579305Z",
     "iopub.status.idle": "2023-02-19T08:22:15.610353Z",
     "shell.execute_reply": "2023-02-19T08:22:15.609089Z"
    },
    "papermill": {
     "duration": 0.046337,
     "end_time": "2023-02-19T08:22:15.613581",
     "exception": false,
     "start_time": "2023-02-19T08:22:15.567244",
     "status": "completed"
    },
    "tags": []
   },
   "outputs": [
    {
     "data": {
      "text/html": [
       "<div>\n",
       "<style scoped>\n",
       "    .dataframe tbody tr th:only-of-type {\n",
       "        vertical-align: middle;\n",
       "    }\n",
       "\n",
       "    .dataframe tbody tr th {\n",
       "        vertical-align: top;\n",
       "    }\n",
       "\n",
       "    .dataframe thead th {\n",
       "        text-align: right;\n",
       "    }\n",
       "</style>\n",
       "<table border=\"1\" class=\"dataframe\">\n",
       "  <thead>\n",
       "    <tr style=\"text-align: right;\">\n",
       "      <th></th>\n",
       "      <th>movieId</th>\n",
       "      <th>title</th>\n",
       "      <th>genres</th>\n",
       "      <th>Year</th>\n",
       "    </tr>\n",
       "  </thead>\n",
       "  <tbody>\n",
       "    <tr>\n",
       "      <th>0</th>\n",
       "      <td>1</td>\n",
       "      <td>Toy Story</td>\n",
       "      <td>Adventure|Animation|Children|Comedy|Fantasy</td>\n",
       "      <td>1995</td>\n",
       "    </tr>\n",
       "    <tr>\n",
       "      <th>1</th>\n",
       "      <td>2</td>\n",
       "      <td>Jumanji</td>\n",
       "      <td>Adventure|Children|Fantasy</td>\n",
       "      <td>1995</td>\n",
       "    </tr>\n",
       "    <tr>\n",
       "      <th>2</th>\n",
       "      <td>3</td>\n",
       "      <td>Grumpier Old Men</td>\n",
       "      <td>Comedy|Romance</td>\n",
       "      <td>1995</td>\n",
       "    </tr>\n",
       "    <tr>\n",
       "      <th>3</th>\n",
       "      <td>4</td>\n",
       "      <td>Waiting to Exhale</td>\n",
       "      <td>Comedy|Drama|Romance</td>\n",
       "      <td>1995</td>\n",
       "    </tr>\n",
       "    <tr>\n",
       "      <th>4</th>\n",
       "      <td>5</td>\n",
       "      <td>Father of the Bride Part II</td>\n",
       "      <td>Comedy</td>\n",
       "      <td>1995</td>\n",
       "    </tr>\n",
       "    <tr>\n",
       "      <th>...</th>\n",
       "      <td>...</td>\n",
       "      <td>...</td>\n",
       "      <td>...</td>\n",
       "      <td>...</td>\n",
       "    </tr>\n",
       "    <tr>\n",
       "      <th>9737</th>\n",
       "      <td>193581</td>\n",
       "      <td>Black Butler: Book of the Atlantic</td>\n",
       "      <td>Action|Animation|Comedy|Fantasy</td>\n",
       "      <td>2017</td>\n",
       "    </tr>\n",
       "    <tr>\n",
       "      <th>9738</th>\n",
       "      <td>193583</td>\n",
       "      <td>No Game No Life: Zero</td>\n",
       "      <td>Animation|Comedy|Fantasy</td>\n",
       "      <td>2017</td>\n",
       "    </tr>\n",
       "    <tr>\n",
       "      <th>9739</th>\n",
       "      <td>193585</td>\n",
       "      <td>Flint</td>\n",
       "      <td>Drama</td>\n",
       "      <td>2017</td>\n",
       "    </tr>\n",
       "    <tr>\n",
       "      <th>9740</th>\n",
       "      <td>193587</td>\n",
       "      <td>Bungo Stray Dogs: Dead Apple</td>\n",
       "      <td>Action|Animation</td>\n",
       "      <td>2018</td>\n",
       "    </tr>\n",
       "    <tr>\n",
       "      <th>9741</th>\n",
       "      <td>193609</td>\n",
       "      <td>Andrew Dice Clay: Dice Rules</td>\n",
       "      <td>Comedy</td>\n",
       "      <td>1991</td>\n",
       "    </tr>\n",
       "  </tbody>\n",
       "</table>\n",
       "<p>9742 rows × 4 columns</p>\n",
       "</div>"
      ],
      "text/plain": [
       "      movieId                                title  \\\n",
       "0           1                           Toy Story    \n",
       "1           2                             Jumanji    \n",
       "2           3                    Grumpier Old Men    \n",
       "3           4                   Waiting to Exhale    \n",
       "4           5         Father of the Bride Part II    \n",
       "...       ...                                  ...   \n",
       "9737   193581  Black Butler: Book of the Atlantic    \n",
       "9738   193583               No Game No Life: Zero    \n",
       "9739   193585                               Flint    \n",
       "9740   193587        Bungo Stray Dogs: Dead Apple    \n",
       "9741   193609        Andrew Dice Clay: Dice Rules    \n",
       "\n",
       "                                           genres  Year  \n",
       "0     Adventure|Animation|Children|Comedy|Fantasy  1995  \n",
       "1                      Adventure|Children|Fantasy  1995  \n",
       "2                                  Comedy|Romance  1995  \n",
       "3                            Comedy|Drama|Romance  1995  \n",
       "4                                          Comedy  1995  \n",
       "...                                           ...   ...  \n",
       "9737              Action|Animation|Comedy|Fantasy  2017  \n",
       "9738                     Animation|Comedy|Fantasy  2017  \n",
       "9739                                        Drama  2017  \n",
       "9740                             Action|Animation  2018  \n",
       "9741                                       Comedy  1991  \n",
       "\n",
       "[9742 rows x 4 columns]"
      ]
     },
     "execution_count": 5,
     "metadata": {},
     "output_type": "execute_result"
    }
   ],
   "source": [
    "# Replace the year in the title column with a whitespace\n",
    "movie[\"title\"]= movie.title.str.replace(\"(\\(\\d\\d\\d\\d\\))\",\"\",regex=True)\n",
    "movie"
   ]
  },
  {
   "cell_type": "code",
   "execution_count": 6,
   "id": "b0759706",
   "metadata": {
    "execution": {
     "iopub.execute_input": "2023-02-19T08:22:15.637110Z",
     "iopub.status.busy": "2023-02-19T08:22:15.636127Z",
     "iopub.status.idle": "2023-02-19T08:22:15.656534Z",
     "shell.execute_reply": "2023-02-19T08:22:15.655247Z"
    },
    "papermill": {
     "duration": 0.035704,
     "end_time": "2023-02-19T08:22:15.659676",
     "exception": false,
     "start_time": "2023-02-19T08:22:15.623972",
     "status": "completed"
    },
    "tags": []
   },
   "outputs": [
    {
     "data": {
      "text/html": [
       "<div>\n",
       "<style scoped>\n",
       "    .dataframe tbody tr th:only-of-type {\n",
       "        vertical-align: middle;\n",
       "    }\n",
       "\n",
       "    .dataframe tbody tr th {\n",
       "        vertical-align: top;\n",
       "    }\n",
       "\n",
       "    .dataframe thead th {\n",
       "        text-align: right;\n",
       "    }\n",
       "</style>\n",
       "<table border=\"1\" class=\"dataframe\">\n",
       "  <thead>\n",
       "    <tr style=\"text-align: right;\">\n",
       "      <th></th>\n",
       "      <th>movieId</th>\n",
       "      <th>title</th>\n",
       "      <th>genres</th>\n",
       "      <th>Year</th>\n",
       "    </tr>\n",
       "  </thead>\n",
       "  <tbody>\n",
       "    <tr>\n",
       "      <th>0</th>\n",
       "      <td>1</td>\n",
       "      <td>Toy Story</td>\n",
       "      <td>Adventure|Animation|Children|Comedy|Fantasy</td>\n",
       "      <td>1995</td>\n",
       "    </tr>\n",
       "    <tr>\n",
       "      <th>1</th>\n",
       "      <td>2</td>\n",
       "      <td>Jumanji</td>\n",
       "      <td>Adventure|Children|Fantasy</td>\n",
       "      <td>1995</td>\n",
       "    </tr>\n",
       "    <tr>\n",
       "      <th>2</th>\n",
       "      <td>3</td>\n",
       "      <td>Grumpier Old Men</td>\n",
       "      <td>Comedy|Romance</td>\n",
       "      <td>1995</td>\n",
       "    </tr>\n",
       "  </tbody>\n",
       "</table>\n",
       "</div>"
      ],
      "text/plain": [
       "   movieId             title                                       genres  \\\n",
       "0        1         Toy Story  Adventure|Animation|Children|Comedy|Fantasy   \n",
       "1        2           Jumanji                   Adventure|Children|Fantasy   \n",
       "2        3  Grumpier Old Men                               Comedy|Romance   \n",
       "\n",
       "   Year  \n",
       "0  1995  \n",
       "1  1995  \n",
       "2  1995  "
      ]
     },
     "execution_count": 6,
     "metadata": {},
     "output_type": "execute_result"
    }
   ],
   "source": [
    "# Removing extra spaces from begining and ending\n",
    "# apply strip() to the 'title' column to remove extra spaces\n",
    "movie['title'] = movie['title'].str.strip()\n",
    "movie.head(3)"
   ]
  },
  {
   "cell_type": "code",
   "execution_count": 7,
   "id": "3fc33bf4",
   "metadata": {
    "execution": {
     "iopub.execute_input": "2023-02-19T08:22:15.682520Z",
     "iopub.status.busy": "2023-02-19T08:22:15.682002Z",
     "iopub.status.idle": "2023-02-19T08:22:15.704241Z",
     "shell.execute_reply": "2023-02-19T08:22:15.703179Z"
    },
    "papermill": {
     "duration": 0.036286,
     "end_time": "2023-02-19T08:22:15.706452",
     "exception": false,
     "start_time": "2023-02-19T08:22:15.670166",
     "status": "completed"
    },
    "tags": []
   },
   "outputs": [
    {
     "data": {
      "text/html": [
       "<div>\n",
       "<style scoped>\n",
       "    .dataframe tbody tr th:only-of-type {\n",
       "        vertical-align: middle;\n",
       "    }\n",
       "\n",
       "    .dataframe tbody tr th {\n",
       "        vertical-align: top;\n",
       "    }\n",
       "\n",
       "    .dataframe thead th {\n",
       "        text-align: right;\n",
       "    }\n",
       "</style>\n",
       "<table border=\"1\" class=\"dataframe\">\n",
       "  <thead>\n",
       "    <tr style=\"text-align: right;\">\n",
       "      <th></th>\n",
       "      <th>movieId</th>\n",
       "      <th>title</th>\n",
       "      <th>genres</th>\n",
       "      <th>Year</th>\n",
       "    </tr>\n",
       "  </thead>\n",
       "  <tbody>\n",
       "    <tr>\n",
       "      <th>0</th>\n",
       "      <td>1</td>\n",
       "      <td>Toy Story</td>\n",
       "      <td>adventure|animation|children|comedy|fantasy</td>\n",
       "      <td>1995</td>\n",
       "    </tr>\n",
       "    <tr>\n",
       "      <th>1</th>\n",
       "      <td>2</td>\n",
       "      <td>Jumanji</td>\n",
       "      <td>adventure|children|fantasy</td>\n",
       "      <td>1995</td>\n",
       "    </tr>\n",
       "    <tr>\n",
       "      <th>2</th>\n",
       "      <td>3</td>\n",
       "      <td>Grumpier Old Men</td>\n",
       "      <td>comedy|romance</td>\n",
       "      <td>1995</td>\n",
       "    </tr>\n",
       "    <tr>\n",
       "      <th>3</th>\n",
       "      <td>4</td>\n",
       "      <td>Waiting to Exhale</td>\n",
       "      <td>comedy|drama|romance</td>\n",
       "      <td>1995</td>\n",
       "    </tr>\n",
       "    <tr>\n",
       "      <th>4</th>\n",
       "      <td>5</td>\n",
       "      <td>Father of the Bride Part II</td>\n",
       "      <td>comedy</td>\n",
       "      <td>1995</td>\n",
       "    </tr>\n",
       "    <tr>\n",
       "      <th>...</th>\n",
       "      <td>...</td>\n",
       "      <td>...</td>\n",
       "      <td>...</td>\n",
       "      <td>...</td>\n",
       "    </tr>\n",
       "    <tr>\n",
       "      <th>9737</th>\n",
       "      <td>193581</td>\n",
       "      <td>Black Butler: Book of the Atlantic</td>\n",
       "      <td>action|animation|comedy|fantasy</td>\n",
       "      <td>2017</td>\n",
       "    </tr>\n",
       "    <tr>\n",
       "      <th>9738</th>\n",
       "      <td>193583</td>\n",
       "      <td>No Game No Life: Zero</td>\n",
       "      <td>animation|comedy|fantasy</td>\n",
       "      <td>2017</td>\n",
       "    </tr>\n",
       "    <tr>\n",
       "      <th>9739</th>\n",
       "      <td>193585</td>\n",
       "      <td>Flint</td>\n",
       "      <td>drama</td>\n",
       "      <td>2017</td>\n",
       "    </tr>\n",
       "    <tr>\n",
       "      <th>9740</th>\n",
       "      <td>193587</td>\n",
       "      <td>Bungo Stray Dogs: Dead Apple</td>\n",
       "      <td>action|animation</td>\n",
       "      <td>2018</td>\n",
       "    </tr>\n",
       "    <tr>\n",
       "      <th>9741</th>\n",
       "      <td>193609</td>\n",
       "      <td>Andrew Dice Clay: Dice Rules</td>\n",
       "      <td>comedy</td>\n",
       "      <td>1991</td>\n",
       "    </tr>\n",
       "  </tbody>\n",
       "</table>\n",
       "<p>9742 rows × 4 columns</p>\n",
       "</div>"
      ],
      "text/plain": [
       "      movieId                               title  \\\n",
       "0           1                           Toy Story   \n",
       "1           2                             Jumanji   \n",
       "2           3                    Grumpier Old Men   \n",
       "3           4                   Waiting to Exhale   \n",
       "4           5         Father of the Bride Part II   \n",
       "...       ...                                 ...   \n",
       "9737   193581  Black Butler: Book of the Atlantic   \n",
       "9738   193583               No Game No Life: Zero   \n",
       "9739   193585                               Flint   \n",
       "9740   193587        Bungo Stray Dogs: Dead Apple   \n",
       "9741   193609        Andrew Dice Clay: Dice Rules   \n",
       "\n",
       "                                           genres  Year  \n",
       "0     adventure|animation|children|comedy|fantasy  1995  \n",
       "1                      adventure|children|fantasy  1995  \n",
       "2                                  comedy|romance  1995  \n",
       "3                            comedy|drama|romance  1995  \n",
       "4                                          comedy  1995  \n",
       "...                                           ...   ...  \n",
       "9737              action|animation|comedy|fantasy  2017  \n",
       "9738                     animation|comedy|fantasy  2017  \n",
       "9739                                        drama  2017  \n",
       "9740                             action|animation  2018  \n",
       "9741                                       comedy  1991  \n",
       "\n",
       "[9742 rows x 4 columns]"
      ]
     },
     "execution_count": 7,
     "metadata": {},
     "output_type": "execute_result"
    }
   ],
   "source": [
    "# apply lower to the genres\n",
    "movie[\"genres\"] = movie[\"genres\"].apply(lambda x:x.lower())\n",
    "movie"
   ]
  },
  {
   "cell_type": "code",
   "execution_count": 8,
   "id": "628cbe93",
   "metadata": {
    "execution": {
     "iopub.execute_input": "2023-02-19T08:22:15.730035Z",
     "iopub.status.busy": "2023-02-19T08:22:15.729120Z",
     "iopub.status.idle": "2023-02-19T08:22:15.751872Z",
     "shell.execute_reply": "2023-02-19T08:22:15.750986Z"
    },
    "papermill": {
     "duration": 0.036933,
     "end_time": "2023-02-19T08:22:15.754196",
     "exception": false,
     "start_time": "2023-02-19T08:22:15.717263",
     "status": "completed"
    },
    "tags": []
   },
   "outputs": [
    {
     "data": {
      "text/html": [
       "<div>\n",
       "<style scoped>\n",
       "    .dataframe tbody tr th:only-of-type {\n",
       "        vertical-align: middle;\n",
       "    }\n",
       "\n",
       "    .dataframe tbody tr th {\n",
       "        vertical-align: top;\n",
       "    }\n",
       "\n",
       "    .dataframe thead th {\n",
       "        text-align: right;\n",
       "    }\n",
       "</style>\n",
       "<table border=\"1\" class=\"dataframe\">\n",
       "  <thead>\n",
       "    <tr style=\"text-align: right;\">\n",
       "      <th></th>\n",
       "      <th>userId</th>\n",
       "      <th>movieId</th>\n",
       "      <th>tag</th>\n",
       "      <th>timestamp</th>\n",
       "    </tr>\n",
       "  </thead>\n",
       "  <tbody>\n",
       "    <tr>\n",
       "      <th>0</th>\n",
       "      <td>2</td>\n",
       "      <td>60756</td>\n",
       "      <td>funny</td>\n",
       "      <td>1445714994</td>\n",
       "    </tr>\n",
       "    <tr>\n",
       "      <th>1</th>\n",
       "      <td>2</td>\n",
       "      <td>60756</td>\n",
       "      <td>Highly quotable</td>\n",
       "      <td>1445714996</td>\n",
       "    </tr>\n",
       "    <tr>\n",
       "      <th>2</th>\n",
       "      <td>2</td>\n",
       "      <td>60756</td>\n",
       "      <td>will ferrell</td>\n",
       "      <td>1445714992</td>\n",
       "    </tr>\n",
       "  </tbody>\n",
       "</table>\n",
       "</div>"
      ],
      "text/plain": [
       "   userId  movieId              tag   timestamp\n",
       "0       2    60756            funny  1445714994\n",
       "1       2    60756  Highly quotable  1445714996\n",
       "2       2    60756     will ferrell  1445714992"
      ]
     },
     "execution_count": 8,
     "metadata": {},
     "output_type": "execute_result"
    }
   ],
   "source": [
    "# import tags file\n",
    "tag = pd.read_csv(\"/kaggle/input/movie-lens-small-latest-dataset/tags.csv\")\n",
    "tag.head(3)"
   ]
  },
  {
   "cell_type": "code",
   "execution_count": 9,
   "id": "11abb58d",
   "metadata": {
    "execution": {
     "iopub.execute_input": "2023-02-19T08:22:15.778290Z",
     "iopub.status.busy": "2023-02-19T08:22:15.777586Z",
     "iopub.status.idle": "2023-02-19T08:22:15.809679Z",
     "shell.execute_reply": "2023-02-19T08:22:15.808430Z"
    },
    "papermill": {
     "duration": 0.047377,
     "end_time": "2023-02-19T08:22:15.812397",
     "exception": false,
     "start_time": "2023-02-19T08:22:15.765020",
     "status": "completed"
    },
    "tags": []
   },
   "outputs": [
    {
     "data": {
      "text/html": [
       "<div>\n",
       "<style scoped>\n",
       "    .dataframe tbody tr th:only-of-type {\n",
       "        vertical-align: middle;\n",
       "    }\n",
       "\n",
       "    .dataframe tbody tr th {\n",
       "        vertical-align: top;\n",
       "    }\n",
       "\n",
       "    .dataframe thead th {\n",
       "        text-align: right;\n",
       "    }\n",
       "</style>\n",
       "<table border=\"1\" class=\"dataframe\">\n",
       "  <thead>\n",
       "    <tr style=\"text-align: right;\">\n",
       "      <th></th>\n",
       "      <th>movieId</th>\n",
       "      <th>title</th>\n",
       "      <th>genres</th>\n",
       "      <th>Year</th>\n",
       "      <th>userId</th>\n",
       "      <th>tag</th>\n",
       "      <th>timestamp</th>\n",
       "    </tr>\n",
       "  </thead>\n",
       "  <tbody>\n",
       "    <tr>\n",
       "      <th>0</th>\n",
       "      <td>1</td>\n",
       "      <td>Toy Story</td>\n",
       "      <td>adventure|animation|children|comedy|fantasy</td>\n",
       "      <td>1995</td>\n",
       "      <td>336.0</td>\n",
       "      <td>pixar</td>\n",
       "      <td>1.139046e+09</td>\n",
       "    </tr>\n",
       "    <tr>\n",
       "      <th>1</th>\n",
       "      <td>1</td>\n",
       "      <td>Toy Story</td>\n",
       "      <td>adventure|animation|children|comedy|fantasy</td>\n",
       "      <td>1995</td>\n",
       "      <td>474.0</td>\n",
       "      <td>pixar</td>\n",
       "      <td>1.137207e+09</td>\n",
       "    </tr>\n",
       "    <tr>\n",
       "      <th>2</th>\n",
       "      <td>1</td>\n",
       "      <td>Toy Story</td>\n",
       "      <td>adventure|animation|children|comedy|fantasy</td>\n",
       "      <td>1995</td>\n",
       "      <td>567.0</td>\n",
       "      <td>fun</td>\n",
       "      <td>1.525286e+09</td>\n",
       "    </tr>\n",
       "  </tbody>\n",
       "</table>\n",
       "</div>"
      ],
      "text/plain": [
       "   movieId      title                                       genres  Year  \\\n",
       "0        1  Toy Story  adventure|animation|children|comedy|fantasy  1995   \n",
       "1        1  Toy Story  adventure|animation|children|comedy|fantasy  1995   \n",
       "2        1  Toy Story  adventure|animation|children|comedy|fantasy  1995   \n",
       "\n",
       "   userId    tag     timestamp  \n",
       "0   336.0  pixar  1.139046e+09  \n",
       "1   474.0  pixar  1.137207e+09  \n",
       "2   567.0    fun  1.525286e+09  "
      ]
     },
     "execution_count": 9,
     "metadata": {},
     "output_type": "execute_result"
    }
   ],
   "source": [
    "# merge  movie and tag file \n",
    "df = pd.merge(movie,tag,on=\"movieId\",how=\"left\")\n",
    "df.head(3)"
   ]
  },
  {
   "cell_type": "code",
   "execution_count": 10,
   "id": "1e446bdd",
   "metadata": {
    "execution": {
     "iopub.execute_input": "2023-02-19T08:22:15.836871Z",
     "iopub.status.busy": "2023-02-19T08:22:15.835743Z",
     "iopub.status.idle": "2023-02-19T08:22:16.010945Z",
     "shell.execute_reply": "2023-02-19T08:22:16.010065Z"
    },
    "papermill": {
     "duration": 0.189991,
     "end_time": "2023-02-19T08:22:16.013296",
     "exception": false,
     "start_time": "2023-02-19T08:22:15.823305",
     "status": "completed"
    },
    "tags": []
   },
   "outputs": [
    {
     "data": {
      "text/html": [
       "<div>\n",
       "<style scoped>\n",
       "    .dataframe tbody tr th:only-of-type {\n",
       "        vertical-align: middle;\n",
       "    }\n",
       "\n",
       "    .dataframe tbody tr th {\n",
       "        vertical-align: top;\n",
       "    }\n",
       "\n",
       "    .dataframe thead th {\n",
       "        text-align: right;\n",
       "    }\n",
       "</style>\n",
       "<table border=\"1\" class=\"dataframe\">\n",
       "  <thead>\n",
       "    <tr style=\"text-align: right;\">\n",
       "      <th></th>\n",
       "      <th>tag</th>\n",
       "    </tr>\n",
       "    <tr>\n",
       "      <th>movieId</th>\n",
       "      <th></th>\n",
       "    </tr>\n",
       "  </thead>\n",
       "  <tbody>\n",
       "    <tr>\n",
       "      <th>1</th>\n",
       "      <td>pixar pixar fun</td>\n",
       "    </tr>\n",
       "    <tr>\n",
       "      <th>2</th>\n",
       "      <td>fantasy magic board game Robin Williams game</td>\n",
       "    </tr>\n",
       "    <tr>\n",
       "      <th>3</th>\n",
       "      <td>moldy old</td>\n",
       "    </tr>\n",
       "    <tr>\n",
       "      <th>4</th>\n",
       "      <td></td>\n",
       "    </tr>\n",
       "    <tr>\n",
       "      <th>5</th>\n",
       "      <td>pregnancy remake</td>\n",
       "    </tr>\n",
       "    <tr>\n",
       "      <th>...</th>\n",
       "      <td>...</td>\n",
       "    </tr>\n",
       "    <tr>\n",
       "      <th>193581</th>\n",
       "      <td></td>\n",
       "    </tr>\n",
       "    <tr>\n",
       "      <th>193583</th>\n",
       "      <td></td>\n",
       "    </tr>\n",
       "    <tr>\n",
       "      <th>193585</th>\n",
       "      <td></td>\n",
       "    </tr>\n",
       "    <tr>\n",
       "      <th>193587</th>\n",
       "      <td></td>\n",
       "    </tr>\n",
       "    <tr>\n",
       "      <th>193609</th>\n",
       "      <td></td>\n",
       "    </tr>\n",
       "  </tbody>\n",
       "</table>\n",
       "<p>9742 rows × 1 columns</p>\n",
       "</div>"
      ],
      "text/plain": [
       "                                                  tag\n",
       "movieId                                              \n",
       "1                                     pixar pixar fun\n",
       "2        fantasy magic board game Robin Williams game\n",
       "3                                           moldy old\n",
       "4                                                    \n",
       "5                                    pregnancy remake\n",
       "...                                               ...\n",
       "193581                                               \n",
       "193583                                               \n",
       "193585                                               \n",
       "193587                                               \n",
       "193609                                               \n",
       "\n",
       "[9742 rows x 1 columns]"
      ]
     },
     "execution_count": 10,
     "metadata": {},
     "output_type": "execute_result"
    }
   ],
   "source": [
    "import pandas as pd\n",
    "\n",
    "# make sure the \"df\" dataframe includes empty strings instead of NaN values\n",
    "df.fillna(\"\", inplace=True)\n",
    "\n",
    "# create a new dataframe that groups tags by movieId and combines them into a single string\n",
    "df = pd.DataFrame(df.groupby(\"movieId\")[\"tag\"].apply(lambda x: \"%s\" % \" \".join(x)))\n",
    "\n",
    "# show the resulting dataframe\n",
    "df\n",
    "\n"
   ]
  },
  {
   "cell_type": "code",
   "execution_count": 11,
   "id": "2cabe124",
   "metadata": {
    "execution": {
     "iopub.execute_input": "2023-02-19T08:22:16.038943Z",
     "iopub.status.busy": "2023-02-19T08:22:16.038443Z",
     "iopub.status.idle": "2023-02-19T08:22:16.147966Z",
     "shell.execute_reply": "2023-02-19T08:22:16.146779Z"
    },
    "papermill": {
     "duration": 0.125671,
     "end_time": "2023-02-19T08:22:16.150547",
     "exception": false,
     "start_time": "2023-02-19T08:22:16.024876",
     "status": "completed"
    },
    "tags": []
   },
   "outputs": [
    {
     "data": {
      "text/plain": [
       "0       pixar pixar fun adventure|animation|children|c...\n",
       "1       fantasy magic board game Robin Williams game a...\n",
       "2                                moldy old comedy|romance\n",
       "3                                    comedy|drama|romance\n",
       "4                                 pregnancy remake comedy\n",
       "                              ...                        \n",
       "9737                      action|animation|comedy|fantasy\n",
       "9738                             animation|comedy|fantasy\n",
       "9739                                                drama\n",
       "9740                                     action|animation\n",
       "9741                                               comedy\n",
       "Name: metadata, Length: 9742, dtype: object"
      ]
     },
     "execution_count": 11,
     "metadata": {},
     "output_type": "execute_result"
    }
   ],
   "source": [
    "#merge movie and df dataset\n",
    "new_df = pd.merge(movie,df ,on = \"movieId\" ,how=\"left\")\n",
    "new_df[\"metadata\"] = new_df[[\"tag\",\"genres\"]].apply(lambda x: \" \".join(x),axis=1)\n",
    "new_df[\"metadata\"]"
   ]
  },
  {
   "cell_type": "code",
   "execution_count": 12,
   "id": "bddfd441",
   "metadata": {
    "execution": {
     "iopub.execute_input": "2023-02-19T08:22:16.177957Z",
     "iopub.status.busy": "2023-02-19T08:22:16.177405Z",
     "iopub.status.idle": "2023-02-19T08:22:16.198790Z",
     "shell.execute_reply": "2023-02-19T08:22:16.197617Z"
    },
    "papermill": {
     "duration": 0.037542,
     "end_time": "2023-02-19T08:22:16.201565",
     "exception": false,
     "start_time": "2023-02-19T08:22:16.164023",
     "status": "completed"
    },
    "tags": []
   },
   "outputs": [
    {
     "data": {
      "text/html": [
       "<div>\n",
       "<style scoped>\n",
       "    .dataframe tbody tr th:only-of-type {\n",
       "        vertical-align: middle;\n",
       "    }\n",
       "\n",
       "    .dataframe tbody tr th {\n",
       "        vertical-align: top;\n",
       "    }\n",
       "\n",
       "    .dataframe thead th {\n",
       "        text-align: right;\n",
       "    }\n",
       "</style>\n",
       "<table border=\"1\" class=\"dataframe\">\n",
       "  <thead>\n",
       "    <tr style=\"text-align: right;\">\n",
       "      <th></th>\n",
       "      <th>movieId</th>\n",
       "      <th>title</th>\n",
       "      <th>metadata</th>\n",
       "      <th>Year</th>\n",
       "    </tr>\n",
       "  </thead>\n",
       "  <tbody>\n",
       "    <tr>\n",
       "      <th>0</th>\n",
       "      <td>1</td>\n",
       "      <td>Toy Story</td>\n",
       "      <td>pixar pixar fun adventure|animation|children|c...</td>\n",
       "      <td>1995</td>\n",
       "    </tr>\n",
       "    <tr>\n",
       "      <th>1</th>\n",
       "      <td>2</td>\n",
       "      <td>Jumanji</td>\n",
       "      <td>fantasy magic board game Robin Williams game a...</td>\n",
       "      <td>1995</td>\n",
       "    </tr>\n",
       "    <tr>\n",
       "      <th>2</th>\n",
       "      <td>3</td>\n",
       "      <td>Grumpier Old Men</td>\n",
       "      <td>moldy old comedy|romance</td>\n",
       "      <td>1995</td>\n",
       "    </tr>\n",
       "    <tr>\n",
       "      <th>3</th>\n",
       "      <td>4</td>\n",
       "      <td>Waiting to Exhale</td>\n",
       "      <td>comedy|drama|romance</td>\n",
       "      <td>1995</td>\n",
       "    </tr>\n",
       "    <tr>\n",
       "      <th>4</th>\n",
       "      <td>5</td>\n",
       "      <td>Father of the Bride Part II</td>\n",
       "      <td>pregnancy remake comedy</td>\n",
       "      <td>1995</td>\n",
       "    </tr>\n",
       "    <tr>\n",
       "      <th>...</th>\n",
       "      <td>...</td>\n",
       "      <td>...</td>\n",
       "      <td>...</td>\n",
       "      <td>...</td>\n",
       "    </tr>\n",
       "    <tr>\n",
       "      <th>9737</th>\n",
       "      <td>193581</td>\n",
       "      <td>Black Butler: Book of the Atlantic</td>\n",
       "      <td>action|animation|comedy|fantasy</td>\n",
       "      <td>2017</td>\n",
       "    </tr>\n",
       "    <tr>\n",
       "      <th>9738</th>\n",
       "      <td>193583</td>\n",
       "      <td>No Game No Life: Zero</td>\n",
       "      <td>animation|comedy|fantasy</td>\n",
       "      <td>2017</td>\n",
       "    </tr>\n",
       "    <tr>\n",
       "      <th>9739</th>\n",
       "      <td>193585</td>\n",
       "      <td>Flint</td>\n",
       "      <td>drama</td>\n",
       "      <td>2017</td>\n",
       "    </tr>\n",
       "    <tr>\n",
       "      <th>9740</th>\n",
       "      <td>193587</td>\n",
       "      <td>Bungo Stray Dogs: Dead Apple</td>\n",
       "      <td>action|animation</td>\n",
       "      <td>2018</td>\n",
       "    </tr>\n",
       "    <tr>\n",
       "      <th>9741</th>\n",
       "      <td>193609</td>\n",
       "      <td>Andrew Dice Clay: Dice Rules</td>\n",
       "      <td>comedy</td>\n",
       "      <td>1991</td>\n",
       "    </tr>\n",
       "  </tbody>\n",
       "</table>\n",
       "<p>9742 rows × 4 columns</p>\n",
       "</div>"
      ],
      "text/plain": [
       "      movieId                               title  \\\n",
       "0           1                           Toy Story   \n",
       "1           2                             Jumanji   \n",
       "2           3                    Grumpier Old Men   \n",
       "3           4                   Waiting to Exhale   \n",
       "4           5         Father of the Bride Part II   \n",
       "...       ...                                 ...   \n",
       "9737   193581  Black Butler: Book of the Atlantic   \n",
       "9738   193583               No Game No Life: Zero   \n",
       "9739   193585                               Flint   \n",
       "9740   193587        Bungo Stray Dogs: Dead Apple   \n",
       "9741   193609        Andrew Dice Clay: Dice Rules   \n",
       "\n",
       "                                               metadata  Year  \n",
       "0     pixar pixar fun adventure|animation|children|c...  1995  \n",
       "1     fantasy magic board game Robin Williams game a...  1995  \n",
       "2                              moldy old comedy|romance  1995  \n",
       "3                                  comedy|drama|romance  1995  \n",
       "4                               pregnancy remake comedy  1995  \n",
       "...                                                 ...   ...  \n",
       "9737                    action|animation|comedy|fantasy  2017  \n",
       "9738                           animation|comedy|fantasy  2017  \n",
       "9739                                              drama  2017  \n",
       "9740                                   action|animation  2018  \n",
       "9741                                             comedy  1991  \n",
       "\n",
       "[9742 rows x 4 columns]"
      ]
     },
     "execution_count": 12,
     "metadata": {},
     "output_type": "execute_result"
    }
   ],
   "source": [
    "# store movieId title metadata year in new_df\n",
    "new_df = new_df[[\"movieId\",\"title\",\"metadata\",\"Year\"]]\n",
    "new_df"
   ]
  },
  {
   "cell_type": "code",
   "execution_count": 13,
   "id": "d5cf1d21",
   "metadata": {
    "execution": {
     "iopub.execute_input": "2023-02-19T08:22:16.227955Z",
     "iopub.status.busy": "2023-02-19T08:22:16.227055Z",
     "iopub.status.idle": "2023-02-19T08:22:16.261063Z",
     "shell.execute_reply": "2023-02-19T08:22:16.259747Z"
    },
    "papermill": {
     "duration": 0.050258,
     "end_time": "2023-02-19T08:22:16.263904",
     "exception": false,
     "start_time": "2023-02-19T08:22:16.213646",
     "status": "completed"
    },
    "tags": []
   },
   "outputs": [
    {
     "data": {
      "text/html": [
       "<div>\n",
       "<style scoped>\n",
       "    .dataframe tbody tr th:only-of-type {\n",
       "        vertical-align: middle;\n",
       "    }\n",
       "\n",
       "    .dataframe tbody tr th {\n",
       "        vertical-align: top;\n",
       "    }\n",
       "\n",
       "    .dataframe thead th {\n",
       "        text-align: right;\n",
       "    }\n",
       "</style>\n",
       "<table border=\"1\" class=\"dataframe\">\n",
       "  <thead>\n",
       "    <tr style=\"text-align: right;\">\n",
       "      <th></th>\n",
       "      <th>movieId</th>\n",
       "      <th>title</th>\n",
       "      <th>metadata</th>\n",
       "      <th>Year</th>\n",
       "    </tr>\n",
       "  </thead>\n",
       "  <tbody>\n",
       "    <tr>\n",
       "      <th>0</th>\n",
       "      <td>1</td>\n",
       "      <td>Toy Story</td>\n",
       "      <td>[pixar pixar fun adventure, animation, childre...</td>\n",
       "      <td>1995</td>\n",
       "    </tr>\n",
       "    <tr>\n",
       "      <th>1</th>\n",
       "      <td>2</td>\n",
       "      <td>Jumanji</td>\n",
       "      <td>[fantasy magic board game Robin Williams game ...</td>\n",
       "      <td>1995</td>\n",
       "    </tr>\n",
       "    <tr>\n",
       "      <th>2</th>\n",
       "      <td>3</td>\n",
       "      <td>Grumpier Old Men</td>\n",
       "      <td>[moldy old comedy, romance]</td>\n",
       "      <td>1995</td>\n",
       "    </tr>\n",
       "    <tr>\n",
       "      <th>3</th>\n",
       "      <td>4</td>\n",
       "      <td>Waiting to Exhale</td>\n",
       "      <td>[ comedy, drama, romance]</td>\n",
       "      <td>1995</td>\n",
       "    </tr>\n",
       "    <tr>\n",
       "      <th>4</th>\n",
       "      <td>5</td>\n",
       "      <td>Father of the Bride Part II</td>\n",
       "      <td>[pregnancy remake comedy]</td>\n",
       "      <td>1995</td>\n",
       "    </tr>\n",
       "    <tr>\n",
       "      <th>...</th>\n",
       "      <td>...</td>\n",
       "      <td>...</td>\n",
       "      <td>...</td>\n",
       "      <td>...</td>\n",
       "    </tr>\n",
       "    <tr>\n",
       "      <th>9737</th>\n",
       "      <td>193581</td>\n",
       "      <td>Black Butler: Book of the Atlantic</td>\n",
       "      <td>[ action, animation, comedy, fantasy]</td>\n",
       "      <td>2017</td>\n",
       "    </tr>\n",
       "    <tr>\n",
       "      <th>9738</th>\n",
       "      <td>193583</td>\n",
       "      <td>No Game No Life: Zero</td>\n",
       "      <td>[ animation, comedy, fantasy]</td>\n",
       "      <td>2017</td>\n",
       "    </tr>\n",
       "    <tr>\n",
       "      <th>9739</th>\n",
       "      <td>193585</td>\n",
       "      <td>Flint</td>\n",
       "      <td>[ drama]</td>\n",
       "      <td>2017</td>\n",
       "    </tr>\n",
       "    <tr>\n",
       "      <th>9740</th>\n",
       "      <td>193587</td>\n",
       "      <td>Bungo Stray Dogs: Dead Apple</td>\n",
       "      <td>[ action, animation]</td>\n",
       "      <td>2018</td>\n",
       "    </tr>\n",
       "    <tr>\n",
       "      <th>9741</th>\n",
       "      <td>193609</td>\n",
       "      <td>Andrew Dice Clay: Dice Rules</td>\n",
       "      <td>[ comedy]</td>\n",
       "      <td>1991</td>\n",
       "    </tr>\n",
       "  </tbody>\n",
       "</table>\n",
       "<p>9742 rows × 4 columns</p>\n",
       "</div>"
      ],
      "text/plain": [
       "      movieId                               title  \\\n",
       "0           1                           Toy Story   \n",
       "1           2                             Jumanji   \n",
       "2           3                    Grumpier Old Men   \n",
       "3           4                   Waiting to Exhale   \n",
       "4           5         Father of the Bride Part II   \n",
       "...       ...                                 ...   \n",
       "9737   193581  Black Butler: Book of the Atlantic   \n",
       "9738   193583               No Game No Life: Zero   \n",
       "9739   193585                               Flint   \n",
       "9740   193587        Bungo Stray Dogs: Dead Apple   \n",
       "9741   193609        Andrew Dice Clay: Dice Rules   \n",
       "\n",
       "                                               metadata  Year  \n",
       "0     [pixar pixar fun adventure, animation, childre...  1995  \n",
       "1     [fantasy magic board game Robin Williams game ...  1995  \n",
       "2                           [moldy old comedy, romance]  1995  \n",
       "3                             [ comedy, drama, romance]  1995  \n",
       "4                             [pregnancy remake comedy]  1995  \n",
       "...                                                 ...   ...  \n",
       "9737              [ action, animation, comedy, fantasy]  2017  \n",
       "9738                      [ animation, comedy, fantasy]  2017  \n",
       "9739                                           [ drama]  2017  \n",
       "9740                               [ action, animation]  2018  \n",
       "9741                                          [ comedy]  1991  \n",
       "\n",
       "[9742 rows x 4 columns]"
      ]
     },
     "execution_count": 13,
     "metadata": {},
     "output_type": "execute_result"
    }
   ],
   "source": [
    "# split |  from metadata \n",
    "new_df[\"metadata\"]=new_df.metadata.str.split(\"|\")\n",
    "new_df"
   ]
  },
  {
   "cell_type": "code",
   "execution_count": 14,
   "id": "231bf204",
   "metadata": {
    "execution": {
     "iopub.execute_input": "2023-02-19T08:22:16.289869Z",
     "iopub.status.busy": "2023-02-19T08:22:16.289375Z",
     "iopub.status.idle": "2023-02-19T08:22:16.296891Z",
     "shell.execute_reply": "2023-02-19T08:22:16.295773Z"
    },
    "papermill": {
     "duration": 0.023099,
     "end_time": "2023-02-19T08:22:16.299071",
     "exception": false,
     "start_time": "2023-02-19T08:22:16.275972",
     "status": "completed"
    },
    "tags": []
   },
   "outputs": [
    {
     "data": {
      "text/plain": [
       "(9742, 4)"
      ]
     },
     "execution_count": 14,
     "metadata": {},
     "output_type": "execute_result"
    }
   ],
   "source": [
    "# find shape of final dataset\n",
    "new_df.shape"
   ]
  },
  {
   "cell_type": "code",
   "execution_count": 15,
   "id": "be6a2801",
   "metadata": {
    "execution": {
     "iopub.execute_input": "2023-02-19T08:22:16.325978Z",
     "iopub.status.busy": "2023-02-19T08:22:16.324564Z",
     "iopub.status.idle": "2023-02-19T08:22:16.359421Z",
     "shell.execute_reply": "2023-02-19T08:22:16.358124Z"
    },
    "papermill": {
     "duration": 0.051042,
     "end_time": "2023-02-19T08:22:16.362051",
     "exception": false,
     "start_time": "2023-02-19T08:22:16.311009",
     "status": "completed"
    },
    "tags": []
   },
   "outputs": [
    {
     "data": {
      "text/html": [
       "<div>\n",
       "<style scoped>\n",
       "    .dataframe tbody tr th:only-of-type {\n",
       "        vertical-align: middle;\n",
       "    }\n",
       "\n",
       "    .dataframe tbody tr th {\n",
       "        vertical-align: top;\n",
       "    }\n",
       "\n",
       "    .dataframe thead th {\n",
       "        text-align: right;\n",
       "    }\n",
       "</style>\n",
       "<table border=\"1\" class=\"dataframe\">\n",
       "  <thead>\n",
       "    <tr style=\"text-align: right;\">\n",
       "      <th></th>\n",
       "      <th>movieId</th>\n",
       "      <th>title</th>\n",
       "      <th>metadata</th>\n",
       "      <th>Year</th>\n",
       "    </tr>\n",
       "  </thead>\n",
       "  <tbody>\n",
       "    <tr>\n",
       "      <th>0</th>\n",
       "      <td>1</td>\n",
       "      <td>Toy Story</td>\n",
       "      <td>[pixarpixarfunadventure, animation, children, ...</td>\n",
       "      <td>1995</td>\n",
       "    </tr>\n",
       "    <tr>\n",
       "      <th>1</th>\n",
       "      <td>2</td>\n",
       "      <td>Jumanji</td>\n",
       "      <td>[fantasymagicboardgameRobinWilliamsgameadventu...</td>\n",
       "      <td>1995</td>\n",
       "    </tr>\n",
       "    <tr>\n",
       "      <th>2</th>\n",
       "      <td>3</td>\n",
       "      <td>Grumpier Old Men</td>\n",
       "      <td>[moldyoldcomedy, romance]</td>\n",
       "      <td>1995</td>\n",
       "    </tr>\n",
       "    <tr>\n",
       "      <th>3</th>\n",
       "      <td>4</td>\n",
       "      <td>Waiting to Exhale</td>\n",
       "      <td>[comedy, drama, romance]</td>\n",
       "      <td>1995</td>\n",
       "    </tr>\n",
       "    <tr>\n",
       "      <th>4</th>\n",
       "      <td>5</td>\n",
       "      <td>Father of the Bride Part II</td>\n",
       "      <td>[pregnancyremakecomedy]</td>\n",
       "      <td>1995</td>\n",
       "    </tr>\n",
       "    <tr>\n",
       "      <th>...</th>\n",
       "      <td>...</td>\n",
       "      <td>...</td>\n",
       "      <td>...</td>\n",
       "      <td>...</td>\n",
       "    </tr>\n",
       "    <tr>\n",
       "      <th>9737</th>\n",
       "      <td>193581</td>\n",
       "      <td>Black Butler: Book of the Atlantic</td>\n",
       "      <td>[action, animation, comedy, fantasy]</td>\n",
       "      <td>2017</td>\n",
       "    </tr>\n",
       "    <tr>\n",
       "      <th>9738</th>\n",
       "      <td>193583</td>\n",
       "      <td>No Game No Life: Zero</td>\n",
       "      <td>[animation, comedy, fantasy]</td>\n",
       "      <td>2017</td>\n",
       "    </tr>\n",
       "    <tr>\n",
       "      <th>9739</th>\n",
       "      <td>193585</td>\n",
       "      <td>Flint</td>\n",
       "      <td>[drama]</td>\n",
       "      <td>2017</td>\n",
       "    </tr>\n",
       "    <tr>\n",
       "      <th>9740</th>\n",
       "      <td>193587</td>\n",
       "      <td>Bungo Stray Dogs: Dead Apple</td>\n",
       "      <td>[action, animation]</td>\n",
       "      <td>2018</td>\n",
       "    </tr>\n",
       "    <tr>\n",
       "      <th>9741</th>\n",
       "      <td>193609</td>\n",
       "      <td>Andrew Dice Clay: Dice Rules</td>\n",
       "      <td>[comedy]</td>\n",
       "      <td>1991</td>\n",
       "    </tr>\n",
       "  </tbody>\n",
       "</table>\n",
       "<p>9742 rows × 4 columns</p>\n",
       "</div>"
      ],
      "text/plain": [
       "      movieId                               title  \\\n",
       "0           1                           Toy Story   \n",
       "1           2                             Jumanji   \n",
       "2           3                    Grumpier Old Men   \n",
       "3           4                   Waiting to Exhale   \n",
       "4           5         Father of the Bride Part II   \n",
       "...       ...                                 ...   \n",
       "9737   193581  Black Butler: Book of the Atlantic   \n",
       "9738   193583               No Game No Life: Zero   \n",
       "9739   193585                               Flint   \n",
       "9740   193587        Bungo Stray Dogs: Dead Apple   \n",
       "9741   193609        Andrew Dice Clay: Dice Rules   \n",
       "\n",
       "                                               metadata  Year  \n",
       "0     [pixarpixarfunadventure, animation, children, ...  1995  \n",
       "1     [fantasymagicboardgameRobinWilliamsgameadventu...  1995  \n",
       "2                             [moldyoldcomedy, romance]  1995  \n",
       "3                              [comedy, drama, romance]  1995  \n",
       "4                               [pregnancyremakecomedy]  1995  \n",
       "...                                                 ...   ...  \n",
       "9737               [action, animation, comedy, fantasy]  2017  \n",
       "9738                       [animation, comedy, fantasy]  2017  \n",
       "9739                                            [drama]  2017  \n",
       "9740                                [action, animation]  2018  \n",
       "9741                                           [comedy]  1991  \n",
       "\n",
       "[9742 rows x 4 columns]"
      ]
     },
     "execution_count": 15,
     "metadata": {},
     "output_type": "execute_result"
    }
   ],
   "source": [
    "# Remove all extra spaces from metadata column\n",
    "new_df['metadata']=new_df['metadata'].apply(lambda x:[i.replace(\" \",\"\") for i in x])\n",
    "new_df"
   ]
  },
  {
   "cell_type": "code",
   "execution_count": 16,
   "id": "a9846582",
   "metadata": {
    "execution": {
     "iopub.execute_input": "2023-02-19T08:22:16.390135Z",
     "iopub.status.busy": "2023-02-19T08:22:16.389271Z",
     "iopub.status.idle": "2023-02-19T08:22:16.410773Z",
     "shell.execute_reply": "2023-02-19T08:22:16.409496Z"
    },
    "papermill": {
     "duration": 0.038771,
     "end_time": "2023-02-19T08:22:16.413552",
     "exception": false,
     "start_time": "2023-02-19T08:22:16.374781",
     "status": "completed"
    },
    "tags": []
   },
   "outputs": [
    {
     "data": {
      "text/html": [
       "<div>\n",
       "<style scoped>\n",
       "    .dataframe tbody tr th:only-of-type {\n",
       "        vertical-align: middle;\n",
       "    }\n",
       "\n",
       "    .dataframe tbody tr th {\n",
       "        vertical-align: top;\n",
       "    }\n",
       "\n",
       "    .dataframe thead th {\n",
       "        text-align: right;\n",
       "    }\n",
       "</style>\n",
       "<table border=\"1\" class=\"dataframe\">\n",
       "  <thead>\n",
       "    <tr style=\"text-align: right;\">\n",
       "      <th></th>\n",
       "      <th>movieId</th>\n",
       "      <th>title</th>\n",
       "      <th>metadata</th>\n",
       "      <th>Year</th>\n",
       "    </tr>\n",
       "  </thead>\n",
       "  <tbody>\n",
       "    <tr>\n",
       "      <th>0</th>\n",
       "      <td>1</td>\n",
       "      <td>Toy Story</td>\n",
       "      <td>pixarpixarfunadventure animation children come...</td>\n",
       "      <td>1995</td>\n",
       "    </tr>\n",
       "    <tr>\n",
       "      <th>1</th>\n",
       "      <td>2</td>\n",
       "      <td>Jumanji</td>\n",
       "      <td>fantasymagicboardgameRobinWilliamsgameadventur...</td>\n",
       "      <td>1995</td>\n",
       "    </tr>\n",
       "    <tr>\n",
       "      <th>2</th>\n",
       "      <td>3</td>\n",
       "      <td>Grumpier Old Men</td>\n",
       "      <td>moldyoldcomedy romance</td>\n",
       "      <td>1995</td>\n",
       "    </tr>\n",
       "    <tr>\n",
       "      <th>3</th>\n",
       "      <td>4</td>\n",
       "      <td>Waiting to Exhale</td>\n",
       "      <td>comedy drama romance</td>\n",
       "      <td>1995</td>\n",
       "    </tr>\n",
       "    <tr>\n",
       "      <th>4</th>\n",
       "      <td>5</td>\n",
       "      <td>Father of the Bride Part II</td>\n",
       "      <td>pregnancyremakecomedy</td>\n",
       "      <td>1995</td>\n",
       "    </tr>\n",
       "    <tr>\n",
       "      <th>...</th>\n",
       "      <td>...</td>\n",
       "      <td>...</td>\n",
       "      <td>...</td>\n",
       "      <td>...</td>\n",
       "    </tr>\n",
       "    <tr>\n",
       "      <th>9737</th>\n",
       "      <td>193581</td>\n",
       "      <td>Black Butler: Book of the Atlantic</td>\n",
       "      <td>action animation comedy fantasy</td>\n",
       "      <td>2017</td>\n",
       "    </tr>\n",
       "    <tr>\n",
       "      <th>9738</th>\n",
       "      <td>193583</td>\n",
       "      <td>No Game No Life: Zero</td>\n",
       "      <td>animation comedy fantasy</td>\n",
       "      <td>2017</td>\n",
       "    </tr>\n",
       "    <tr>\n",
       "      <th>9739</th>\n",
       "      <td>193585</td>\n",
       "      <td>Flint</td>\n",
       "      <td>drama</td>\n",
       "      <td>2017</td>\n",
       "    </tr>\n",
       "    <tr>\n",
       "      <th>9740</th>\n",
       "      <td>193587</td>\n",
       "      <td>Bungo Stray Dogs: Dead Apple</td>\n",
       "      <td>action animation</td>\n",
       "      <td>2018</td>\n",
       "    </tr>\n",
       "    <tr>\n",
       "      <th>9741</th>\n",
       "      <td>193609</td>\n",
       "      <td>Andrew Dice Clay: Dice Rules</td>\n",
       "      <td>comedy</td>\n",
       "      <td>1991</td>\n",
       "    </tr>\n",
       "  </tbody>\n",
       "</table>\n",
       "<p>9742 rows × 4 columns</p>\n",
       "</div>"
      ],
      "text/plain": [
       "      movieId                               title  \\\n",
       "0           1                           Toy Story   \n",
       "1           2                             Jumanji   \n",
       "2           3                    Grumpier Old Men   \n",
       "3           4                   Waiting to Exhale   \n",
       "4           5         Father of the Bride Part II   \n",
       "...       ...                                 ...   \n",
       "9737   193581  Black Butler: Book of the Atlantic   \n",
       "9738   193583               No Game No Life: Zero   \n",
       "9739   193585                               Flint   \n",
       "9740   193587        Bungo Stray Dogs: Dead Apple   \n",
       "9741   193609        Andrew Dice Clay: Dice Rules   \n",
       "\n",
       "                                               metadata  Year  \n",
       "0     pixarpixarfunadventure animation children come...  1995  \n",
       "1     fantasymagicboardgameRobinWilliamsgameadventur...  1995  \n",
       "2                                moldyoldcomedy romance  1995  \n",
       "3                                  comedy drama romance  1995  \n",
       "4                                 pregnancyremakecomedy  1995  \n",
       "...                                                 ...   ...  \n",
       "9737                    action animation comedy fantasy  2017  \n",
       "9738                           animation comedy fantasy  2017  \n",
       "9739                                              drama  2017  \n",
       "9740                                   action animation  2018  \n",
       "9741                                             comedy  1991  \n",
       "\n",
       "[9742 rows x 4 columns]"
      ]
     },
     "execution_count": 16,
     "metadata": {},
     "output_type": "execute_result"
    }
   ],
   "source": [
    "# join metadata spaces\n",
    "new_df['metadata']=new_df['metadata'].apply(lambda x:\" \".join(x))\n",
    "new_df"
   ]
  },
  {
   "cell_type": "code",
   "execution_count": 17,
   "id": "c4623730",
   "metadata": {
    "execution": {
     "iopub.execute_input": "2023-02-19T08:22:16.441159Z",
     "iopub.status.busy": "2023-02-19T08:22:16.440653Z",
     "iopub.status.idle": "2023-02-19T08:22:16.459082Z",
     "shell.execute_reply": "2023-02-19T08:22:16.457866Z"
    },
    "papermill": {
     "duration": 0.035599,
     "end_time": "2023-02-19T08:22:16.461843",
     "exception": false,
     "start_time": "2023-02-19T08:22:16.426244",
     "status": "completed"
    },
    "tags": []
   },
   "outputs": [
    {
     "data": {
      "text/html": [
       "<div>\n",
       "<style scoped>\n",
       "    .dataframe tbody tr th:only-of-type {\n",
       "        vertical-align: middle;\n",
       "    }\n",
       "\n",
       "    .dataframe tbody tr th {\n",
       "        vertical-align: top;\n",
       "    }\n",
       "\n",
       "    .dataframe thead th {\n",
       "        text-align: right;\n",
       "    }\n",
       "</style>\n",
       "<table border=\"1\" class=\"dataframe\">\n",
       "  <thead>\n",
       "    <tr style=\"text-align: right;\">\n",
       "      <th></th>\n",
       "      <th>movieId</th>\n",
       "      <th>title</th>\n",
       "      <th>metadata</th>\n",
       "      <th>Year</th>\n",
       "    </tr>\n",
       "  </thead>\n",
       "  <tbody>\n",
       "    <tr>\n",
       "      <th>0</th>\n",
       "      <td>1</td>\n",
       "      <td>Toy Story</td>\n",
       "      <td>pixarpixarfunadventure animation children come...</td>\n",
       "      <td>1995</td>\n",
       "    </tr>\n",
       "    <tr>\n",
       "      <th>1</th>\n",
       "      <td>2</td>\n",
       "      <td>Jumanji</td>\n",
       "      <td>fantasymagicboardgameRobinWilliamsgameadventur...</td>\n",
       "      <td>1995</td>\n",
       "    </tr>\n",
       "    <tr>\n",
       "      <th>2</th>\n",
       "      <td>3</td>\n",
       "      <td>Grumpier Old Men</td>\n",
       "      <td>moldyoldcomedy romance</td>\n",
       "      <td>1995</td>\n",
       "    </tr>\n",
       "    <tr>\n",
       "      <th>3</th>\n",
       "      <td>4</td>\n",
       "      <td>Waiting to Exhale</td>\n",
       "      <td>comedy drama romance</td>\n",
       "      <td>1995</td>\n",
       "    </tr>\n",
       "    <tr>\n",
       "      <th>4</th>\n",
       "      <td>5</td>\n",
       "      <td>Father of the Bride Part II</td>\n",
       "      <td>pregnancyremakecomedy</td>\n",
       "      <td>1995</td>\n",
       "    </tr>\n",
       "    <tr>\n",
       "      <th>...</th>\n",
       "      <td>...</td>\n",
       "      <td>...</td>\n",
       "      <td>...</td>\n",
       "      <td>...</td>\n",
       "    </tr>\n",
       "    <tr>\n",
       "      <th>9737</th>\n",
       "      <td>193581</td>\n",
       "      <td>Black Butler: Book of the Atlantic</td>\n",
       "      <td>action animation comedy fantasy</td>\n",
       "      <td>2017</td>\n",
       "    </tr>\n",
       "    <tr>\n",
       "      <th>9738</th>\n",
       "      <td>193583</td>\n",
       "      <td>No Game No Life: Zero</td>\n",
       "      <td>animation comedy fantasy</td>\n",
       "      <td>2017</td>\n",
       "    </tr>\n",
       "    <tr>\n",
       "      <th>9739</th>\n",
       "      <td>193585</td>\n",
       "      <td>Flint</td>\n",
       "      <td>drama</td>\n",
       "      <td>2017</td>\n",
       "    </tr>\n",
       "    <tr>\n",
       "      <th>9740</th>\n",
       "      <td>193587</td>\n",
       "      <td>Bungo Stray Dogs: Dead Apple</td>\n",
       "      <td>action animation</td>\n",
       "      <td>2018</td>\n",
       "    </tr>\n",
       "    <tr>\n",
       "      <th>9741</th>\n",
       "      <td>193609</td>\n",
       "      <td>Andrew Dice Clay: Dice Rules</td>\n",
       "      <td>comedy</td>\n",
       "      <td>1991</td>\n",
       "    </tr>\n",
       "  </tbody>\n",
       "</table>\n",
       "<p>9742 rows × 4 columns</p>\n",
       "</div>"
      ],
      "text/plain": [
       "      movieId                               title  \\\n",
       "0           1                           Toy Story   \n",
       "1           2                             Jumanji   \n",
       "2           3                    Grumpier Old Men   \n",
       "3           4                   Waiting to Exhale   \n",
       "4           5         Father of the Bride Part II   \n",
       "...       ...                                 ...   \n",
       "9737   193581  Black Butler: Book of the Atlantic   \n",
       "9738   193583               No Game No Life: Zero   \n",
       "9739   193585                               Flint   \n",
       "9740   193587        Bungo Stray Dogs: Dead Apple   \n",
       "9741   193609        Andrew Dice Clay: Dice Rules   \n",
       "\n",
       "                                               metadata  Year  \n",
       "0     pixarpixarfunadventure animation children come...  1995  \n",
       "1     fantasymagicboardgameRobinWilliamsgameadventur...  1995  \n",
       "2                                moldyoldcomedy romance  1995  \n",
       "3                                  comedy drama romance  1995  \n",
       "4                                 pregnancyremakecomedy  1995  \n",
       "...                                                 ...   ...  \n",
       "9737                    action animation comedy fantasy  2017  \n",
       "9738                           animation comedy fantasy  2017  \n",
       "9739                                              drama  2017  \n",
       "9740                                   action animation  2018  \n",
       "9741                                             comedy  1991  \n",
       "\n",
       "[9742 rows x 4 columns]"
      ]
     },
     "execution_count": 17,
     "metadata": {},
     "output_type": "execute_result"
    }
   ],
   "source": [
    "# check new_df \n",
    "new_df"
   ]
  },
  {
   "cell_type": "code",
   "execution_count": 18,
   "id": "4486bce8",
   "metadata": {
    "execution": {
     "iopub.execute_input": "2023-02-19T08:22:16.490245Z",
     "iopub.status.busy": "2023-02-19T08:22:16.489765Z",
     "iopub.status.idle": "2023-02-19T08:22:16.500422Z",
     "shell.execute_reply": "2023-02-19T08:22:16.499249Z"
    },
    "papermill": {
     "duration": 0.027966,
     "end_time": "2023-02-19T08:22:16.502991",
     "exception": false,
     "start_time": "2023-02-19T08:22:16.475025",
     "status": "completed"
    },
    "tags": []
   },
   "outputs": [
    {
     "data": {
      "text/plain": [
       "Int64Index([1], dtype='int64')"
      ]
     },
     "execution_count": 18,
     "metadata": {},
     "output_type": "execute_result"
    }
   ],
   "source": [
    "# Find indexing position\n",
    "x = new_df[new_df[\"title\"]==\"Jumanji\"].index\n",
    "x"
   ]
  },
  {
   "cell_type": "code",
   "execution_count": 19,
   "id": "7a248216",
   "metadata": {
    "execution": {
     "iopub.execute_input": "2023-02-19T08:22:16.531509Z",
     "iopub.status.busy": "2023-02-19T08:22:16.531043Z",
     "iopub.status.idle": "2023-02-19T08:22:16.541254Z",
     "shell.execute_reply": "2023-02-19T08:22:16.540078Z"
    },
    "papermill": {
     "duration": 0.027416,
     "end_time": "2023-02-19T08:22:16.543524",
     "exception": false,
     "start_time": "2023-02-19T08:22:16.516108",
     "status": "completed"
    },
    "tags": []
   },
   "outputs": [
    {
     "data": {
      "text/plain": [
       "'pixarpixarfunadventure animation children comedy fantasy'"
      ]
     },
     "execution_count": 19,
     "metadata": {},
     "output_type": "execute_result"
    }
   ],
   "source": [
    "# check 0th location of new_df\n",
    "new_df['metadata'][0]"
   ]
  },
  {
   "cell_type": "code",
   "execution_count": 20,
   "id": "059e118d",
   "metadata": {
    "execution": {
     "iopub.execute_input": "2023-02-19T08:22:16.572383Z",
     "iopub.status.busy": "2023-02-19T08:22:16.571903Z",
     "iopub.status.idle": "2023-02-19T08:22:16.581896Z",
     "shell.execute_reply": "2023-02-19T08:22:16.580533Z"
    },
    "papermill": {
     "duration": 0.027667,
     "end_time": "2023-02-19T08:22:16.584533",
     "exception": false,
     "start_time": "2023-02-19T08:22:16.556866",
     "status": "completed"
    },
    "tags": []
   },
   "outputs": [
    {
     "data": {
      "text/plain": [
       "array([[1, 'Toy Story',\n",
       "        'pixarpixarfunadventure animation children comedy fantasy',\n",
       "        '1995'],\n",
       "       [2, 'Jumanji',\n",
       "        'fantasymagicboardgameRobinWilliamsgameadventure children fantasy',\n",
       "        '1995'],\n",
       "       [3, 'Grumpier Old Men', 'moldyoldcomedy romance', '1995'],\n",
       "       ...,\n",
       "       [193585, 'Flint', 'drama', '2017'],\n",
       "       [193587, 'Bungo Stray Dogs: Dead Apple', 'action animation',\n",
       "        '2018'],\n",
       "       [193609, 'Andrew Dice Clay: Dice Rules', 'comedy', '1991']],\n",
       "      dtype=object)"
      ]
     },
     "execution_count": 20,
     "metadata": {},
     "output_type": "execute_result"
    }
   ],
   "source": [
    "# check values of new_df\n",
    "new_df.values\n"
   ]
  },
  {
   "cell_type": "code",
   "execution_count": 21,
   "id": "a1ca2f2c",
   "metadata": {
    "execution": {
     "iopub.execute_input": "2023-02-19T08:22:16.613598Z",
     "iopub.status.busy": "2023-02-19T08:22:16.613096Z",
     "iopub.status.idle": "2023-02-19T08:22:16.621432Z",
     "shell.execute_reply": "2023-02-19T08:22:16.619966Z"
    },
    "papermill": {
     "duration": 0.026276,
     "end_time": "2023-02-19T08:22:16.624270",
     "exception": false,
     "start_time": "2023-02-19T08:22:16.597994",
     "status": "completed"
    },
    "tags": []
   },
   "outputs": [
    {
     "data": {
      "text/plain": [
       "pandas.core.frame.DataFrame"
      ]
     },
     "execution_count": 21,
     "metadata": {},
     "output_type": "execute_result"
    }
   ],
   "source": [
    "# check type of new_df\n",
    "type(new_df)"
   ]
  },
  {
   "cell_type": "code",
   "execution_count": 22,
   "id": "3b0a8e3f",
   "metadata": {
    "execution": {
     "iopub.execute_input": "2023-02-19T08:22:16.653589Z",
     "iopub.status.busy": "2023-02-19T08:22:16.653070Z",
     "iopub.status.idle": "2023-02-19T08:22:16.660473Z",
     "shell.execute_reply": "2023-02-19T08:22:16.659259Z"
    },
    "papermill": {
     "duration": 0.025222,
     "end_time": "2023-02-19T08:22:16.663057",
     "exception": false,
     "start_time": "2023-02-19T08:22:16.637835",
     "status": "completed"
    },
    "tags": []
   },
   "outputs": [
    {
     "data": {
      "text/plain": [
       "(9742, 4)"
      ]
     },
     "execution_count": 22,
     "metadata": {},
     "output_type": "execute_result"
    }
   ],
   "source": [
    "# check shape of dataframe\n",
    "new_df.shape"
   ]
  },
  {
   "cell_type": "markdown",
   "id": "337f32d8",
   "metadata": {
    "papermill": {
     "duration": 0.013274,
     "end_time": "2023-02-19T08:22:16.690119",
     "exception": false,
     "start_time": "2023-02-19T08:22:16.676845",
     "status": "completed"
    },
    "tags": []
   },
   "source": [
    "# Convert Dataframe into sparse matrix"
   ]
  },
  {
   "cell_type": "code",
   "execution_count": 23,
   "id": "65cbb9a5",
   "metadata": {
    "execution": {
     "iopub.execute_input": "2023-02-19T08:22:16.720251Z",
     "iopub.status.busy": "2023-02-19T08:22:16.719397Z",
     "iopub.status.idle": "2023-02-19T08:22:17.864848Z",
     "shell.execute_reply": "2023-02-19T08:22:17.863550Z"
    },
    "papermill": {
     "duration": 1.163968,
     "end_time": "2023-02-19T08:22:17.868008",
     "exception": false,
     "start_time": "2023-02-19T08:22:16.704040",
     "status": "completed"
    },
    "tags": []
   },
   "outputs": [],
   "source": [
    "# for create vector using TfidfVectorizer library\n",
    "from sklearn.feature_extraction.text import TfidfVectorizer \n",
    "tfid = TfidfVectorizer(stop_words='english')\n",
    "new_df['metadata'] = new_df['metadata'].fillna('')"
   ]
  },
  {
   "cell_type": "code",
   "execution_count": 24,
   "id": "310c6608",
   "metadata": {
    "execution": {
     "iopub.execute_input": "2023-02-19T08:22:17.897419Z",
     "iopub.status.busy": "2023-02-19T08:22:17.896918Z",
     "iopub.status.idle": "2023-02-19T08:22:17.976975Z",
     "shell.execute_reply": "2023-02-19T08:22:17.975589Z"
    },
    "papermill": {
     "duration": 0.09794,
     "end_time": "2023-02-19T08:22:17.979693",
     "exception": false,
     "start_time": "2023-02-19T08:22:17.881753",
     "status": "completed"
    },
    "tags": []
   },
   "outputs": [
    {
     "data": {
      "text/plain": [
       "<9742x1360 sparse matrix of type '<class 'numpy.float64'>'\n",
       "\twith 23318 stored elements in Compressed Sparse Row format>"
      ]
     },
     "execution_count": 24,
     "metadata": {},
     "output_type": "execute_result"
    }
   ],
   "source": [
    "tfv_matrix = tfid.fit_transform(new_df['metadata'])\n",
    "tfv_matrix"
   ]
  },
  {
   "cell_type": "code",
   "execution_count": 25,
   "id": "53fd4f7a",
   "metadata": {
    "execution": {
     "iopub.execute_input": "2023-02-19T08:22:18.009650Z",
     "iopub.status.busy": "2023-02-19T08:22:18.008590Z",
     "iopub.status.idle": "2023-02-19T08:22:18.016063Z",
     "shell.execute_reply": "2023-02-19T08:22:18.014990Z"
    },
    "papermill": {
     "duration": 0.025725,
     "end_time": "2023-02-19T08:22:18.019129",
     "exception": false,
     "start_time": "2023-02-19T08:22:17.993404",
     "status": "completed"
    },
    "tags": []
   },
   "outputs": [
    {
     "data": {
      "text/plain": [
       "(9742, 1360)"
      ]
     },
     "execution_count": 25,
     "metadata": {},
     "output_type": "execute_result"
    }
   ],
   "source": [
    "# check shape of matrix\n",
    "tfv_matrix.shape"
   ]
  },
  {
   "cell_type": "code",
   "execution_count": 26,
   "id": "629a9315",
   "metadata": {
    "execution": {
     "iopub.execute_input": "2023-02-19T08:22:18.049454Z",
     "iopub.status.busy": "2023-02-19T08:22:18.048308Z",
     "iopub.status.idle": "2023-02-19T08:22:20.308303Z",
     "shell.execute_reply": "2023-02-19T08:22:20.306949Z"
    },
    "papermill": {
     "duration": 2.278838,
     "end_time": "2023-02-19T08:22:20.311843",
     "exception": false,
     "start_time": "2023-02-19T08:22:18.033005",
     "status": "completed"
    },
    "tags": []
   },
   "outputs": [],
   "source": [
    "# import linear_kernel from sklearn\n",
    "from sklearn.metrics.pairwise import linear_kernel\n",
    "### compute the sigmoid kernel\n",
    "sig = linear_kernel(tfv_matrix, tfv_matrix)"
   ]
  },
  {
   "cell_type": "code",
   "execution_count": 27,
   "id": "1fc0c8f8",
   "metadata": {
    "execution": {
     "iopub.execute_input": "2023-02-19T08:22:20.343959Z",
     "iopub.status.busy": "2023-02-19T08:22:20.343466Z",
     "iopub.status.idle": "2023-02-19T08:22:20.349637Z",
     "shell.execute_reply": "2023-02-19T08:22:20.348730Z"
    },
    "papermill": {
     "duration": 0.026197,
     "end_time": "2023-02-19T08:22:20.351845",
     "exception": false,
     "start_time": "2023-02-19T08:22:20.325648",
     "status": "completed"
    },
    "tags": []
   },
   "outputs": [],
   "source": [
    "# store index of title \n",
    "indices = pd.Series(new_df.index, index=new_df[\"title\"])"
   ]
  },
  {
   "cell_type": "code",
   "execution_count": 28,
   "id": "5d9aa1bc",
   "metadata": {
    "execution": {
     "iopub.execute_input": "2023-02-19T08:22:20.381703Z",
     "iopub.status.busy": "2023-02-19T08:22:20.380597Z",
     "iopub.status.idle": "2023-02-19T08:22:20.391311Z",
     "shell.execute_reply": "2023-02-19T08:22:20.390150Z"
    },
    "papermill": {
     "duration": 0.028064,
     "end_time": "2023-02-19T08:22:20.393620",
     "exception": false,
     "start_time": "2023-02-19T08:22:20.365556",
     "status": "completed"
    },
    "tags": []
   },
   "outputs": [
    {
     "data": {
      "text/plain": [
       "title\n",
       "Toy Story                                0\n",
       "Jumanji                                  1\n",
       "Grumpier Old Men                         2\n",
       "Waiting to Exhale                        3\n",
       "Father of the Bride Part II              4\n",
       "                                      ... \n",
       "Black Butler: Book of the Atlantic    9737\n",
       "No Game No Life: Zero                 9738\n",
       "Flint                                 9739\n",
       "Bungo Stray Dogs: Dead Apple          9740\n",
       "Andrew Dice Clay: Dice Rules          9741\n",
       "Length: 9742, dtype: int64"
      ]
     },
     "execution_count": 28,
     "metadata": {},
     "output_type": "execute_result"
    }
   ],
   "source": [
    "indices"
   ]
  },
  {
   "cell_type": "code",
   "execution_count": 29,
   "id": "1ea1545c",
   "metadata": {
    "execution": {
     "iopub.execute_input": "2023-02-19T08:22:20.423353Z",
     "iopub.status.busy": "2023-02-19T08:22:20.422851Z",
     "iopub.status.idle": "2023-02-19T08:22:20.431633Z",
     "shell.execute_reply": "2023-02-19T08:22:20.430283Z"
    },
    "papermill": {
     "duration": 0.026792,
     "end_time": "2023-02-19T08:22:20.434034",
     "exception": false,
     "start_time": "2023-02-19T08:22:20.407242",
     "status": "completed"
    },
    "tags": []
   },
   "outputs": [
    {
     "data": {
      "text/plain": [
       "0"
      ]
     },
     "execution_count": 29,
     "metadata": {},
     "output_type": "execute_result"
    }
   ],
   "source": [
    "indices[\"Toy Story\"]"
   ]
  },
  {
   "cell_type": "markdown",
   "id": "50c3c6ae",
   "metadata": {
    "papermill": {
     "duration": 0.014008,
     "end_time": "2023-02-19T08:22:20.462106",
     "exception": false,
     "start_time": "2023-02-19T08:22:20.448098",
     "status": "completed"
    },
    "tags": []
   },
   "source": [
    "# Create a function for movie recomendation"
   ]
  },
  {
   "cell_type": "code",
   "execution_count": 30,
   "id": "ba9ef344",
   "metadata": {
    "execution": {
     "iopub.execute_input": "2023-02-19T08:22:20.493474Z",
     "iopub.status.busy": "2023-02-19T08:22:20.492648Z",
     "iopub.status.idle": "2023-02-19T08:22:20.499400Z",
     "shell.execute_reply": "2023-02-19T08:22:20.498375Z"
    },
    "papermill": {
     "duration": 0.02593,
     "end_time": "2023-02-19T08:22:20.502364",
     "exception": false,
     "start_time": "2023-02-19T08:22:20.476434",
     "status": "completed"
    },
    "tags": []
   },
   "outputs": [],
   "source": [
    "def recomend_movie(title,cosine_sin=sig):\n",
    "    idx = indices[title]\n",
    "    sim_scores = enumerate(cosine_sin[idx])\n",
    "    sim_scores = sorted(sim_scores, key=lambda x : x[1], reverse=True)\n",
    "    # how many movies will recomend is set here\n",
    "    sim_scores = sim_scores[1:10]            \n",
    "    movies_indices = [i[0] for i in sim_scores]\n",
    "    movie_rec = new_df['title'].iloc[movies_indices].reset_index\n",
    "    print(movie_rec)"
   ]
  },
  {
   "cell_type": "markdown",
   "id": "a3d7bc5e",
   "metadata": {
    "papermill": {
     "duration": 0.013584,
     "end_time": "2023-02-19T08:22:20.530042",
     "exception": false,
     "start_time": "2023-02-19T08:22:20.516458",
     "status": "completed"
    },
    "tags": []
   },
   "source": [
    "# Recommendation System"
   ]
  },
  {
   "cell_type": "code",
   "execution_count": 31,
   "id": "e6f1d764",
   "metadata": {
    "execution": {
     "iopub.execute_input": "2023-02-19T08:22:20.560941Z",
     "iopub.status.busy": "2023-02-19T08:22:20.560077Z",
     "iopub.status.idle": "2023-02-19T08:22:20.576719Z",
     "shell.execute_reply": "2023-02-19T08:22:20.575131Z"
    },
    "papermill": {
     "duration": 0.035918,
     "end_time": "2023-02-19T08:22:20.580125",
     "exception": false,
     "start_time": "2023-02-19T08:22:20.544207",
     "status": "completed"
    },
    "tags": []
   },
   "outputs": [
    {
     "name": "stdout",
     "output_type": "stream",
     "text": [
      "<bound method Series.reset_index of 7184                          Partly Cloudy\n",
      "7917                                 Presto\n",
      "8273    Cloudy with a Chance of Meatballs 2\n",
      "8674      Stuart Little 3: Call of the Wild\n",
      "9536           Last Year's Snow Was Falling\n",
      "9560                   Wow! A Talking Fish!\n",
      "1584                  All Dogs Go to Heaven\n",
      "2160                             Thumbelina\n",
      "3937                  Care Bears Movie, The\n",
      "Name: title, dtype: object>\n"
     ]
    }
   ],
   "source": [
    "recomend_movie(\"Toy Story\")"
   ]
  },
  {
   "cell_type": "code",
   "execution_count": 32,
   "id": "1be54c6a",
   "metadata": {
    "execution": {
     "iopub.execute_input": "2023-02-19T08:22:20.610806Z",
     "iopub.status.busy": "2023-02-19T08:22:20.610290Z",
     "iopub.status.idle": "2023-02-19T08:22:20.624578Z",
     "shell.execute_reply": "2023-02-19T08:22:20.622413Z"
    },
    "papermill": {
     "duration": 0.033149,
     "end_time": "2023-02-19T08:22:20.627745",
     "exception": false,
     "start_time": "2023-02-19T08:22:20.594596",
     "status": "completed"
    },
    "tags": []
   },
   "outputs": [
    {
     "name": "stdout",
     "output_type": "stream",
     "text": [
      "<bound method Series.reset_index of 864                         Hustler White\n",
      "1128           Kama Sutra: A Tale of Love\n",
      "1130                           Love Jones\n",
      "1140          Love and Other Catastrophes\n",
      "1151            Temptress Moon (Feng Yue)\n",
      "1182                                 Fall\n",
      "1745                       Meet Joe Black\n",
      "1879                  Message in a Bottle\n",
      "2033    Autumn Tale, An (Conte d'automne)\n",
      "Name: title, dtype: object>\n"
     ]
    }
   ],
   "source": [
    "recomend_movie(\"Grumpier Old Men\")"
   ]
  }
 ],
 "metadata": {
  "kernelspec": {
   "display_name": "Python 3",
   "language": "python",
   "name": "python3"
  },
  "language_info": {
   "codemirror_mode": {
    "name": "ipython",
    "version": 3
   },
   "file_extension": ".py",
   "mimetype": "text/x-python",
   "name": "python",
   "nbconvert_exporter": "python",
   "pygments_lexer": "ipython3",
   "version": "3.7.12"
  },
  "papermill": {
   "default_parameters": {},
   "duration": 15.532655,
   "end_time": "2023-02-19T08:22:21.769255",
   "environment_variables": {},
   "exception": null,
   "input_path": "__notebook__.ipynb",
   "output_path": "__notebook__.ipynb",
   "parameters": {},
   "start_time": "2023-02-19T08:22:06.236600",
   "version": "2.3.4"
  }
 },
 "nbformat": 4,
 "nbformat_minor": 5
}
