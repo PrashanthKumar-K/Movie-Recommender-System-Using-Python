{
 "cells": [
  {
   "cell_type": "raw",
   "id": "8e2320fb",
   "metadata": {
    "papermill": {
     "duration": 0.027155,
     "end_time": "2023-02-18T08:42:14.324248",
     "exception": false,
     "start_time": "2023-02-18T08:42:14.297093",
     "status": "completed"
    },
    "tags": []
   },
   "source": []
  },
  {
   "cell_type": "code",
   "execution_count": 1,
   "id": "44c01abc",
   "metadata": {
    "_cell_guid": "b1076dfc-b9ad-4769-8c92-a6c4dae69d19",
    "_uuid": "8f2839f25d086af736a60e9eeb907d3b93b6e0e5",
    "execution": {
     "iopub.execute_input": "2023-02-18T08:42:14.376101Z",
     "iopub.status.busy": "2023-02-18T08:42:14.374920Z",
     "iopub.status.idle": "2023-02-18T08:42:14.396629Z",
     "shell.execute_reply": "2023-02-18T08:42:14.395856Z"
    },
    "papermill": {
     "duration": 0.050471,
     "end_time": "2023-02-18T08:42:14.399177",
     "exception": false,
     "start_time": "2023-02-18T08:42:14.348706",
     "status": "completed"
    },
    "tags": []
   },
   "outputs": [
    {
     "name": "stdout",
     "output_type": "stream",
     "text": [
      "/kaggle/input/the-movies-dataset/ratings.csv\n",
      "/kaggle/input/the-movies-dataset/links_small.csv\n",
      "/kaggle/input/the-movies-dataset/credits.csv\n",
      "/kaggle/input/the-movies-dataset/keywords.csv\n",
      "/kaggle/input/the-movies-dataset/movies_metadata.csv\n",
      "/kaggle/input/the-movies-dataset/ratings_small.csv\n",
      "/kaggle/input/the-movies-dataset/links.csv\n"
     ]
    }
   ],
   "source": [
    "# This Python 3 environment comes with many helpful analytics libraries installed\n",
    "# It is defined by the kaggle/python Docker image: https://github.com/kaggle/docker-python\n",
    "# For example, here's several helpful packages to load\n",
    "\n",
    "import numpy as np # linear algebra\n",
    "import pandas as pd # data processing, CSV file I/O (e.g. pd.read_csv)\n",
    "\n",
    "# Input data files are available in the read-only \"../input/\" directory\n",
    "# For example, running this (by clicking run or pressing Shift+Enter) will list all files under the input directory\n",
    "\n",
    "import os\n",
    "for dirname, _, filenames in os.walk('/kaggle/input'):\n",
    "    for filename in filenames:\n",
    "        print(os.path.join(dirname, filename))\n",
    "\n",
    "# You can write up to 20GB to the current directory (/kaggle/working/) that gets preserved as output when you create a version using \"Save & Run All\" \n",
    "# You can also write temporary files to /kaggle/temp/, but they won't be saved outside of the current session"
   ]
  },
  {
   "cell_type": "markdown",
   "id": "7ceb18f8",
   "metadata": {
    "papermill": {
     "duration": 0.024483,
     "end_time": "2023-02-18T08:42:14.447596",
     "exception": false,
     "start_time": "2023-02-18T08:42:14.423113",
     "status": "completed"
    },
    "tags": []
   },
   "source": [
    "# MOVIE RECOMMENDATION SYSTEMS"
   ]
  },
  {
   "cell_type": "markdown",
   "id": "cc7cbf97",
   "metadata": {
    "papermill": {
     "duration": 0.023742,
     "end_time": "2023-02-18T08:42:14.496086",
     "exception": false,
     "start_time": "2023-02-18T08:42:14.472344",
     "status": "completed"
    },
    "tags": []
   },
   "source": [
    "A recommendation model, in simple terms, is an algorithm that aims to provide the most relevant and relatable information to a user depending on the behaviour of the user. Companies like Netflix and Google have a huge database of the behaviours of data collected to be able to perform state-of-the-art recommendations so that they can display the most relevant content or services to the users to increase engagement."
   ]
  },
  {
   "cell_type": "markdown",
   "id": "4aa5636c",
   "metadata": {
    "papermill": {
     "duration": 0.023197,
     "end_time": "2023-02-18T08:42:14.543219",
     "exception": false,
     "start_time": "2023-02-18T08:42:14.520022",
     "status": "completed"
    },
    "tags": []
   },
   "source": [
    "# Collaborative Filtering"
   ]
  },
  {
   "cell_type": "markdown",
   "id": "97b8793c",
   "metadata": {
    "papermill": {
     "duration": 0.022741,
     "end_time": "2023-02-18T08:42:14.589335",
     "exception": false,
     "start_time": "2023-02-18T08:42:14.566594",
     "status": "completed"
    },
    "tags": []
   },
   "source": [
    "Collaborative filtering tackles the similarities between the users and items to perform recommendations. Meaning that the algorithm constantly finds the relationships between the users and in-turns does the recommendations. The algorithm learns the embeddings between the users without having to tune the features. The most common technique is by performing Matrix Factorization to find the embeddings or features that make up the interest of a particular user."
   ]
  },
  {
   "cell_type": "code",
   "execution_count": 2,
   "id": "7538a611",
   "metadata": {
    "execution": {
     "iopub.execute_input": "2023-02-18T08:42:14.638227Z",
     "iopub.status.busy": "2023-02-18T08:42:14.637866Z",
     "iopub.status.idle": "2023-02-18T08:42:16.403271Z",
     "shell.execute_reply": "2023-02-18T08:42:16.402305Z"
    },
    "papermill": {
     "duration": 1.792705,
     "end_time": "2023-02-18T08:42:16.405796",
     "exception": false,
     "start_time": "2023-02-18T08:42:14.613091",
     "status": "completed"
    },
    "tags": []
   },
   "outputs": [],
   "source": [
    "import pandas as pd\n",
    "import numpy as np\n",
    "\n",
    "import seaborn as sns\n",
    "import plotly.express as px\n",
    "import plotly.graph_objects as go\n",
    "import matplotlib.pyplot as plt\n",
    "\n",
    "from tqdm import tqdm\n",
    "\n",
    "import warnings\n",
    "warnings.filterwarnings('ignore')"
   ]
  },
  {
   "cell_type": "code",
   "execution_count": 3,
   "id": "23b6f847",
   "metadata": {
    "execution": {
     "iopub.execute_input": "2023-02-18T08:42:16.454232Z",
     "iopub.status.busy": "2023-02-18T08:42:16.453630Z",
     "iopub.status.idle": "2023-02-18T08:42:22.241985Z",
     "shell.execute_reply": "2023-02-18T08:42:22.240385Z"
    },
    "papermill": {
     "duration": 5.815613,
     "end_time": "2023-02-18T08:42:22.244722",
     "exception": false,
     "start_time": "2023-02-18T08:42:16.429109",
     "status": "completed"
    },
    "tags": []
   },
   "outputs": [],
   "source": [
    "# Read the movies meta-data(we will be using the feature genre, overview & title from this)\n",
    "movie_md = pd.read_csv(\"../input/the-movies-dataset/movies_metadata.csv\")\n",
    "\n",
    "# Read the keywords\n",
    "movie_keywords = pd.read_csv(\"../input/the-movies-dataset/keywords.csv\")\n",
    "\n",
    "# Read the credits\n",
    "movie_credits = pd.read_csv(\"../input/the-movies-dataset/credits.csv\")"
   ]
  },
  {
   "cell_type": "code",
   "execution_count": 4,
   "id": "b535bd00",
   "metadata": {
    "execution": {
     "iopub.execute_input": "2023-02-18T08:42:22.294494Z",
     "iopub.status.busy": "2023-02-18T08:42:22.294070Z",
     "iopub.status.idle": "2023-02-18T08:42:22.331397Z",
     "shell.execute_reply": "2023-02-18T08:42:22.330223Z"
    },
    "papermill": {
     "duration": 0.065107,
     "end_time": "2023-02-18T08:42:22.334209",
     "exception": false,
     "start_time": "2023-02-18T08:42:22.269102",
     "status": "completed"
    },
    "tags": []
   },
   "outputs": [
    {
     "data": {
      "text/html": [
       "<div>\n",
       "<style scoped>\n",
       "    .dataframe tbody tr th:only-of-type {\n",
       "        vertical-align: middle;\n",
       "    }\n",
       "\n",
       "    .dataframe tbody tr th {\n",
       "        vertical-align: top;\n",
       "    }\n",
       "\n",
       "    .dataframe thead th {\n",
       "        text-align: right;\n",
       "    }\n",
       "</style>\n",
       "<table border=\"1\" class=\"dataframe\">\n",
       "  <thead>\n",
       "    <tr style=\"text-align: right;\">\n",
       "      <th></th>\n",
       "      <th>adult</th>\n",
       "      <th>belongs_to_collection</th>\n",
       "      <th>budget</th>\n",
       "      <th>genres</th>\n",
       "      <th>homepage</th>\n",
       "      <th>id</th>\n",
       "      <th>imdb_id</th>\n",
       "      <th>original_language</th>\n",
       "      <th>original_title</th>\n",
       "      <th>overview</th>\n",
       "      <th>...</th>\n",
       "      <th>release_date</th>\n",
       "      <th>revenue</th>\n",
       "      <th>runtime</th>\n",
       "      <th>spoken_languages</th>\n",
       "      <th>status</th>\n",
       "      <th>tagline</th>\n",
       "      <th>title</th>\n",
       "      <th>video</th>\n",
       "      <th>vote_average</th>\n",
       "      <th>vote_count</th>\n",
       "    </tr>\n",
       "  </thead>\n",
       "  <tbody>\n",
       "    <tr>\n",
       "      <th>0</th>\n",
       "      <td>False</td>\n",
       "      <td>{'id': 10194, 'name': 'Toy Story Collection', ...</td>\n",
       "      <td>30000000</td>\n",
       "      <td>[{'id': 16, 'name': 'Animation'}, {'id': 35, '...</td>\n",
       "      <td>http://toystory.disney.com/toy-story</td>\n",
       "      <td>862</td>\n",
       "      <td>tt0114709</td>\n",
       "      <td>en</td>\n",
       "      <td>Toy Story</td>\n",
       "      <td>Led by Woody, Andy's toys live happily in his ...</td>\n",
       "      <td>...</td>\n",
       "      <td>1995-10-30</td>\n",
       "      <td>373554033.0</td>\n",
       "      <td>81.0</td>\n",
       "      <td>[{'iso_639_1': 'en', 'name': 'English'}]</td>\n",
       "      <td>Released</td>\n",
       "      <td>NaN</td>\n",
       "      <td>Toy Story</td>\n",
       "      <td>False</td>\n",
       "      <td>7.7</td>\n",
       "      <td>5415.0</td>\n",
       "    </tr>\n",
       "    <tr>\n",
       "      <th>1</th>\n",
       "      <td>False</td>\n",
       "      <td>NaN</td>\n",
       "      <td>65000000</td>\n",
       "      <td>[{'id': 12, 'name': 'Adventure'}, {'id': 14, '...</td>\n",
       "      <td>NaN</td>\n",
       "      <td>8844</td>\n",
       "      <td>tt0113497</td>\n",
       "      <td>en</td>\n",
       "      <td>Jumanji</td>\n",
       "      <td>When siblings Judy and Peter discover an encha...</td>\n",
       "      <td>...</td>\n",
       "      <td>1995-12-15</td>\n",
       "      <td>262797249.0</td>\n",
       "      <td>104.0</td>\n",
       "      <td>[{'iso_639_1': 'en', 'name': 'English'}, {'iso...</td>\n",
       "      <td>Released</td>\n",
       "      <td>Roll the dice and unleash the excitement!</td>\n",
       "      <td>Jumanji</td>\n",
       "      <td>False</td>\n",
       "      <td>6.9</td>\n",
       "      <td>2413.0</td>\n",
       "    </tr>\n",
       "    <tr>\n",
       "      <th>2</th>\n",
       "      <td>False</td>\n",
       "      <td>{'id': 119050, 'name': 'Grumpy Old Men Collect...</td>\n",
       "      <td>0</td>\n",
       "      <td>[{'id': 10749, 'name': 'Romance'}, {'id': 35, ...</td>\n",
       "      <td>NaN</td>\n",
       "      <td>15602</td>\n",
       "      <td>tt0113228</td>\n",
       "      <td>en</td>\n",
       "      <td>Grumpier Old Men</td>\n",
       "      <td>A family wedding reignites the ancient feud be...</td>\n",
       "      <td>...</td>\n",
       "      <td>1995-12-22</td>\n",
       "      <td>0.0</td>\n",
       "      <td>101.0</td>\n",
       "      <td>[{'iso_639_1': 'en', 'name': 'English'}]</td>\n",
       "      <td>Released</td>\n",
       "      <td>Still Yelling. Still Fighting. Still Ready for...</td>\n",
       "      <td>Grumpier Old Men</td>\n",
       "      <td>False</td>\n",
       "      <td>6.5</td>\n",
       "      <td>92.0</td>\n",
       "    </tr>\n",
       "    <tr>\n",
       "      <th>3</th>\n",
       "      <td>False</td>\n",
       "      <td>NaN</td>\n",
       "      <td>16000000</td>\n",
       "      <td>[{'id': 35, 'name': 'Comedy'}, {'id': 18, 'nam...</td>\n",
       "      <td>NaN</td>\n",
       "      <td>31357</td>\n",
       "      <td>tt0114885</td>\n",
       "      <td>en</td>\n",
       "      <td>Waiting to Exhale</td>\n",
       "      <td>Cheated on, mistreated and stepped on, the wom...</td>\n",
       "      <td>...</td>\n",
       "      <td>1995-12-22</td>\n",
       "      <td>81452156.0</td>\n",
       "      <td>127.0</td>\n",
       "      <td>[{'iso_639_1': 'en', 'name': 'English'}]</td>\n",
       "      <td>Released</td>\n",
       "      <td>Friends are the people who let you be yourself...</td>\n",
       "      <td>Waiting to Exhale</td>\n",
       "      <td>False</td>\n",
       "      <td>6.1</td>\n",
       "      <td>34.0</td>\n",
       "    </tr>\n",
       "    <tr>\n",
       "      <th>4</th>\n",
       "      <td>False</td>\n",
       "      <td>{'id': 96871, 'name': 'Father of the Bride Col...</td>\n",
       "      <td>0</td>\n",
       "      <td>[{'id': 35, 'name': 'Comedy'}]</td>\n",
       "      <td>NaN</td>\n",
       "      <td>11862</td>\n",
       "      <td>tt0113041</td>\n",
       "      <td>en</td>\n",
       "      <td>Father of the Bride Part II</td>\n",
       "      <td>Just when George Banks has recovered from his ...</td>\n",
       "      <td>...</td>\n",
       "      <td>1995-02-10</td>\n",
       "      <td>76578911.0</td>\n",
       "      <td>106.0</td>\n",
       "      <td>[{'iso_639_1': 'en', 'name': 'English'}]</td>\n",
       "      <td>Released</td>\n",
       "      <td>Just When His World Is Back To Normal... He's ...</td>\n",
       "      <td>Father of the Bride Part II</td>\n",
       "      <td>False</td>\n",
       "      <td>5.7</td>\n",
       "      <td>173.0</td>\n",
       "    </tr>\n",
       "  </tbody>\n",
       "</table>\n",
       "<p>5 rows × 24 columns</p>\n",
       "</div>"
      ],
      "text/plain": [
       "   adult                              belongs_to_collection    budget  \\\n",
       "0  False  {'id': 10194, 'name': 'Toy Story Collection', ...  30000000   \n",
       "1  False                                                NaN  65000000   \n",
       "2  False  {'id': 119050, 'name': 'Grumpy Old Men Collect...         0   \n",
       "3  False                                                NaN  16000000   \n",
       "4  False  {'id': 96871, 'name': 'Father of the Bride Col...         0   \n",
       "\n",
       "                                              genres  \\\n",
       "0  [{'id': 16, 'name': 'Animation'}, {'id': 35, '...   \n",
       "1  [{'id': 12, 'name': 'Adventure'}, {'id': 14, '...   \n",
       "2  [{'id': 10749, 'name': 'Romance'}, {'id': 35, ...   \n",
       "3  [{'id': 35, 'name': 'Comedy'}, {'id': 18, 'nam...   \n",
       "4                     [{'id': 35, 'name': 'Comedy'}]   \n",
       "\n",
       "                               homepage     id    imdb_id original_language  \\\n",
       "0  http://toystory.disney.com/toy-story    862  tt0114709                en   \n",
       "1                                   NaN   8844  tt0113497                en   \n",
       "2                                   NaN  15602  tt0113228                en   \n",
       "3                                   NaN  31357  tt0114885                en   \n",
       "4                                   NaN  11862  tt0113041                en   \n",
       "\n",
       "                original_title  \\\n",
       "0                    Toy Story   \n",
       "1                      Jumanji   \n",
       "2             Grumpier Old Men   \n",
       "3            Waiting to Exhale   \n",
       "4  Father of the Bride Part II   \n",
       "\n",
       "                                            overview  ... release_date  \\\n",
       "0  Led by Woody, Andy's toys live happily in his ...  ...   1995-10-30   \n",
       "1  When siblings Judy and Peter discover an encha...  ...   1995-12-15   \n",
       "2  A family wedding reignites the ancient feud be...  ...   1995-12-22   \n",
       "3  Cheated on, mistreated and stepped on, the wom...  ...   1995-12-22   \n",
       "4  Just when George Banks has recovered from his ...  ...   1995-02-10   \n",
       "\n",
       "       revenue runtime                                   spoken_languages  \\\n",
       "0  373554033.0    81.0           [{'iso_639_1': 'en', 'name': 'English'}]   \n",
       "1  262797249.0   104.0  [{'iso_639_1': 'en', 'name': 'English'}, {'iso...   \n",
       "2          0.0   101.0           [{'iso_639_1': 'en', 'name': 'English'}]   \n",
       "3   81452156.0   127.0           [{'iso_639_1': 'en', 'name': 'English'}]   \n",
       "4   76578911.0   106.0           [{'iso_639_1': 'en', 'name': 'English'}]   \n",
       "\n",
       "     status                                            tagline  \\\n",
       "0  Released                                                NaN   \n",
       "1  Released          Roll the dice and unleash the excitement!   \n",
       "2  Released  Still Yelling. Still Fighting. Still Ready for...   \n",
       "3  Released  Friends are the people who let you be yourself...   \n",
       "4  Released  Just When His World Is Back To Normal... He's ...   \n",
       "\n",
       "                         title  video vote_average vote_count  \n",
       "0                    Toy Story  False          7.7     5415.0  \n",
       "1                      Jumanji  False          6.9     2413.0  \n",
       "2             Grumpier Old Men  False          6.5       92.0  \n",
       "3            Waiting to Exhale  False          6.1       34.0  \n",
       "4  Father of the Bride Part II  False          5.7      173.0  \n",
       "\n",
       "[5 rows x 24 columns]"
      ]
     },
     "execution_count": 4,
     "metadata": {},
     "output_type": "execute_result"
    }
   ],
   "source": [
    "movie_md.head()"
   ]
  },
  {
   "cell_type": "markdown",
   "id": "62bbb790",
   "metadata": {
    "papermill": {
     "duration": 0.023974,
     "end_time": "2023-02-18T08:42:22.382505",
     "exception": false,
     "start_time": "2023-02-18T08:42:22.358531",
     "status": "completed"
    },
    "tags": []
   },
   "source": [
    "We are gonna select movies which have more than 55 vote count"
   ]
  },
  {
   "cell_type": "code",
   "execution_count": 5,
   "id": "e3eb6b02",
   "metadata": {
    "execution": {
     "iopub.execute_input": "2023-02-18T08:42:22.433047Z",
     "iopub.status.busy": "2023-02-18T08:42:22.432601Z",
     "iopub.status.idle": "2023-02-18T08:42:22.446944Z",
     "shell.execute_reply": "2023-02-18T08:42:22.446011Z"
    },
    "papermill": {
     "duration": 0.042206,
     "end_time": "2023-02-18T08:42:22.449224",
     "exception": false,
     "start_time": "2023-02-18T08:42:22.407018",
     "status": "completed"
    },
    "tags": []
   },
   "outputs": [],
   "source": [
    "movie_md = movie_md[movie_md['vote_count']>=55]"
   ]
  },
  {
   "cell_type": "code",
   "execution_count": 6,
   "id": "ec788a3b",
   "metadata": {
    "execution": {
     "iopub.execute_input": "2023-02-18T08:42:22.499920Z",
     "iopub.status.busy": "2023-02-18T08:42:22.499437Z",
     "iopub.status.idle": "2023-02-18T08:42:22.509367Z",
     "shell.execute_reply": "2023-02-18T08:42:22.508026Z"
    },
    "papermill": {
     "duration": 0.038003,
     "end_time": "2023-02-18T08:42:22.511666",
     "exception": false,
     "start_time": "2023-02-18T08:42:22.473663",
     "status": "completed"
    },
    "tags": []
   },
   "outputs": [],
   "source": [
    "movie_md = movie_md[['id','original_title','overview','genres']]"
   ]
  },
  {
   "cell_type": "code",
   "execution_count": 7,
   "id": "e4e8567c",
   "metadata": {
    "execution": {
     "iopub.execute_input": "2023-02-18T08:42:22.563115Z",
     "iopub.status.busy": "2023-02-18T08:42:22.561871Z",
     "iopub.status.idle": "2023-02-18T08:42:22.570106Z",
     "shell.execute_reply": "2023-02-18T08:42:22.569192Z"
    },
    "papermill": {
     "duration": 0.036712,
     "end_time": "2023-02-18T08:42:22.572352",
     "exception": false,
     "start_time": "2023-02-18T08:42:22.535640",
     "status": "completed"
    },
    "tags": []
   },
   "outputs": [],
   "source": [
    "# Creating a duplicate column for title so that once can be used to search later and one for creating features\n",
    "movie_md['title'] = movie_md['original_title'].copy()"
   ]
  },
  {
   "cell_type": "code",
   "execution_count": 8,
   "id": "85b69dff",
   "metadata": {
    "execution": {
     "iopub.execute_input": "2023-02-18T08:42:22.621593Z",
     "iopub.status.busy": "2023-02-18T08:42:22.621222Z",
     "iopub.status.idle": "2023-02-18T08:42:22.633583Z",
     "shell.execute_reply": "2023-02-18T08:42:22.632595Z"
    },
    "papermill": {
     "duration": 0.039831,
     "end_time": "2023-02-18T08:42:22.635950",
     "exception": false,
     "start_time": "2023-02-18T08:42:22.596119",
     "status": "completed"
    },
    "tags": []
   },
   "outputs": [
    {
     "data": {
      "text/html": [
       "<div>\n",
       "<style scoped>\n",
       "    .dataframe tbody tr th:only-of-type {\n",
       "        vertical-align: middle;\n",
       "    }\n",
       "\n",
       "    .dataframe tbody tr th {\n",
       "        vertical-align: top;\n",
       "    }\n",
       "\n",
       "    .dataframe thead th {\n",
       "        text-align: right;\n",
       "    }\n",
       "</style>\n",
       "<table border=\"1\" class=\"dataframe\">\n",
       "  <thead>\n",
       "    <tr style=\"text-align: right;\">\n",
       "      <th></th>\n",
       "      <th>id</th>\n",
       "      <th>original_title</th>\n",
       "      <th>overview</th>\n",
       "      <th>genres</th>\n",
       "      <th>title</th>\n",
       "    </tr>\n",
       "  </thead>\n",
       "  <tbody>\n",
       "    <tr>\n",
       "      <th>0</th>\n",
       "      <td>862</td>\n",
       "      <td>Toy Story</td>\n",
       "      <td>Led by Woody, Andy's toys live happily in his ...</td>\n",
       "      <td>[{'id': 16, 'name': 'Animation'}, {'id': 35, '...</td>\n",
       "      <td>Toy Story</td>\n",
       "    </tr>\n",
       "    <tr>\n",
       "      <th>1</th>\n",
       "      <td>8844</td>\n",
       "      <td>Jumanji</td>\n",
       "      <td>When siblings Judy and Peter discover an encha...</td>\n",
       "      <td>[{'id': 12, 'name': 'Adventure'}, {'id': 14, '...</td>\n",
       "      <td>Jumanji</td>\n",
       "    </tr>\n",
       "    <tr>\n",
       "      <th>2</th>\n",
       "      <td>15602</td>\n",
       "      <td>Grumpier Old Men</td>\n",
       "      <td>A family wedding reignites the ancient feud be...</td>\n",
       "      <td>[{'id': 10749, 'name': 'Romance'}, {'id': 35, ...</td>\n",
       "      <td>Grumpier Old Men</td>\n",
       "    </tr>\n",
       "    <tr>\n",
       "      <th>3</th>\n",
       "      <td>11862</td>\n",
       "      <td>Father of the Bride Part II</td>\n",
       "      <td>Just when George Banks has recovered from his ...</td>\n",
       "      <td>[{'id': 35, 'name': 'Comedy'}]</td>\n",
       "      <td>Father of the Bride Part II</td>\n",
       "    </tr>\n",
       "    <tr>\n",
       "      <th>4</th>\n",
       "      <td>949</td>\n",
       "      <td>Heat</td>\n",
       "      <td>Obsessive master thief, Neil McCauley leads a ...</td>\n",
       "      <td>[{'id': 28, 'name': 'Action'}, {'id': 80, 'nam...</td>\n",
       "      <td>Heat</td>\n",
       "    </tr>\n",
       "  </tbody>\n",
       "</table>\n",
       "</div>"
      ],
      "text/plain": [
       "      id               original_title  \\\n",
       "0    862                    Toy Story   \n",
       "1   8844                      Jumanji   \n",
       "2  15602             Grumpier Old Men   \n",
       "3  11862  Father of the Bride Part II   \n",
       "4    949                         Heat   \n",
       "\n",
       "                                            overview  \\\n",
       "0  Led by Woody, Andy's toys live happily in his ...   \n",
       "1  When siblings Judy and Peter discover an encha...   \n",
       "2  A family wedding reignites the ancient feud be...   \n",
       "3  Just when George Banks has recovered from his ...   \n",
       "4  Obsessive master thief, Neil McCauley leads a ...   \n",
       "\n",
       "                                              genres  \\\n",
       "0  [{'id': 16, 'name': 'Animation'}, {'id': 35, '...   \n",
       "1  [{'id': 12, 'name': 'Adventure'}, {'id': 14, '...   \n",
       "2  [{'id': 10749, 'name': 'Romance'}, {'id': 35, ...   \n",
       "3                     [{'id': 35, 'name': 'Comedy'}]   \n",
       "4  [{'id': 28, 'name': 'Action'}, {'id': 80, 'nam...   \n",
       "\n",
       "                         title  \n",
       "0                    Toy Story  \n",
       "1                      Jumanji  \n",
       "2             Grumpier Old Men  \n",
       "3  Father of the Bride Part II  \n",
       "4                         Heat  "
      ]
     },
     "execution_count": 8,
     "metadata": {},
     "output_type": "execute_result"
    }
   ],
   "source": [
    "movie_md.reset_index(inplace=True, drop=True)\n",
    "movie_md.head()"
   ]
  },
  {
   "cell_type": "markdown",
   "id": "8a131c9f",
   "metadata": {
    "papermill": {
     "duration": 0.02432,
     "end_time": "2023-02-18T08:42:22.684955",
     "exception": false,
     "start_time": "2023-02-18T08:42:22.660635",
     "status": "completed"
    },
    "tags": []
   },
   "source": [
    "From movies metadata column we are going to work with the following features -\n",
    "\n",
    "* Genres\n",
    "\n",
    "* Original Title\n",
    "\n",
    "* Overview\n",
    "\n",
    "* id"
   ]
  },
  {
   "cell_type": "code",
   "execution_count": 9,
   "id": "27bcb697",
   "metadata": {
    "execution": {
     "iopub.execute_input": "2023-02-18T08:42:22.735576Z",
     "iopub.status.busy": "2023-02-18T08:42:22.735186Z",
     "iopub.status.idle": "2023-02-18T08:42:22.745045Z",
     "shell.execute_reply": "2023-02-18T08:42:22.743997Z"
    },
    "papermill": {
     "duration": 0.038024,
     "end_time": "2023-02-18T08:42:22.747425",
     "exception": false,
     "start_time": "2023-02-18T08:42:22.709401",
     "status": "completed"
    },
    "tags": []
   },
   "outputs": [
    {
     "data": {
      "text/html": [
       "<div>\n",
       "<style scoped>\n",
       "    .dataframe tbody tr th:only-of-type {\n",
       "        vertical-align: middle;\n",
       "    }\n",
       "\n",
       "    .dataframe tbody tr th {\n",
       "        vertical-align: top;\n",
       "    }\n",
       "\n",
       "    .dataframe thead th {\n",
       "        text-align: right;\n",
       "    }\n",
       "</style>\n",
       "<table border=\"1\" class=\"dataframe\">\n",
       "  <thead>\n",
       "    <tr style=\"text-align: right;\">\n",
       "      <th></th>\n",
       "      <th>id</th>\n",
       "      <th>keywords</th>\n",
       "    </tr>\n",
       "  </thead>\n",
       "  <tbody>\n",
       "    <tr>\n",
       "      <th>0</th>\n",
       "      <td>862</td>\n",
       "      <td>[{'id': 931, 'name': 'jealousy'}, {'id': 4290,...</td>\n",
       "    </tr>\n",
       "    <tr>\n",
       "      <th>1</th>\n",
       "      <td>8844</td>\n",
       "      <td>[{'id': 10090, 'name': 'board game'}, {'id': 1...</td>\n",
       "    </tr>\n",
       "    <tr>\n",
       "      <th>2</th>\n",
       "      <td>15602</td>\n",
       "      <td>[{'id': 1495, 'name': 'fishing'}, {'id': 12392...</td>\n",
       "    </tr>\n",
       "    <tr>\n",
       "      <th>3</th>\n",
       "      <td>31357</td>\n",
       "      <td>[{'id': 818, 'name': 'based on novel'}, {'id':...</td>\n",
       "    </tr>\n",
       "    <tr>\n",
       "      <th>4</th>\n",
       "      <td>11862</td>\n",
       "      <td>[{'id': 1009, 'name': 'baby'}, {'id': 1599, 'n...</td>\n",
       "    </tr>\n",
       "  </tbody>\n",
       "</table>\n",
       "</div>"
      ],
      "text/plain": [
       "      id                                           keywords\n",
       "0    862  [{'id': 931, 'name': 'jealousy'}, {'id': 4290,...\n",
       "1   8844  [{'id': 10090, 'name': 'board game'}, {'id': 1...\n",
       "2  15602  [{'id': 1495, 'name': 'fishing'}, {'id': 12392...\n",
       "3  31357  [{'id': 818, 'name': 'based on novel'}, {'id':...\n",
       "4  11862  [{'id': 1009, 'name': 'baby'}, {'id': 1599, 'n..."
      ]
     },
     "execution_count": 9,
     "metadata": {},
     "output_type": "execute_result"
    }
   ],
   "source": [
    "movie_keywords.head()"
   ]
  },
  {
   "cell_type": "markdown",
   "id": "697c6fab",
   "metadata": {
    "papermill": {
     "duration": 0.024373,
     "end_time": "2023-02-18T08:42:22.796283",
     "exception": false,
     "start_time": "2023-02-18T08:42:22.771910",
     "status": "completed"
    },
    "tags": []
   },
   "source": [
    "From movies keywords column we are going to work with the following features -\n",
    "\n",
    "* keywords (to fetch the keywords)\n",
    "\n",
    "* id (to merge dataframe)"
   ]
  },
  {
   "cell_type": "code",
   "execution_count": 10,
   "id": "9e7cf627",
   "metadata": {
    "execution": {
     "iopub.execute_input": "2023-02-18T08:42:22.847366Z",
     "iopub.status.busy": "2023-02-18T08:42:22.846981Z",
     "iopub.status.idle": "2023-02-18T08:42:22.857983Z",
     "shell.execute_reply": "2023-02-18T08:42:22.856936Z"
    },
    "papermill": {
     "duration": 0.039371,
     "end_time": "2023-02-18T08:42:22.860237",
     "exception": false,
     "start_time": "2023-02-18T08:42:22.820866",
     "status": "completed"
    },
    "tags": []
   },
   "outputs": [
    {
     "data": {
      "text/html": [
       "<div>\n",
       "<style scoped>\n",
       "    .dataframe tbody tr th:only-of-type {\n",
       "        vertical-align: middle;\n",
       "    }\n",
       "\n",
       "    .dataframe tbody tr th {\n",
       "        vertical-align: top;\n",
       "    }\n",
       "\n",
       "    .dataframe thead th {\n",
       "        text-align: right;\n",
       "    }\n",
       "</style>\n",
       "<table border=\"1\" class=\"dataframe\">\n",
       "  <thead>\n",
       "    <tr style=\"text-align: right;\">\n",
       "      <th></th>\n",
       "      <th>cast</th>\n",
       "      <th>crew</th>\n",
       "      <th>id</th>\n",
       "    </tr>\n",
       "  </thead>\n",
       "  <tbody>\n",
       "    <tr>\n",
       "      <th>0</th>\n",
       "      <td>[{'cast_id': 14, 'character': 'Woody (voice)',...</td>\n",
       "      <td>[{'credit_id': '52fe4284c3a36847f8024f49', 'de...</td>\n",
       "      <td>862</td>\n",
       "    </tr>\n",
       "    <tr>\n",
       "      <th>1</th>\n",
       "      <td>[{'cast_id': 1, 'character': 'Alan Parrish', '...</td>\n",
       "      <td>[{'credit_id': '52fe44bfc3a36847f80a7cd1', 'de...</td>\n",
       "      <td>8844</td>\n",
       "    </tr>\n",
       "    <tr>\n",
       "      <th>2</th>\n",
       "      <td>[{'cast_id': 2, 'character': 'Max Goldman', 'c...</td>\n",
       "      <td>[{'credit_id': '52fe466a9251416c75077a89', 'de...</td>\n",
       "      <td>15602</td>\n",
       "    </tr>\n",
       "    <tr>\n",
       "      <th>3</th>\n",
       "      <td>[{'cast_id': 1, 'character': \"Savannah 'Vannah...</td>\n",
       "      <td>[{'credit_id': '52fe44779251416c91011acb', 'de...</td>\n",
       "      <td>31357</td>\n",
       "    </tr>\n",
       "    <tr>\n",
       "      <th>4</th>\n",
       "      <td>[{'cast_id': 1, 'character': 'George Banks', '...</td>\n",
       "      <td>[{'credit_id': '52fe44959251416c75039ed7', 'de...</td>\n",
       "      <td>11862</td>\n",
       "    </tr>\n",
       "  </tbody>\n",
       "</table>\n",
       "</div>"
      ],
      "text/plain": [
       "                                                cast  \\\n",
       "0  [{'cast_id': 14, 'character': 'Woody (voice)',...   \n",
       "1  [{'cast_id': 1, 'character': 'Alan Parrish', '...   \n",
       "2  [{'cast_id': 2, 'character': 'Max Goldman', 'c...   \n",
       "3  [{'cast_id': 1, 'character': \"Savannah 'Vannah...   \n",
       "4  [{'cast_id': 1, 'character': 'George Banks', '...   \n",
       "\n",
       "                                                crew     id  \n",
       "0  [{'credit_id': '52fe4284c3a36847f8024f49', 'de...    862  \n",
       "1  [{'credit_id': '52fe44bfc3a36847f80a7cd1', 'de...   8844  \n",
       "2  [{'credit_id': '52fe466a9251416c75077a89', 'de...  15602  \n",
       "3  [{'credit_id': '52fe44779251416c91011acb', 'de...  31357  \n",
       "4  [{'credit_id': '52fe44959251416c75039ed7', 'de...  11862  "
      ]
     },
     "execution_count": 10,
     "metadata": {},
     "output_type": "execute_result"
    }
   ],
   "source": [
    "movie_credits.head()"
   ]
  },
  {
   "cell_type": "markdown",
   "id": "082c7a6d",
   "metadata": {
    "papermill": {
     "duration": 0.02438,
     "end_time": "2023-02-18T08:42:22.909394",
     "exception": false,
     "start_time": "2023-02-18T08:42:22.885014",
     "status": "completed"
    },
    "tags": []
   },
   "source": [
    "From movies credits column we are going to work with the following features -\n",
    "\n",
    "* cast - To get the name of the actors\n",
    "* id - To merge dataframe"
   ]
  },
  {
   "cell_type": "code",
   "execution_count": 11,
   "id": "15031d8b",
   "metadata": {
    "execution": {
     "iopub.execute_input": "2023-02-18T08:42:22.960535Z",
     "iopub.status.busy": "2023-02-18T08:42:22.960155Z",
     "iopub.status.idle": "2023-02-18T08:42:22.967761Z",
     "shell.execute_reply": "2023-02-18T08:42:22.966744Z"
    },
    "papermill": {
     "duration": 0.036092,
     "end_time": "2023-02-18T08:42:22.970060",
     "exception": false,
     "start_time": "2023-02-18T08:42:22.933968",
     "status": "completed"
    },
    "tags": []
   },
   "outputs": [],
   "source": [
    "movie_credits = movie_credits[['id','cast']]"
   ]
  },
  {
   "cell_type": "markdown",
   "id": "790236a1",
   "metadata": {
    "papermill": {
     "duration": 0.025484,
     "end_time": "2023-02-18T08:42:23.021118",
     "exception": false,
     "start_time": "2023-02-18T08:42:22.995634",
     "status": "completed"
    },
    "tags": []
   },
   "source": [
    "**Data Cleaning & Preprocessing**"
   ]
  },
  {
   "cell_type": "code",
   "execution_count": 12,
   "id": "e13a2dea",
   "metadata": {
    "execution": {
     "iopub.execute_input": "2023-02-18T08:42:23.073642Z",
     "iopub.status.busy": "2023-02-18T08:42:23.073245Z",
     "iopub.status.idle": "2023-02-18T08:42:23.084435Z",
     "shell.execute_reply": "2023-02-18T08:42:23.083655Z"
    },
    "papermill": {
     "duration": 0.040185,
     "end_time": "2023-02-18T08:42:23.086330",
     "exception": false,
     "start_time": "2023-02-18T08:42:23.046145",
     "status": "completed"
    },
    "tags": []
   },
   "outputs": [],
   "source": [
    "# Removing the records for which the id is not available\n",
    "movie_md = movie_md[movie_md['id'].str.isnumeric()]"
   ]
  },
  {
   "cell_type": "markdown",
   "id": "247915f6",
   "metadata": {
    "papermill": {
     "duration": 0.024356,
     "end_time": "2023-02-18T08:42:23.135465",
     "exception": false,
     "start_time": "2023-02-18T08:42:23.111109",
     "status": "completed"
    },
    "tags": []
   },
   "source": [
    "**Merge dataframes into one single entity******"
   ]
  },
  {
   "cell_type": "code",
   "execution_count": 13,
   "id": "43dac1a0",
   "metadata": {
    "execution": {
     "iopub.execute_input": "2023-02-18T08:42:23.186649Z",
     "iopub.status.busy": "2023-02-18T08:42:23.186209Z",
     "iopub.status.idle": "2023-02-18T08:42:23.215785Z",
     "shell.execute_reply": "2023-02-18T08:42:23.214639Z"
    },
    "papermill": {
     "duration": 0.058159,
     "end_time": "2023-02-18T08:42:23.218108",
     "exception": false,
     "start_time": "2023-02-18T08:42:23.159949",
     "status": "completed"
    },
    "tags": []
   },
   "outputs": [],
   "source": [
    "# Merge all dataframe as a single entity\n",
    "# To merge the ids must be of same datatype\n",
    "movie_md['id'] = movie_md['id'].astype(int)\n",
    "\n",
    "# Merge\n",
    "df = pd.merge(movie_md, movie_keywords, on='id', how='left')\n",
    "\n",
    "# Reset the index\n",
    "df.reset_index(inplace=True, drop=True)"
   ]
  },
  {
   "cell_type": "code",
   "execution_count": 14,
   "id": "c06b145e",
   "metadata": {
    "execution": {
     "iopub.execute_input": "2023-02-18T08:42:23.269259Z",
     "iopub.status.busy": "2023-02-18T08:42:23.268860Z",
     "iopub.status.idle": "2023-02-18T08:42:23.289313Z",
     "shell.execute_reply": "2023-02-18T08:42:23.288540Z"
    },
    "papermill": {
     "duration": 0.048415,
     "end_time": "2023-02-18T08:42:23.291413",
     "exception": false,
     "start_time": "2023-02-18T08:42:23.242998",
     "status": "completed"
    },
    "tags": []
   },
   "outputs": [],
   "source": [
    "# Merge with movie credits\n",
    "df = pd.merge(df, movie_credits, on='id', how='left')\n",
    "\n",
    "# Reset the index\n",
    "df.reset_index(inplace=True, drop=True)"
   ]
  },
  {
   "cell_type": "code",
   "execution_count": 15,
   "id": "7b1133e7",
   "metadata": {
    "execution": {
     "iopub.execute_input": "2023-02-18T08:42:23.342650Z",
     "iopub.status.busy": "2023-02-18T08:42:23.342243Z",
     "iopub.status.idle": "2023-02-18T08:42:23.355987Z",
     "shell.execute_reply": "2023-02-18T08:42:23.354942Z"
    },
    "papermill": {
     "duration": 0.042007,
     "end_time": "2023-02-18T08:42:23.358439",
     "exception": false,
     "start_time": "2023-02-18T08:42:23.316432",
     "status": "completed"
    },
    "tags": []
   },
   "outputs": [
    {
     "data": {
      "text/html": [
       "<div>\n",
       "<style scoped>\n",
       "    .dataframe tbody tr th:only-of-type {\n",
       "        vertical-align: middle;\n",
       "    }\n",
       "\n",
       "    .dataframe tbody tr th {\n",
       "        vertical-align: top;\n",
       "    }\n",
       "\n",
       "    .dataframe thead th {\n",
       "        text-align: right;\n",
       "    }\n",
       "</style>\n",
       "<table border=\"1\" class=\"dataframe\">\n",
       "  <thead>\n",
       "    <tr style=\"text-align: right;\">\n",
       "      <th></th>\n",
       "      <th>id</th>\n",
       "      <th>original_title</th>\n",
       "      <th>overview</th>\n",
       "      <th>genres</th>\n",
       "      <th>title</th>\n",
       "      <th>keywords</th>\n",
       "      <th>cast</th>\n",
       "    </tr>\n",
       "  </thead>\n",
       "  <tbody>\n",
       "    <tr>\n",
       "      <th>0</th>\n",
       "      <td>862</td>\n",
       "      <td>Toy Story</td>\n",
       "      <td>Led by Woody, Andy's toys live happily in his ...</td>\n",
       "      <td>[{'id': 16, 'name': 'Animation'}, {'id': 35, '...</td>\n",
       "      <td>Toy Story</td>\n",
       "      <td>[{'id': 931, 'name': 'jealousy'}, {'id': 4290,...</td>\n",
       "      <td>[{'cast_id': 14, 'character': 'Woody (voice)',...</td>\n",
       "    </tr>\n",
       "    <tr>\n",
       "      <th>1</th>\n",
       "      <td>8844</td>\n",
       "      <td>Jumanji</td>\n",
       "      <td>When siblings Judy and Peter discover an encha...</td>\n",
       "      <td>[{'id': 12, 'name': 'Adventure'}, {'id': 14, '...</td>\n",
       "      <td>Jumanji</td>\n",
       "      <td>[{'id': 10090, 'name': 'board game'}, {'id': 1...</td>\n",
       "      <td>[{'cast_id': 1, 'character': 'Alan Parrish', '...</td>\n",
       "    </tr>\n",
       "    <tr>\n",
       "      <th>2</th>\n",
       "      <td>15602</td>\n",
       "      <td>Grumpier Old Men</td>\n",
       "      <td>A family wedding reignites the ancient feud be...</td>\n",
       "      <td>[{'id': 10749, 'name': 'Romance'}, {'id': 35, ...</td>\n",
       "      <td>Grumpier Old Men</td>\n",
       "      <td>[{'id': 1495, 'name': 'fishing'}, {'id': 12392...</td>\n",
       "      <td>[{'cast_id': 2, 'character': 'Max Goldman', 'c...</td>\n",
       "    </tr>\n",
       "    <tr>\n",
       "      <th>3</th>\n",
       "      <td>11862</td>\n",
       "      <td>Father of the Bride Part II</td>\n",
       "      <td>Just when George Banks has recovered from his ...</td>\n",
       "      <td>[{'id': 35, 'name': 'Comedy'}]</td>\n",
       "      <td>Father of the Bride Part II</td>\n",
       "      <td>[{'id': 1009, 'name': 'baby'}, {'id': 1599, 'n...</td>\n",
       "      <td>[{'cast_id': 1, 'character': 'George Banks', '...</td>\n",
       "    </tr>\n",
       "    <tr>\n",
       "      <th>4</th>\n",
       "      <td>949</td>\n",
       "      <td>Heat</td>\n",
       "      <td>Obsessive master thief, Neil McCauley leads a ...</td>\n",
       "      <td>[{'id': 28, 'name': 'Action'}, {'id': 80, 'nam...</td>\n",
       "      <td>Heat</td>\n",
       "      <td>[{'id': 642, 'name': 'robbery'}, {'id': 703, '...</td>\n",
       "      <td>[{'cast_id': 25, 'character': 'Lt. Vincent Han...</td>\n",
       "    </tr>\n",
       "  </tbody>\n",
       "</table>\n",
       "</div>"
      ],
      "text/plain": [
       "      id               original_title  \\\n",
       "0    862                    Toy Story   \n",
       "1   8844                      Jumanji   \n",
       "2  15602             Grumpier Old Men   \n",
       "3  11862  Father of the Bride Part II   \n",
       "4    949                         Heat   \n",
       "\n",
       "                                            overview  \\\n",
       "0  Led by Woody, Andy's toys live happily in his ...   \n",
       "1  When siblings Judy and Peter discover an encha...   \n",
       "2  A family wedding reignites the ancient feud be...   \n",
       "3  Just when George Banks has recovered from his ...   \n",
       "4  Obsessive master thief, Neil McCauley leads a ...   \n",
       "\n",
       "                                              genres  \\\n",
       "0  [{'id': 16, 'name': 'Animation'}, {'id': 35, '...   \n",
       "1  [{'id': 12, 'name': 'Adventure'}, {'id': 14, '...   \n",
       "2  [{'id': 10749, 'name': 'Romance'}, {'id': 35, ...   \n",
       "3                     [{'id': 35, 'name': 'Comedy'}]   \n",
       "4  [{'id': 28, 'name': 'Action'}, {'id': 80, 'nam...   \n",
       "\n",
       "                         title  \\\n",
       "0                    Toy Story   \n",
       "1                      Jumanji   \n",
       "2             Grumpier Old Men   \n",
       "3  Father of the Bride Part II   \n",
       "4                         Heat   \n",
       "\n",
       "                                            keywords  \\\n",
       "0  [{'id': 931, 'name': 'jealousy'}, {'id': 4290,...   \n",
       "1  [{'id': 10090, 'name': 'board game'}, {'id': 1...   \n",
       "2  [{'id': 1495, 'name': 'fishing'}, {'id': 12392...   \n",
       "3  [{'id': 1009, 'name': 'baby'}, {'id': 1599, 'n...   \n",
       "4  [{'id': 642, 'name': 'robbery'}, {'id': 703, '...   \n",
       "\n",
       "                                                cast  \n",
       "0  [{'cast_id': 14, 'character': 'Woody (voice)',...  \n",
       "1  [{'cast_id': 1, 'character': 'Alan Parrish', '...  \n",
       "2  [{'cast_id': 2, 'character': 'Max Goldman', 'c...  \n",
       "3  [{'cast_id': 1, 'character': 'George Banks', '...  \n",
       "4  [{'cast_id': 25, 'character': 'Lt. Vincent Han...  "
      ]
     },
     "execution_count": 15,
     "metadata": {},
     "output_type": "execute_result"
    }
   ],
   "source": [
    "df.head()"
   ]
  },
  {
   "cell_type": "markdown",
   "id": "02448b9e",
   "metadata": {
    "papermill": {
     "duration": 0.02506,
     "end_time": "2023-02-18T08:42:23.409071",
     "exception": false,
     "start_time": "2023-02-18T08:42:23.384011",
     "status": "completed"
    },
    "tags": []
   },
   "source": [
    "**Let's fetch the genres, keywords, cast to vectorize them later**"
   ]
  },
  {
   "cell_type": "code",
   "execution_count": 16,
   "id": "ab50bc87",
   "metadata": {
    "execution": {
     "iopub.execute_input": "2023-02-18T08:42:23.461575Z",
     "iopub.status.busy": "2023-02-18T08:42:23.461174Z",
     "iopub.status.idle": "2023-02-18T08:42:23.652842Z",
     "shell.execute_reply": "2023-02-18T08:42:23.651688Z"
    },
    "papermill": {
     "duration": 0.221003,
     "end_time": "2023-02-18T08:42:23.655267",
     "exception": false,
     "start_time": "2023-02-18T08:42:23.434264",
     "status": "completed"
    },
    "tags": []
   },
   "outputs": [],
   "source": [
    "# Lets first start with cleaning the movies metadata\n",
    "# Fetchin the genre list from the column\n",
    "df['genres'] = df['genres'].apply(lambda x: [i['name'] for i in eval(x)])\n",
    "\n",
    "# Replaces spaces in between genre(ex - sci fi to scifi) and make it a string\n",
    "df['genres'] = df['genres'].apply(lambda x: ' '.join([i.replace(\" \",\"\") for i in x]))"
   ]
  },
  {
   "cell_type": "code",
   "execution_count": 17,
   "id": "e53c87fe",
   "metadata": {
    "execution": {
     "iopub.execute_input": "2023-02-18T08:42:23.708158Z",
     "iopub.status.busy": "2023-02-18T08:42:23.707343Z",
     "iopub.status.idle": "2023-02-18T08:42:23.714536Z",
     "shell.execute_reply": "2023-02-18T08:42:23.713366Z"
    },
    "papermill": {
     "duration": 0.036088,
     "end_time": "2023-02-18T08:42:23.716852",
     "exception": false,
     "start_time": "2023-02-18T08:42:23.680764",
     "status": "completed"
    },
    "tags": []
   },
   "outputs": [],
   "source": [
    "# Filling the numm values as []\n",
    "df['keywords'].fillna('[]', inplace=True)"
   ]
  },
  {
   "cell_type": "code",
   "execution_count": 18,
   "id": "316a0755",
   "metadata": {
    "execution": {
     "iopub.execute_input": "2023-02-18T08:42:23.768372Z",
     "iopub.status.busy": "2023-02-18T08:42:23.767932Z",
     "iopub.status.idle": "2023-02-18T08:42:24.239921Z",
     "shell.execute_reply": "2023-02-18T08:42:24.238968Z"
    },
    "papermill": {
     "duration": 0.500459,
     "end_time": "2023-02-18T08:42:24.242471",
     "exception": false,
     "start_time": "2023-02-18T08:42:23.742012",
     "status": "completed"
    },
    "tags": []
   },
   "outputs": [],
   "source": [
    "# Let's clean the keywords dataframe to extract the keywords\n",
    "# Fetchin the keyword list from the column     \n",
    "df['keywords'] = df['keywords'].apply(lambda x: [i['name'] for i in eval(x)])\n",
    "\n",
    "# Remove the expty spaces and join all the keyword wwwith spaces\n",
    "df['keywords'] = df['keywords'].apply(lambda x: ' '.join([i.replace(\" \",'') for i in x]))"
   ]
  },
  {
   "cell_type": "code",
   "execution_count": 19,
   "id": "203d641e",
   "metadata": {
    "execution": {
     "iopub.execute_input": "2023-02-18T08:42:24.294363Z",
     "iopub.status.busy": "2023-02-18T08:42:24.294005Z",
     "iopub.status.idle": "2023-02-18T08:42:24.300840Z",
     "shell.execute_reply": "2023-02-18T08:42:24.299768Z"
    },
    "papermill": {
     "duration": 0.034954,
     "end_time": "2023-02-18T08:42:24.302887",
     "exception": false,
     "start_time": "2023-02-18T08:42:24.267933",
     "status": "completed"
    },
    "tags": []
   },
   "outputs": [],
   "source": [
    "# Filling the numm values as []\n",
    "df['cast'].fillna('[]', inplace=True)"
   ]
  },
  {
   "cell_type": "code",
   "execution_count": 20,
   "id": "7d098825",
   "metadata": {
    "execution": {
     "iopub.execute_input": "2023-02-18T08:42:24.354637Z",
     "iopub.status.busy": "2023-02-18T08:42:24.354234Z",
     "iopub.status.idle": "2023-02-18T08:42:28.528036Z",
     "shell.execute_reply": "2023-02-18T08:42:28.525984Z"
    },
    "papermill": {
     "duration": 4.203174,
     "end_time": "2023-02-18T08:42:28.530870",
     "exception": false,
     "start_time": "2023-02-18T08:42:24.327696",
     "status": "completed"
    },
    "tags": []
   },
   "outputs": [],
   "source": [
    "# Let's clean the cast dataframe to extract the name of aactors from cast column\n",
    "# Fetchin the cast list from the column\n",
    "df['cast'] = df['cast'].apply(lambda x: [i['name'] for i in eval(x)])\n",
    "\n",
    "# Remove the expty spaces and join all the cast with spaces\n",
    "df['cast'] = df['cast'].apply(lambda x: ' '.join([i.replace(\" \",'') for i in x]))"
   ]
  },
  {
   "cell_type": "code",
   "execution_count": 21,
   "id": "36d3a304",
   "metadata": {
    "execution": {
     "iopub.execute_input": "2023-02-18T08:42:28.605591Z",
     "iopub.status.busy": "2023-02-18T08:42:28.604588Z",
     "iopub.status.idle": "2023-02-18T08:42:28.617711Z",
     "shell.execute_reply": "2023-02-18T08:42:28.616977Z"
    },
    "papermill": {
     "duration": 0.049517,
     "end_time": "2023-02-18T08:42:28.619795",
     "exception": false,
     "start_time": "2023-02-18T08:42:28.570278",
     "status": "completed"
    },
    "tags": []
   },
   "outputs": [
    {
     "data": {
      "text/html": [
       "<div>\n",
       "<style scoped>\n",
       "    .dataframe tbody tr th:only-of-type {\n",
       "        vertical-align: middle;\n",
       "    }\n",
       "\n",
       "    .dataframe tbody tr th {\n",
       "        vertical-align: top;\n",
       "    }\n",
       "\n",
       "    .dataframe thead th {\n",
       "        text-align: right;\n",
       "    }\n",
       "</style>\n",
       "<table border=\"1\" class=\"dataframe\">\n",
       "  <thead>\n",
       "    <tr style=\"text-align: right;\">\n",
       "      <th></th>\n",
       "      <th>id</th>\n",
       "      <th>original_title</th>\n",
       "      <th>overview</th>\n",
       "      <th>genres</th>\n",
       "      <th>title</th>\n",
       "      <th>keywords</th>\n",
       "      <th>cast</th>\n",
       "    </tr>\n",
       "  </thead>\n",
       "  <tbody>\n",
       "    <tr>\n",
       "      <th>0</th>\n",
       "      <td>862</td>\n",
       "      <td>Toy Story</td>\n",
       "      <td>Led by Woody, Andy's toys live happily in his ...</td>\n",
       "      <td>Animation Comedy Family</td>\n",
       "      <td>Toy Story</td>\n",
       "      <td>jealousy toy boy friendship friends rivalry bo...</td>\n",
       "      <td>TomHanks TimAllen DonRickles JimVarney Wallace...</td>\n",
       "    </tr>\n",
       "    <tr>\n",
       "      <th>1</th>\n",
       "      <td>8844</td>\n",
       "      <td>Jumanji</td>\n",
       "      <td>When siblings Judy and Peter discover an encha...</td>\n",
       "      <td>Adventure Fantasy Family</td>\n",
       "      <td>Jumanji</td>\n",
       "      <td>boardgame disappearance basedonchildren'sbook ...</td>\n",
       "      <td>RobinWilliams JonathanHyde KirstenDunst Bradle...</td>\n",
       "    </tr>\n",
       "    <tr>\n",
       "      <th>2</th>\n",
       "      <td>15602</td>\n",
       "      <td>Grumpier Old Men</td>\n",
       "      <td>A family wedding reignites the ancient feud be...</td>\n",
       "      <td>Romance Comedy</td>\n",
       "      <td>Grumpier Old Men</td>\n",
       "      <td>fishing bestfriend duringcreditsstinger oldmen</td>\n",
       "      <td>WalterMatthau JackLemmon Ann-Margret SophiaLor...</td>\n",
       "    </tr>\n",
       "    <tr>\n",
       "      <th>3</th>\n",
       "      <td>11862</td>\n",
       "      <td>Father of the Bride Part II</td>\n",
       "      <td>Just when George Banks has recovered from his ...</td>\n",
       "      <td>Comedy</td>\n",
       "      <td>Father of the Bride Part II</td>\n",
       "      <td>baby midlifecrisis confidence aging daughter m...</td>\n",
       "      <td>SteveMartin DianeKeaton MartinShort KimberlyWi...</td>\n",
       "    </tr>\n",
       "    <tr>\n",
       "      <th>4</th>\n",
       "      <td>949</td>\n",
       "      <td>Heat</td>\n",
       "      <td>Obsessive master thief, Neil McCauley leads a ...</td>\n",
       "      <td>Action Crime Drama Thriller</td>\n",
       "      <td>Heat</td>\n",
       "      <td>robbery detective bank obsession chase shootin...</td>\n",
       "      <td>AlPacino RobertDeNiro ValKilmer JonVoight TomS...</td>\n",
       "    </tr>\n",
       "  </tbody>\n",
       "</table>\n",
       "</div>"
      ],
      "text/plain": [
       "      id               original_title  \\\n",
       "0    862                    Toy Story   \n",
       "1   8844                      Jumanji   \n",
       "2  15602             Grumpier Old Men   \n",
       "3  11862  Father of the Bride Part II   \n",
       "4    949                         Heat   \n",
       "\n",
       "                                            overview  \\\n",
       "0  Led by Woody, Andy's toys live happily in his ...   \n",
       "1  When siblings Judy and Peter discover an encha...   \n",
       "2  A family wedding reignites the ancient feud be...   \n",
       "3  Just when George Banks has recovered from his ...   \n",
       "4  Obsessive master thief, Neil McCauley leads a ...   \n",
       "\n",
       "                        genres                        title  \\\n",
       "0      Animation Comedy Family                    Toy Story   \n",
       "1     Adventure Fantasy Family                      Jumanji   \n",
       "2               Romance Comedy             Grumpier Old Men   \n",
       "3                       Comedy  Father of the Bride Part II   \n",
       "4  Action Crime Drama Thriller                         Heat   \n",
       "\n",
       "                                            keywords  \\\n",
       "0  jealousy toy boy friendship friends rivalry bo...   \n",
       "1  boardgame disappearance basedonchildren'sbook ...   \n",
       "2     fishing bestfriend duringcreditsstinger oldmen   \n",
       "3  baby midlifecrisis confidence aging daughter m...   \n",
       "4  robbery detective bank obsession chase shootin...   \n",
       "\n",
       "                                                cast  \n",
       "0  TomHanks TimAllen DonRickles JimVarney Wallace...  \n",
       "1  RobinWilliams JonathanHyde KirstenDunst Bradle...  \n",
       "2  WalterMatthau JackLemmon Ann-Margret SophiaLor...  \n",
       "3  SteveMartin DianeKeaton MartinShort KimberlyWi...  \n",
       "4  AlPacino RobertDeNiro ValKilmer JonVoight TomS...  "
      ]
     },
     "execution_count": 21,
     "metadata": {},
     "output_type": "execute_result"
    }
   ],
   "source": [
    "df.head()"
   ]
  },
  {
   "cell_type": "markdown",
   "id": "45e2c681",
   "metadata": {
    "papermill": {
     "duration": 0.024372,
     "end_time": "2023-02-18T08:42:28.669376",
     "exception": false,
     "start_time": "2023-02-18T08:42:28.645004",
     "status": "completed"
    },
    "tags": []
   },
   "source": [
    "**Let's merge all content/description of movies as a single feature**"
   ]
  },
  {
   "cell_type": "code",
   "execution_count": 22,
   "id": "dc2199c0",
   "metadata": {
    "execution": {
     "iopub.execute_input": "2023-02-18T08:42:28.722009Z",
     "iopub.status.busy": "2023-02-18T08:42:28.721339Z",
     "iopub.status.idle": "2023-02-18T08:42:28.770318Z",
     "shell.execute_reply": "2023-02-18T08:42:28.769170Z"
    },
    "papermill": {
     "duration": 0.07824,
     "end_time": "2023-02-18T08:42:28.772847",
     "exception": false,
     "start_time": "2023-02-18T08:42:28.694607",
     "status": "completed"
    },
    "tags": []
   },
   "outputs": [],
   "source": [
    "df['tags'] = df['overview'] + ' ' + df['genres'] +  ' ' + df['original_title'] + ' ' + df['keywords'] + ' ' + df['cast']"
   ]
  },
  {
   "cell_type": "code",
   "execution_count": 23,
   "id": "f7506bbc",
   "metadata": {
    "execution": {
     "iopub.execute_input": "2023-02-18T08:42:28.825442Z",
     "iopub.status.busy": "2023-02-18T08:42:28.825053Z",
     "iopub.status.idle": "2023-02-18T08:42:28.835694Z",
     "shell.execute_reply": "2023-02-18T08:42:28.834558Z"
    },
    "papermill": {
     "duration": 0.040213,
     "end_time": "2023-02-18T08:42:28.838265",
     "exception": false,
     "start_time": "2023-02-18T08:42:28.798052",
     "status": "completed"
    },
    "tags": []
   },
   "outputs": [],
   "source": [
    "# Delete useless columns\n",
    "df.drop(columns=['genres','overview','original_title','keywords','cast'], inplace=True)"
   ]
  },
  {
   "cell_type": "code",
   "execution_count": 24,
   "id": "b049f22a",
   "metadata": {
    "execution": {
     "iopub.execute_input": "2023-02-18T08:42:28.890825Z",
     "iopub.status.busy": "2023-02-18T08:42:28.890074Z",
     "iopub.status.idle": "2023-02-18T08:42:28.900882Z",
     "shell.execute_reply": "2023-02-18T08:42:28.899800Z"
    },
    "papermill": {
     "duration": 0.039532,
     "end_time": "2023-02-18T08:42:28.903119",
     "exception": false,
     "start_time": "2023-02-18T08:42:28.863587",
     "status": "completed"
    },
    "tags": []
   },
   "outputs": [
    {
     "data": {
      "text/html": [
       "<div>\n",
       "<style scoped>\n",
       "    .dataframe tbody tr th:only-of-type {\n",
       "        vertical-align: middle;\n",
       "    }\n",
       "\n",
       "    .dataframe tbody tr th {\n",
       "        vertical-align: top;\n",
       "    }\n",
       "\n",
       "    .dataframe thead th {\n",
       "        text-align: right;\n",
       "    }\n",
       "</style>\n",
       "<table border=\"1\" class=\"dataframe\">\n",
       "  <thead>\n",
       "    <tr style=\"text-align: right;\">\n",
       "      <th></th>\n",
       "      <th>id</th>\n",
       "      <th>title</th>\n",
       "      <th>tags</th>\n",
       "    </tr>\n",
       "  </thead>\n",
       "  <tbody>\n",
       "    <tr>\n",
       "      <th>0</th>\n",
       "      <td>862</td>\n",
       "      <td>Toy Story</td>\n",
       "      <td>Led by Woody, Andy's toys live happily in his ...</td>\n",
       "    </tr>\n",
       "    <tr>\n",
       "      <th>1</th>\n",
       "      <td>8844</td>\n",
       "      <td>Jumanji</td>\n",
       "      <td>When siblings Judy and Peter discover an encha...</td>\n",
       "    </tr>\n",
       "    <tr>\n",
       "      <th>2</th>\n",
       "      <td>15602</td>\n",
       "      <td>Grumpier Old Men</td>\n",
       "      <td>A family wedding reignites the ancient feud be...</td>\n",
       "    </tr>\n",
       "    <tr>\n",
       "      <th>3</th>\n",
       "      <td>11862</td>\n",
       "      <td>Father of the Bride Part II</td>\n",
       "      <td>Just when George Banks has recovered from his ...</td>\n",
       "    </tr>\n",
       "    <tr>\n",
       "      <th>4</th>\n",
       "      <td>949</td>\n",
       "      <td>Heat</td>\n",
       "      <td>Obsessive master thief, Neil McCauley leads a ...</td>\n",
       "    </tr>\n",
       "  </tbody>\n",
       "</table>\n",
       "</div>"
      ],
      "text/plain": [
       "      id                        title  \\\n",
       "0    862                    Toy Story   \n",
       "1   8844                      Jumanji   \n",
       "2  15602             Grumpier Old Men   \n",
       "3  11862  Father of the Bride Part II   \n",
       "4    949                         Heat   \n",
       "\n",
       "                                                tags  \n",
       "0  Led by Woody, Andy's toys live happily in his ...  \n",
       "1  When siblings Judy and Peter discover an encha...  \n",
       "2  A family wedding reignites the ancient feud be...  \n",
       "3  Just when George Banks has recovered from his ...  \n",
       "4  Obsessive master thief, Neil McCauley leads a ...  "
      ]
     },
     "execution_count": 24,
     "metadata": {},
     "output_type": "execute_result"
    }
   ],
   "source": [
    "df.head()"
   ]
  },
  {
   "cell_type": "code",
   "execution_count": 25,
   "id": "26a39d8e",
   "metadata": {
    "execution": {
     "iopub.execute_input": "2023-02-18T08:42:28.955424Z",
     "iopub.status.busy": "2023-02-18T08:42:28.954864Z",
     "iopub.status.idle": "2023-02-18T08:42:28.965342Z",
     "shell.execute_reply": "2023-02-18T08:42:28.964381Z"
    },
    "papermill": {
     "duration": 0.039115,
     "end_time": "2023-02-18T08:42:28.967559",
     "exception": false,
     "start_time": "2023-02-18T08:42:28.928444",
     "status": "completed"
    },
    "tags": []
   },
   "outputs": [
    {
     "data": {
      "text/plain": [
       "id        0\n",
       "title     0\n",
       "tags     35\n",
       "dtype: int64"
      ]
     },
     "execution_count": 25,
     "metadata": {},
     "output_type": "execute_result"
    }
   ],
   "source": [
    "df.isnull().sum()"
   ]
  },
  {
   "cell_type": "markdown",
   "id": "c5deab2d",
   "metadata": {
    "papermill": {
     "duration": 0.025027,
     "end_time": "2023-02-18T08:42:29.017577",
     "exception": false,
     "start_time": "2023-02-18T08:42:28.992550",
     "status": "completed"
    },
    "tags": []
   },
   "source": [
    "* These null values are the values for which the data was not available, hence, we would have to remove these records inorder to proceed further"
   ]
  },
  {
   "cell_type": "code",
   "execution_count": 26,
   "id": "32e7b07d",
   "metadata": {
    "execution": {
     "iopub.execute_input": "2023-02-18T08:42:29.069989Z",
     "iopub.status.busy": "2023-02-18T08:42:29.069318Z",
     "iopub.status.idle": "2023-02-18T08:42:29.078168Z",
     "shell.execute_reply": "2023-02-18T08:42:29.077159Z"
    },
    "papermill": {
     "duration": 0.037226,
     "end_time": "2023-02-18T08:42:29.080491",
     "exception": false,
     "start_time": "2023-02-18T08:42:29.043265",
     "status": "completed"
    },
    "tags": []
   },
   "outputs": [],
   "source": [
    "df.drop(df[df['tags'].isnull()].index, inplace=True)"
   ]
  },
  {
   "cell_type": "code",
   "execution_count": 27,
   "id": "323880b6",
   "metadata": {
    "execution": {
     "iopub.execute_input": "2023-02-18T08:42:29.132576Z",
     "iopub.status.busy": "2023-02-18T08:42:29.131810Z",
     "iopub.status.idle": "2023-02-18T08:42:29.141772Z",
     "shell.execute_reply": "2023-02-18T08:42:29.141053Z"
    },
    "papermill": {
     "duration": 0.038399,
     "end_time": "2023-02-18T08:42:29.143936",
     "exception": false,
     "start_time": "2023-02-18T08:42:29.105537",
     "status": "completed"
    },
    "tags": []
   },
   "outputs": [
    {
     "data": {
      "text/html": [
       "<div>\n",
       "<style scoped>\n",
       "    .dataframe tbody tr th:only-of-type {\n",
       "        vertical-align: middle;\n",
       "    }\n",
       "\n",
       "    .dataframe tbody tr th {\n",
       "        vertical-align: top;\n",
       "    }\n",
       "\n",
       "    .dataframe thead th {\n",
       "        text-align: right;\n",
       "    }\n",
       "</style>\n",
       "<table border=\"1\" class=\"dataframe\">\n",
       "  <thead>\n",
       "    <tr style=\"text-align: right;\">\n",
       "      <th></th>\n",
       "      <th>id</th>\n",
       "      <th>title</th>\n",
       "      <th>tags</th>\n",
       "    </tr>\n",
       "  </thead>\n",
       "  <tbody>\n",
       "    <tr>\n",
       "      <th>0</th>\n",
       "      <td>862</td>\n",
       "      <td>Toy Story</td>\n",
       "      <td>Led by Woody, Andy's toys live happily in his ...</td>\n",
       "    </tr>\n",
       "    <tr>\n",
       "      <th>1</th>\n",
       "      <td>8844</td>\n",
       "      <td>Jumanji</td>\n",
       "      <td>When siblings Judy and Peter discover an encha...</td>\n",
       "    </tr>\n",
       "    <tr>\n",
       "      <th>2</th>\n",
       "      <td>15602</td>\n",
       "      <td>Grumpier Old Men</td>\n",
       "      <td>A family wedding reignites the ancient feud be...</td>\n",
       "    </tr>\n",
       "    <tr>\n",
       "      <th>3</th>\n",
       "      <td>11862</td>\n",
       "      <td>Father of the Bride Part II</td>\n",
       "      <td>Just when George Banks has recovered from his ...</td>\n",
       "    </tr>\n",
       "    <tr>\n",
       "      <th>4</th>\n",
       "      <td>949</td>\n",
       "      <td>Heat</td>\n",
       "      <td>Obsessive master thief, Neil McCauley leads a ...</td>\n",
       "    </tr>\n",
       "  </tbody>\n",
       "</table>\n",
       "</div>"
      ],
      "text/plain": [
       "      id                        title  \\\n",
       "0    862                    Toy Story   \n",
       "1   8844                      Jumanji   \n",
       "2  15602             Grumpier Old Men   \n",
       "3  11862  Father of the Bride Part II   \n",
       "4    949                         Heat   \n",
       "\n",
       "                                                tags  \n",
       "0  Led by Woody, Andy's toys live happily in his ...  \n",
       "1  When siblings Judy and Peter discover an encha...  \n",
       "2  A family wedding reignites the ancient feud be...  \n",
       "3  Just when George Banks has recovered from his ...  \n",
       "4  Obsessive master thief, Neil McCauley leads a ...  "
      ]
     },
     "execution_count": 27,
     "metadata": {},
     "output_type": "execute_result"
    }
   ],
   "source": [
    "df.head()"
   ]
  },
  {
   "cell_type": "code",
   "execution_count": 28,
   "id": "48beaec6",
   "metadata": {
    "execution": {
     "iopub.execute_input": "2023-02-18T08:42:29.197446Z",
     "iopub.status.busy": "2023-02-18T08:42:29.196843Z",
     "iopub.status.idle": "2023-02-18T08:42:29.203023Z",
     "shell.execute_reply": "2023-02-18T08:42:29.202031Z"
    },
    "papermill": {
     "duration": 0.035619,
     "end_time": "2023-02-18T08:42:29.205205",
     "exception": false,
     "start_time": "2023-02-18T08:42:29.169586",
     "status": "completed"
    },
    "tags": []
   },
   "outputs": [
    {
     "data": {
      "text/plain": [
       "(8735, 3)"
      ]
     },
     "execution_count": 28,
     "metadata": {},
     "output_type": "execute_result"
    }
   ],
   "source": [
    "df.shape"
   ]
  },
  {
   "cell_type": "code",
   "execution_count": 29,
   "id": "2e9abc13",
   "metadata": {
    "execution": {
     "iopub.execute_input": "2023-02-18T08:42:29.259071Z",
     "iopub.status.busy": "2023-02-18T08:42:29.258334Z",
     "iopub.status.idle": "2023-02-18T08:42:29.290337Z",
     "shell.execute_reply": "2023-02-18T08:42:29.289215Z"
    },
    "papermill": {
     "duration": 0.061831,
     "end_time": "2023-02-18T08:42:29.293069",
     "exception": false,
     "start_time": "2023-02-18T08:42:29.231238",
     "status": "completed"
    },
    "tags": []
   },
   "outputs": [],
   "source": [
    "df.drop_duplicates(inplace=True)"
   ]
  },
  {
   "cell_type": "code",
   "execution_count": 30,
   "id": "a3dbb648",
   "metadata": {
    "execution": {
     "iopub.execute_input": "2023-02-18T08:42:29.347667Z",
     "iopub.status.busy": "2023-02-18T08:42:29.347251Z",
     "iopub.status.idle": "2023-02-18T08:42:29.354141Z",
     "shell.execute_reply": "2023-02-18T08:42:29.353093Z"
    },
    "papermill": {
     "duration": 0.036673,
     "end_time": "2023-02-18T08:42:29.356358",
     "exception": false,
     "start_time": "2023-02-18T08:42:29.319685",
     "status": "completed"
    },
    "tags": []
   },
   "outputs": [
    {
     "data": {
      "text/plain": [
       "(8595, 3)"
      ]
     },
     "execution_count": 30,
     "metadata": {},
     "output_type": "execute_result"
    }
   ],
   "source": [
    "df.shape"
   ]
  },
  {
   "cell_type": "markdown",
   "id": "a8df3f4b",
   "metadata": {
    "papermill": {
     "duration": 0.026055,
     "end_time": "2023-02-18T08:42:29.408653",
     "exception": false,
     "start_time": "2023-02-18T08:42:29.382598",
     "status": "completed"
    },
    "tags": []
   },
   "source": [
    "# Collaborative Filtering System:- \n"
   ]
  },
  {
   "cell_type": "markdown",
   "id": "ac40433e",
   "metadata": {
    "papermill": {
     "duration": 0.025298,
     "end_time": "2023-02-18T08:42:29.460161",
     "exception": false,
     "start_time": "2023-02-18T08:42:29.434863",
     "status": "completed"
    },
    "tags": []
   },
   "source": [
    "The engine that was built earlier was not really personal in that it doesn’t capture the personal \n",
    "tastes and biases of a user. Anyone querying the system will receive the same \n",
    "recommendations for that movie, regardless of who she/he is. Collaborative filtering systems \n",
    "differed from the previous approach that didn’t involve other users. This approach is based \n",
    "on the idea that the test user will be recommended movies that are watched and liked by \n",
    "similar users. This type of collaborative filtering approach is called the User-to-User \n",
    "Collaborative filtering approach as we find similar users to our user. It is currently one of the \n",
    "most frequently used approaches and usually provides better results than content-based \n",
    "recommendations. Some examples of this are found in the recommendation systems of \n",
    "YouTube, Netflix, and Spotify. To determine whether the two users are similar or not, we \n",
    "consider the movies watched by both of them and how they rated them. Thus, by looking at \n",
    "items in common, we will predict the ratings a user will give to a movie who hasn’t watched \n",
    "it yet, based on its similar user rates. \n",
    "The algorithms are divided into two categories based on their workings memory based and \n",
    "model based. "
   ]
  },
  {
   "attachments": {
    "d03f63df-af7e-4fa6-b89a-9908f66e6853.png": {
     "image/png": "[encoded data removed]"
    }
   },
   "cell_type": "markdown",
   "id": "4f3f6935",
   "metadata": {
    "papermill": {
     "duration": 0.025497,
     "end_time": "2023-02-18T08:42:29.512262",
     "exception": false,
     "start_time": "2023-02-18T08:42:29.486765",
     "status": "completed"
    },
    "tags": []
   },
   "source": [
    "![image.png](attachment:d03f63df-af7e-4fa6-b89a-9908f66e6853.png)"
   ]
  },
  {
   "cell_type": "markdown",
   "id": "43e99aef",
   "metadata": {
    "papermill": {
     "duration": 0.02518,
     "end_time": "2023-02-18T08:42:29.563307",
     "exception": false,
     "start_time": "2023-02-18T08:42:29.538127",
     "status": "completed"
    },
    "tags": []
   },
   "source": [
    "# Model Based Recommender Systems"
   ]
  },
  {
   "cell_type": "markdown",
   "id": "f7b23a7d",
   "metadata": {
    "papermill": {
     "duration": 0.026343,
     "end_time": "2023-02-18T08:42:29.615870",
     "exception": false,
     "start_time": "2023-02-18T08:42:29.589527",
     "status": "completed"
    },
    "tags": []
   },
   "source": [
    "These methods are based on machine learning and data mining techniques. The goal is to \n",
    "train models to be able to make predictions. Model-based algorithms first construct a model \n",
    "to represent the behavior of the users and, therefore, to predict their ratings. The parameters \n",
    "of the model are estimated using the data from the rating matrix. For instance, we could use \n",
    "existing user-item interactions to train a model to predict the top-10 items that a user might \n",
    "like the most. One advantage of these methods is that they are able to recommend a larger \n",
    "number of items to a larger number of users, compared to other methods like memory-based. \n",
    "We say they have large coverage, even when working with large sparse matrices. In the \n",
    "literature there are different approaches, associated with machine learning: linear algebra \n",
    "methods (SVD etc)\n",
    "\n",
    "Model-based recommendation systems involve building a model based on the dataset of ratings. In other words, we extract some information from the dataset, and use that as a \"model\" to make recommendations without having to use the complete dataset every time.\n",
    "\n",
    "For model based recommender systems we are going to use a library called Surprise and we are going to use SVD as a matrix factorization method.\n",
    "\n"
   ]
  },
  {
   "cell_type": "markdown",
   "id": "7a31cb84",
   "metadata": {
    "papermill": {
     "duration": 0.025945,
     "end_time": "2023-02-18T08:42:29.667995",
     "exception": false,
     "start_time": "2023-02-18T08:42:29.642050",
     "status": "completed"
    },
    "tags": []
   },
   "source": [
    "**Singular Value Decomposition (SVD)**\n",
    "\n",
    "Singular Value Decomposition (SVD) is one of the matrix factorization method in machine learning. Singular value decomposition decomposes a matrix into three other matrices and extracts the features from the factorization of a high-level (user-item-rating) matrix"
   ]
  },
  {
   "attachments": {
    "60059cf6-a630-4b02-9a1b-13e27d539f01.png": {
     "image/png": "[encoded data removed]"
    }
   },
   "cell_type": "markdown",
   "id": "6bf7dd41",
   "metadata": {
    "papermill": {
     "duration": 0.025986,
     "end_time": "2023-02-18T08:42:29.719964",
     "exception": false,
     "start_time": "2023-02-18T08:42:29.693978",
     "status": "completed"
    },
    "tags": []
   },
   "source": [
    "The formula of SVD can be given as -\n",
    "\n",
    "![image.png](attachment:60059cf6-a630-4b02-9a1b-13e27d539f01.png)\n",
    "\n",
    "Where,\n",
    "\n",
    "Matrix U: Latent features of Users\n",
    "\n",
    "Matrix S: Diagonal matrix representing the strength of each feature\n",
    "\n",
    "Matrix U: Latent features of Items"
   ]
  },
  {
   "cell_type": "markdown",
   "id": "58fcb4c2",
   "metadata": {
    "papermill": {
     "duration": 0.025821,
     "end_time": "2023-02-18T08:42:29.772226",
     "exception": false,
     "start_time": "2023-02-18T08:42:29.746405",
     "status": "completed"
    },
    "tags": []
   },
   "source": [
    "**Import Libraries**"
   ]
  },
  {
   "cell_type": "code",
   "execution_count": 31,
   "id": "a5443a1e",
   "metadata": {
    "execution": {
     "iopub.execute_input": "2023-02-18T08:42:29.826143Z",
     "iopub.status.busy": "2023-02-18T08:42:29.825748Z",
     "iopub.status.idle": "2023-02-18T08:42:29.907706Z",
     "shell.execute_reply": "2023-02-18T08:42:29.906498Z"
    },
    "papermill": {
     "duration": 0.112115,
     "end_time": "2023-02-18T08:42:29.910307",
     "exception": false,
     "start_time": "2023-02-18T08:42:29.798192",
     "status": "completed"
    },
    "tags": []
   },
   "outputs": [],
   "source": [
    "from surprise import Dataset, Reader\n",
    "\n",
    "from surprise.prediction_algorithms.matrix_factorization import SVD\n",
    "\n",
    "from surprise import accuracy"
   ]
  },
  {
   "cell_type": "markdown",
   "id": "f8e3a920",
   "metadata": {
    "papermill": {
     "duration": 0.025905,
     "end_time": "2023-02-18T08:42:29.962292",
     "exception": false,
     "start_time": "2023-02-18T08:42:29.936387",
     "status": "completed"
    },
    "tags": []
   },
   "source": [
    "**Read the data**"
   ]
  },
  {
   "cell_type": "code",
   "execution_count": 32,
   "id": "96e50a8b",
   "metadata": {
    "execution": {
     "iopub.execute_input": "2023-02-18T08:42:30.016133Z",
     "iopub.status.busy": "2023-02-18T08:42:30.015678Z",
     "iopub.status.idle": "2023-02-18T08:42:30.739231Z",
     "shell.execute_reply": "2023-02-18T08:42:30.738085Z"
    },
    "papermill": {
     "duration": 0.753519,
     "end_time": "2023-02-18T08:42:30.741675",
     "exception": false,
     "start_time": "2023-02-18T08:42:29.988156",
     "status": "completed"
    },
    "tags": []
   },
   "outputs": [
    {
     "data": {
      "text/html": [
       "<div>\n",
       "<style scoped>\n",
       "    .dataframe tbody tr th:only-of-type {\n",
       "        vertical-align: middle;\n",
       "    }\n",
       "\n",
       "    .dataframe tbody tr th {\n",
       "        vertical-align: top;\n",
       "    }\n",
       "\n",
       "    .dataframe thead th {\n",
       "        text-align: right;\n",
       "    }\n",
       "</style>\n",
       "<table border=\"1\" class=\"dataframe\">\n",
       "  <thead>\n",
       "    <tr style=\"text-align: right;\">\n",
       "      <th></th>\n",
       "      <th>userId</th>\n",
       "      <th>movieId</th>\n",
       "      <th>rating</th>\n",
       "      <th>timestamp</th>\n",
       "    </tr>\n",
       "  </thead>\n",
       "  <tbody>\n",
       "    <tr>\n",
       "      <th>0</th>\n",
       "      <td>1</td>\n",
       "      <td>31</td>\n",
       "      <td>2.5</td>\n",
       "      <td>1260759144</td>\n",
       "    </tr>\n",
       "    <tr>\n",
       "      <th>1</th>\n",
       "      <td>1</td>\n",
       "      <td>1029</td>\n",
       "      <td>3.0</td>\n",
       "      <td>1260759179</td>\n",
       "    </tr>\n",
       "    <tr>\n",
       "      <th>2</th>\n",
       "      <td>1</td>\n",
       "      <td>1061</td>\n",
       "      <td>3.0</td>\n",
       "      <td>1260759182</td>\n",
       "    </tr>\n",
       "    <tr>\n",
       "      <th>3</th>\n",
       "      <td>1</td>\n",
       "      <td>1129</td>\n",
       "      <td>2.0</td>\n",
       "      <td>1260759185</td>\n",
       "    </tr>\n",
       "    <tr>\n",
       "      <th>4</th>\n",
       "      <td>1</td>\n",
       "      <td>1172</td>\n",
       "      <td>4.0</td>\n",
       "      <td>1260759205</td>\n",
       "    </tr>\n",
       "  </tbody>\n",
       "</table>\n",
       "</div>"
      ],
      "text/plain": [
       "   userId  movieId  rating   timestamp\n",
       "0       1       31     2.5  1260759144\n",
       "1       1     1029     3.0  1260759179\n",
       "2       1     1061     3.0  1260759182\n",
       "3       1     1129     2.0  1260759185\n",
       "4       1     1172     4.0  1260759205"
      ]
     },
     "execution_count": 32,
     "metadata": {},
     "output_type": "execute_result"
    }
   ],
   "source": [
    "ratings = pd.read_csv(\"../input/the-movies-dataset/ratings_small.csv\")\n",
    "\n",
    "movie_md = pd.read_csv(\"../input/the-movies-dataset/movies_metadata.csv\")\n",
    "\n",
    "ratings.head()"
   ]
  },
  {
   "cell_type": "markdown",
   "id": "6fe81d46",
   "metadata": {
    "papermill": {
     "duration": 0.026192,
     "end_time": "2023-02-18T08:42:30.794092",
     "exception": false,
     "start_time": "2023-02-18T08:42:30.767900",
     "status": "completed"
    },
    "tags": []
   },
   "source": [
    "* We will consider ratings for movies which have more than 65 counts"
   ]
  },
  {
   "cell_type": "code",
   "execution_count": 33,
   "id": "17438496",
   "metadata": {
    "execution": {
     "iopub.execute_input": "2023-02-18T08:42:30.847939Z",
     "iopub.status.busy": "2023-02-18T08:42:30.847207Z",
     "iopub.status.idle": "2023-02-18T08:42:30.890916Z",
     "shell.execute_reply": "2023-02-18T08:42:30.889779Z"
    },
    "papermill": {
     "duration": 0.073255,
     "end_time": "2023-02-18T08:42:30.893189",
     "exception": false,
     "start_time": "2023-02-18T08:42:30.819934",
     "status": "completed"
    },
    "tags": []
   },
   "outputs": [
    {
     "data": {
      "text/html": [
       "<div>\n",
       "<style scoped>\n",
       "    .dataframe tbody tr th:only-of-type {\n",
       "        vertical-align: middle;\n",
       "    }\n",
       "\n",
       "    .dataframe tbody tr th {\n",
       "        vertical-align: top;\n",
       "    }\n",
       "\n",
       "    .dataframe thead th {\n",
       "        text-align: right;\n",
       "    }\n",
       "</style>\n",
       "<table border=\"1\" class=\"dataframe\">\n",
       "  <thead>\n",
       "    <tr style=\"text-align: right;\">\n",
       "      <th></th>\n",
       "      <th>userId</th>\n",
       "      <th>movieId</th>\n",
       "      <th>rating</th>\n",
       "      <th>timestamp</th>\n",
       "    </tr>\n",
       "  </thead>\n",
       "  <tbody>\n",
       "    <tr>\n",
       "      <th>0</th>\n",
       "      <td>1</td>\n",
       "      <td>1371</td>\n",
       "      <td>2.5</td>\n",
       "      <td>1260759135</td>\n",
       "    </tr>\n",
       "    <tr>\n",
       "      <th>1</th>\n",
       "      <td>1</td>\n",
       "      <td>2105</td>\n",
       "      <td>4.0</td>\n",
       "      <td>1260759139</td>\n",
       "    </tr>\n",
       "    <tr>\n",
       "      <th>2</th>\n",
       "      <td>1</td>\n",
       "      <td>2294</td>\n",
       "      <td>2.0</td>\n",
       "      <td>1260759108</td>\n",
       "    </tr>\n",
       "    <tr>\n",
       "      <th>3</th>\n",
       "      <td>2</td>\n",
       "      <td>17</td>\n",
       "      <td>5.0</td>\n",
       "      <td>835355681</td>\n",
       "    </tr>\n",
       "    <tr>\n",
       "      <th>4</th>\n",
       "      <td>2</td>\n",
       "      <td>62</td>\n",
       "      <td>3.0</td>\n",
       "      <td>835355749</td>\n",
       "    </tr>\n",
       "  </tbody>\n",
       "</table>\n",
       "</div>"
      ],
      "text/plain": [
       "   userId  movieId  rating   timestamp\n",
       "0       1     1371     2.5  1260759135\n",
       "1       1     2105     4.0  1260759139\n",
       "2       1     2294     2.0  1260759108\n",
       "3       2       17     5.0   835355681\n",
       "4       2       62     3.0   835355749"
      ]
     },
     "execution_count": 33,
     "metadata": {},
     "output_type": "execute_result"
    }
   ],
   "source": [
    "# movie dataframe with votes more than 55\n",
    "movie_md = movie_md[movie_md['vote_count']>55][['id','title']]\n",
    "\n",
    "# IDs of movies with count more than 55\n",
    "movie_ids = [int(x) for x in movie_md['id'].values]\n",
    "\n",
    "# Select ratings of movies with more than 55 counts\n",
    "ratings = ratings[ratings['movieId'].isin(movie_ids)]\n",
    "\n",
    "# Reset Index\n",
    "ratings.reset_index(inplace=True, drop=True)\n",
    "\n",
    "# Print first 5 rows\n",
    "ratings.head()"
   ]
  },
  {
   "cell_type": "code",
   "execution_count": 34,
   "id": "3248b9eb",
   "metadata": {
    "execution": {
     "iopub.execute_input": "2023-02-18T08:42:30.946788Z",
     "iopub.status.busy": "2023-02-18T08:42:30.946386Z",
     "iopub.status.idle": "2023-02-18T08:42:30.952427Z",
     "shell.execute_reply": "2023-02-18T08:42:30.951468Z"
    },
    "papermill": {
     "duration": 0.035512,
     "end_time": "2023-02-18T08:42:30.954715",
     "exception": false,
     "start_time": "2023-02-18T08:42:30.919203",
     "status": "completed"
    },
    "tags": []
   },
   "outputs": [
    {
     "data": {
      "text/plain": [
       "(29965, 4)"
      ]
     },
     "execution_count": 34,
     "metadata": {},
     "output_type": "execute_result"
    }
   ],
   "source": [
    "ratings.shape"
   ]
  },
  {
   "cell_type": "code",
   "execution_count": 35,
   "id": "b5057988",
   "metadata": {
    "execution": {
     "iopub.execute_input": "2023-02-18T08:42:31.007807Z",
     "iopub.status.busy": "2023-02-18T08:42:31.007421Z",
     "iopub.status.idle": "2023-02-18T08:42:31.069936Z",
     "shell.execute_reply": "2023-02-18T08:42:31.069048Z"
    },
    "papermill": {
     "duration": 0.09204,
     "end_time": "2023-02-18T08:42:31.072341",
     "exception": false,
     "start_time": "2023-02-18T08:42:30.980301",
     "status": "completed"
    },
    "tags": []
   },
   "outputs": [],
   "source": [
    "# Initialize a surprise reader object\n",
    "reader = Reader(line_format='user item rating', sep=',', rating_scale=(0,5), skip_lines=1)\n",
    "\n",
    "# Load the data\n",
    "data = Dataset.load_from_df(ratings[['userId','movieId','rating']], reader=reader)\n",
    "\n",
    "# Build trainset object(perform this only when you are using whole dataset to train)\n",
    "trainset = data.build_full_trainset()"
   ]
  },
  {
   "cell_type": "code",
   "execution_count": 36,
   "id": "3a6fed32",
   "metadata": {
    "execution": {
     "iopub.execute_input": "2023-02-18T08:42:31.128242Z",
     "iopub.status.busy": "2023-02-18T08:42:31.127877Z",
     "iopub.status.idle": "2023-02-18T08:42:33.116958Z",
     "shell.execute_reply": "2023-02-18T08:42:33.115842Z"
    },
    "papermill": {
     "duration": 2.019003,
     "end_time": "2023-02-18T08:42:33.119107",
     "exception": false,
     "start_time": "2023-02-18T08:42:31.100104",
     "status": "completed"
    },
    "tags": []
   },
   "outputs": [
    {
     "data": {
      "text/plain": [
       "<surprise.prediction_algorithms.matrix_factorization.SVD at 0x7f0611c1b210>"
      ]
     },
     "execution_count": 36,
     "metadata": {},
     "output_type": "execute_result"
    }
   ],
   "source": [
    "# Initialize model\n",
    "svd = SVD()\n",
    "\n",
    "# cross-validate\n",
    "svd.fit(trainset)"
   ]
  },
  {
   "cell_type": "markdown",
   "id": "a48205c8",
   "metadata": {
    "papermill": {
     "duration": 0.026738,
     "end_time": "2023-02-18T08:42:33.172830",
     "exception": false,
     "start_time": "2023-02-18T08:42:33.146092",
     "status": "completed"
    },
    "tags": []
   },
   "source": [
    "**We have fit the data successfully, now let's check some predictions**"
   ]
  },
  {
   "cell_type": "code",
   "execution_count": 37,
   "id": "db8ed095",
   "metadata": {
    "execution": {
     "iopub.execute_input": "2023-02-18T08:42:33.229080Z",
     "iopub.status.busy": "2023-02-18T08:42:33.228356Z",
     "iopub.status.idle": "2023-02-18T08:42:33.234844Z",
     "shell.execute_reply": "2023-02-18T08:42:33.234100Z"
    },
    "papermill": {
     "duration": 0.036661,
     "end_time": "2023-02-18T08:42:33.236639",
     "exception": false,
     "start_time": "2023-02-18T08:42:33.199978",
     "status": "completed"
    },
    "tags": []
   },
   "outputs": [
    {
     "data": {
      "text/plain": [
       "Prediction(uid=3, iid=2959, r_ui=5.0, est=4.125706534773, details={'was_impossible': False})"
      ]
     },
     "execution_count": 37,
     "metadata": {},
     "output_type": "execute_result"
    }
   ],
   "source": [
    "svd.predict(uid=3,iid=2959,r_ui=5.0)"
   ]
  },
  {
   "cell_type": "code",
   "execution_count": 38,
   "id": "59887356",
   "metadata": {
    "execution": {
     "iopub.execute_input": "2023-02-18T08:42:33.291712Z",
     "iopub.status.busy": "2023-02-18T08:42:33.291084Z",
     "iopub.status.idle": "2023-02-18T08:42:33.297536Z",
     "shell.execute_reply": "2023-02-18T08:42:33.296559Z"
    },
    "papermill": {
     "duration": 0.036313,
     "end_time": "2023-02-18T08:42:33.299489",
     "exception": false,
     "start_time": "2023-02-18T08:42:33.263176",
     "status": "completed"
    },
    "tags": []
   },
   "outputs": [
    {
     "data": {
      "text/plain": [
       "Prediction(uid=15, iid=2678, r_ui=1.0, est=2.8274738815107847, details={'was_impossible': False})"
      ]
     },
     "execution_count": 38,
     "metadata": {},
     "output_type": "execute_result"
    }
   ],
   "source": [
    "svd.predict(uid=15,iid=2678,r_ui=1.0)"
   ]
  },
  {
   "cell_type": "markdown",
   "id": "188a42f9",
   "metadata": {
    "papermill": {
     "duration": 0.026856,
     "end_time": "2023-02-18T08:42:33.352986",
     "exception": false,
     "start_time": "2023-02-18T08:42:33.326130",
     "status": "completed"
    },
    "tags": []
   },
   "source": [
    "When are using .predict() method where we are passing 3 arguments,i.e. userID(uid), itemID(iid) and r_ui(true rating)\n",
    "\n",
    "The output of each prediction is a tuple where est is our estimated ratings.\n",
    "\n",
    "We can see that our model is able to perform good and is able to make good predictions. However, this model can be further improved by using hyperparameter optimization techinique.\n",
    "\n",
    "Now that our models is ready we will be filling the user-item interaction matrix and will be making recommendations."
   ]
  },
  {
   "cell_type": "code",
   "execution_count": 39,
   "id": "8cbad495",
   "metadata": {
    "execution": {
     "iopub.execute_input": "2023-02-18T08:42:33.408963Z",
     "iopub.status.busy": "2023-02-18T08:42:33.408540Z",
     "iopub.status.idle": "2023-02-18T08:42:33.416741Z",
     "shell.execute_reply": "2023-02-18T08:42:33.415773Z"
    },
    "papermill": {
     "duration": 0.038747,
     "end_time": "2023-02-18T08:42:33.418788",
     "exception": false,
     "start_time": "2023-02-18T08:42:33.380041",
     "status": "completed"
    },
    "tags": []
   },
   "outputs": [],
   "source": [
    "def get_recommendations(data, movie_md, user_id, top_n, algo):\n",
    "    \n",
    "    # creating an empty list to store the recommended product ids\n",
    "    recommendations = []\n",
    "    \n",
    "    # creating an user item interactions matrix \n",
    "    user_movie_interactions_matrix = data.pivot(index='userId', columns='movieId', values='rating')\n",
    "    \n",
    "    # extracting those product ids which the user_id has not interacted yet\n",
    "    non_interacted_movies = user_movie_interactions_matrix.loc[user_id][user_movie_interactions_matrix.loc[user_id].isnull()].index.tolist()\n",
    "    \n",
    "    # looping through each of the product ids which user_id has not interacted yet\n",
    "    for item_id in non_interacted_movies:\n",
    "        \n",
    "        # predicting the ratings for those non interacted product ids by this user\n",
    "        est = algo.predict(user_id, item_id).est\n",
    "        \n",
    "          # appending the predicted ratings\n",
    "        movie_name = movie_md[movie_md['id']==str(item_id)]['title'].values[0]\n",
    "        recommendations.append((movie_name, est))\n",
    "\n",
    "    # sorting the predicted ratings in descending order\n",
    "    recommendations.sort(key=lambda x: x[1], reverse=True)\n",
    "\n",
    "    return recommendations[:top_n] # returing top n highest predicted rating products for this user"
   ]
  },
  {
   "cell_type": "code",
   "execution_count": 40,
   "id": "1461ae37",
   "metadata": {
    "execution": {
     "iopub.execute_input": "2023-02-18T08:42:33.474495Z",
     "iopub.status.busy": "2023-02-18T08:42:33.473849Z",
     "iopub.status.idle": "2023-02-18T08:42:34.843854Z",
     "shell.execute_reply": "2023-02-18T08:42:34.842796Z"
    },
    "papermill": {
     "duration": 1.400638,
     "end_time": "2023-02-18T08:42:34.846224",
     "exception": false,
     "start_time": "2023-02-18T08:42:33.445586",
     "status": "completed"
    },
    "tags": []
   },
   "outputs": [
    {
     "data": {
      "text/plain": [
       "[('Nell', 4.945774675665953),\n",
       " ('Galaxy Quest', 4.941258263783866),\n",
       " ('The Thomas Crown Affair', 4.926408119762461),\n",
       " ('Straw Dogs', 4.921663081770739),\n",
       " ('Hard Target', 4.9198394372595144),\n",
       " ('While You Were Sleeping', 4.894754858978054),\n",
       " ('Frankenstein', 4.88710607472467),\n",
       " ('The Thomas Crown Affair', 4.8759295620312475),\n",
       " ('The Sixth Sense', 4.860845300953682),\n",
       " ('Dead Man', 4.8534187242457865)]"
      ]
     },
     "execution_count": 40,
     "metadata": {},
     "output_type": "execute_result"
    }
   ],
   "source": [
    "get_recommendations(data=ratings,movie_md=movie_md, user_id=654, top_n=10, algo=svd)"
   ]
  },
  {
   "cell_type": "markdown",
   "id": "953c4d27",
   "metadata": {
    "papermill": {
     "duration": 0.026545,
     "end_time": "2023-02-18T08:42:34.900013",
     "exception": false,
     "start_time": "2023-02-18T08:42:34.873468",
     "status": "completed"
    },
    "tags": []
   },
   "source": [
    "# MEMORY BASED RECOMMENDER SYSTEMS"
   ]
  },
  {
   "cell_type": "markdown",
   "id": "0b058ab2",
   "metadata": {
    "papermill": {
     "duration": 0.026439,
     "end_time": "2023-02-18T08:42:34.953475",
     "exception": false,
     "start_time": "2023-02-18T08:42:34.927036",
     "status": "completed"
    },
    "tags": []
   },
   "source": [
    "In Memory based, there are two approaches: the primary one identifies clusters of users and \n",
    "utilizes the interactions of one specific user to predict the interactions of other similar users. \n",
    "The second approach identifies clusters of items that have been rated by user A and utilizes \n",
    "them to predict the interaction of user A with a different but similar item B. These methods \n",
    "usually encounter major problems with large sparse matrices, since the amount of user-item \n",
    "interactions are often too low for generating top quality clusters."
   ]
  },
  {
   "attachments": {
    "8bfb4a19-6c8a-483d-8006-9b60b3b1a6c7.png": {
     "image/png": "[encoded data removed]"
    }
   },
   "cell_type": "markdown",
   "id": "5a08897d",
   "metadata": {
    "papermill": {
     "duration": 0.026208,
     "end_time": "2023-02-18T08:42:35.005870",
     "exception": false,
     "start_time": "2023-02-18T08:42:34.979662",
     "status": "completed"
    },
    "tags": []
   },
   "source": [
    "Memory-based methods use user rating historical data to compute the similarity between users or items. The idea behind these methods is to define a similarity measure between users or items, and find the most similar to recommend unseen items. Memory based recommender systems are of 2 types -\n",
    "\n",
    "User-Based\n",
    "\n",
    "Item-Bassed\n",
    "\n",
    "\n",
    "User-Based\n",
    "In user based recommendation method we will be computing similarities between users and will fetch the most similar users using an algorithm(KNN) and will recommend movies which one user likes to another user and vice versa\n",
    "\n",
    "![image.png](attachment:8bfb4a19-6c8a-483d-8006-9b60b3b1a6c7.png)"
   ]
  },
  {
   "cell_type": "markdown",
   "id": "26e68c7e",
   "metadata": {
    "papermill": {
     "duration": 0.026233,
     "end_time": "2023-02-18T08:42:35.058381",
     "exception": false,
     "start_time": "2023-02-18T08:42:35.032148",
     "status": "completed"
    },
    "tags": []
   },
   "source": [
    "**Import Libraries**"
   ]
  },
  {
   "cell_type": "code",
   "execution_count": 41,
   "id": "8b48deff",
   "metadata": {
    "execution": {
     "iopub.execute_input": "2023-02-18T08:42:35.113768Z",
     "iopub.status.busy": "2023-02-18T08:42:35.113189Z",
     "iopub.status.idle": "2023-02-18T08:42:35.116935Z",
     "shell.execute_reply": "2023-02-18T08:42:35.116242Z"
    },
    "papermill": {
     "duration": 0.033966,
     "end_time": "2023-02-18T08:42:35.118908",
     "exception": false,
     "start_time": "2023-02-18T08:42:35.084942",
     "status": "completed"
    },
    "tags": []
   },
   "outputs": [],
   "source": [
    "from surprise.prediction_algorithms.knns import KNNBasic"
   ]
  },
  {
   "cell_type": "code",
   "execution_count": 42,
   "id": "1e780967",
   "metadata": {
    "execution": {
     "iopub.execute_input": "2023-02-18T08:42:35.174479Z",
     "iopub.status.busy": "2023-02-18T08:42:35.173919Z",
     "iopub.status.idle": "2023-02-18T08:42:35.457997Z",
     "shell.execute_reply": "2023-02-18T08:42:35.457236Z"
    },
    "papermill": {
     "duration": 0.314694,
     "end_time": "2023-02-18T08:42:35.460039",
     "exception": false,
     "start_time": "2023-02-18T08:42:35.145345",
     "status": "completed"
    },
    "tags": []
   },
   "outputs": [
    {
     "data": {
      "text/plain": [
       "<surprise.prediction_algorithms.knns.KNNBasic at 0x7f0619f82390>"
      ]
     },
     "execution_count": 42,
     "metadata": {},
     "output_type": "execute_result"
    }
   ],
   "source": [
    "#Declaring the similarity options.\n",
    "sim_options = {'name': 'cosine',\n",
    "               'user_based': True}\n",
    "\n",
    "# KNN algorithm is used to find similar items\n",
    "sim_user = KNNBasic(sim_options=sim_options, verbose=False, random_state=33)\n",
    "\n",
    "# Train the algorithm on the trainset, and predict ratings for the testset\n",
    "sim_user.fit(trainset)"
   ]
  },
  {
   "cell_type": "code",
   "execution_count": 43,
   "id": "56caeca4",
   "metadata": {
    "execution": {
     "iopub.execute_input": "2023-02-18T08:42:35.517013Z",
     "iopub.status.busy": "2023-02-18T08:42:35.516058Z",
     "iopub.status.idle": "2023-02-18T08:42:35.524080Z",
     "shell.execute_reply": "2023-02-18T08:42:35.523032Z"
    },
    "papermill": {
     "duration": 0.039572,
     "end_time": "2023-02-18T08:42:35.526914",
     "exception": false,
     "start_time": "2023-02-18T08:42:35.487342",
     "status": "completed"
    },
    "tags": []
   },
   "outputs": [
    {
     "data": {
      "text/plain": [
       "Prediction(uid=2, iid=17, r_ui=5.0, est=4.166335018545322, details={'actual_k': 40, 'was_impossible': False})"
      ]
     },
     "execution_count": 43,
     "metadata": {},
     "output_type": "execute_result"
    }
   ],
   "source": [
    "#predicting rating for a sample user with an interacted product.\n",
    "sim_user.predict(uid=2,iid=17,r_ui=5.0)"
   ]
  },
  {
   "cell_type": "code",
   "execution_count": 44,
   "id": "b89c3543",
   "metadata": {
    "execution": {
     "iopub.execute_input": "2023-02-18T08:42:35.593825Z",
     "iopub.status.busy": "2023-02-18T08:42:35.592918Z",
     "iopub.status.idle": "2023-02-18T08:42:35.600683Z",
     "shell.execute_reply": "2023-02-18T08:42:35.599756Z"
    },
    "papermill": {
     "duration": 0.040984,
     "end_time": "2023-02-18T08:42:35.602688",
     "exception": false,
     "start_time": "2023-02-18T08:42:35.561704",
     "status": "completed"
    },
    "tags": []
   },
   "outputs": [
    {
     "data": {
      "text/plain": [
       "Prediction(uid=671, iid=4011, r_ui=4.0, est=4.262454431125302, details={'actual_k': 40, 'was_impossible': False})"
      ]
     },
     "execution_count": 44,
     "metadata": {},
     "output_type": "execute_result"
    }
   ],
   "source": [
    "#predicting rating for a sample user with an interacted product.\n",
    "sim_user.predict(uid=671,iid=4011,r_ui=4.0)"
   ]
  },
  {
   "cell_type": "code",
   "execution_count": 45,
   "id": "ffcc9146",
   "metadata": {
    "execution": {
     "iopub.execute_input": "2023-02-18T08:42:35.660558Z",
     "iopub.status.busy": "2023-02-18T08:42:35.659882Z",
     "iopub.status.idle": "2023-02-18T08:42:37.218601Z",
     "shell.execute_reply": "2023-02-18T08:42:37.217517Z"
    },
    "papermill": {
     "duration": 1.589197,
     "end_time": "2023-02-18T08:42:37.221132",
     "exception": false,
     "start_time": "2023-02-18T08:42:35.631935",
     "status": "completed"
    },
    "tags": []
   },
   "outputs": [
    {
     "data": {
      "text/plain": [
       "[('The Wizard', 5),\n",
       " ('Rio Bravo', 5),\n",
       " ('The Celebration', 5),\n",
       " ('Spider-Man 3', 5),\n",
       " ('A Streetcar Named Desire', 5),\n",
       " ('Gentlemen Prefer Blondes', 5),\n",
       " ('The Evil Dead', 5),\n",
       " ('JFK', 5),\n",
       " ('Strangers on a Train', 5),\n",
       " (\"Singin' in the Rain\", 5)]"
      ]
     },
     "execution_count": 45,
     "metadata": {},
     "output_type": "execute_result"
    }
   ],
   "source": [
    "get_recommendations(ratings, movie_md, 671,10,sim_user)"
   ]
  },
  {
   "attachments": {
    "44ccf55e-ac9f-4e15-888a-9a7b4c4ee0a1.png": {
     "image/png": "[encoded data removed]"
    }
   },
   "cell_type": "markdown",
   "id": "1e983c6f",
   "metadata": {
    "papermill": {
     "duration": 0.027417,
     "end_time": "2023-02-18T08:42:37.277470",
     "exception": false,
     "start_time": "2023-02-18T08:42:37.250053",
     "status": "completed"
    },
    "tags": []
   },
   "source": [
    "**Item-Based**\n",
    "In item based recommendation method we will be computing similarities between items(movies) and will fetch the most similar items(movies) using an algorithm(KNN) and will recommend items(movies) which one user likes to another user who likes similar kind of item(movie) and vice versa.\n",
    "![image.png](attachment:44ccf55e-ac9f-4e15-888a-9a7b4c4ee0a1.png)\n",
    "\n",
    "\n",
    "In modelling part there is gonna be just one simple difference, we would have to set the user_based as False in sim_options parameter while initializing model."
   ]
  },
  {
   "cell_type": "code",
   "execution_count": 46,
   "id": "287cf961",
   "metadata": {
    "execution": {
     "iopub.execute_input": "2023-02-18T08:42:37.334174Z",
     "iopub.status.busy": "2023-02-18T08:42:37.333765Z",
     "iopub.status.idle": "2023-02-18T08:42:38.032828Z",
     "shell.execute_reply": "2023-02-18T08:42:38.031869Z"
    },
    "papermill": {
     "duration": 0.730982,
     "end_time": "2023-02-18T08:42:38.036043",
     "exception": false,
     "start_time": "2023-02-18T08:42:37.305061",
     "status": "completed"
    },
    "tags": []
   },
   "outputs": [
    {
     "data": {
      "text/plain": [
       "<surprise.prediction_algorithms.knns.KNNBasic at 0x7f0611c1b2d0>"
      ]
     },
     "execution_count": 46,
     "metadata": {},
     "output_type": "execute_result"
    }
   ],
   "source": [
    "#Declaring the similarity options.\n",
    "sim_options = {'name': 'cosine',\n",
    "               'user_based': False}\n",
    "\n",
    "# KNN algorithm is used to find similar items\n",
    "sim_item = KNNBasic(sim_options=sim_options, verbose=False, random_state=33)\n",
    "\n",
    "# Train the algorithm on the trainset, and predict ratings for the testset\n",
    "sim_item.fit(trainset)"
   ]
  },
  {
   "cell_type": "code",
   "execution_count": 47,
   "id": "7644ceb2",
   "metadata": {
    "execution": {
     "iopub.execute_input": "2023-02-18T08:42:38.094451Z",
     "iopub.status.busy": "2023-02-18T08:42:38.093446Z",
     "iopub.status.idle": "2023-02-18T08:42:38.100560Z",
     "shell.execute_reply": "2023-02-18T08:42:38.099487Z"
    },
    "papermill": {
     "duration": 0.038473,
     "end_time": "2023-02-18T08:42:38.102832",
     "exception": false,
     "start_time": "2023-02-18T08:42:38.064359",
     "status": "completed"
    },
    "tags": []
   },
   "outputs": [
    {
     "data": {
      "text/plain": [
       "Prediction(uid=2, iid=17, r_ui=5.0, est=3.650476877827318, details={'actual_k': 40, 'was_impossible': False})"
      ]
     },
     "execution_count": 47,
     "metadata": {},
     "output_type": "execute_result"
    }
   ],
   "source": [
    "#predicting rating for a sample user with an interacted product.\n",
    "sim_item.predict(uid=2,iid=17,r_ui=5.0)"
   ]
  },
  {
   "cell_type": "code",
   "execution_count": 48,
   "id": "5380d558",
   "metadata": {
    "execution": {
     "iopub.execute_input": "2023-02-18T08:42:38.159990Z",
     "iopub.status.busy": "2023-02-18T08:42:38.159591Z",
     "iopub.status.idle": "2023-02-18T08:42:38.166678Z",
     "shell.execute_reply": "2023-02-18T08:42:38.165648Z"
    },
    "papermill": {
     "duration": 0.038498,
     "end_time": "2023-02-18T08:42:38.168872",
     "exception": false,
     "start_time": "2023-02-18T08:42:38.130374",
     "status": "completed"
    },
    "tags": []
   },
   "outputs": [
    {
     "data": {
      "text/plain": [
       "Prediction(uid=671, iid=4011, r_ui=4.0, est=4.164142698155605, details={'actual_k': 31, 'was_impossible': False})"
      ]
     },
     "execution_count": 48,
     "metadata": {},
     "output_type": "execute_result"
    }
   ],
   "source": [
    "#predicting rating for a sample user with an interacted product.\n",
    "sim_item.predict(uid=671,iid=4011,r_ui=4.0)"
   ]
  },
  {
   "cell_type": "code",
   "execution_count": 49,
   "id": "7588797c",
   "metadata": {
    "execution": {
     "iopub.execute_input": "2023-02-18T08:42:38.225943Z",
     "iopub.status.busy": "2023-02-18T08:42:38.225540Z",
     "iopub.status.idle": "2023-02-18T08:42:39.816655Z",
     "shell.execute_reply": "2023-02-18T08:42:39.815459Z"
    },
    "papermill": {
     "duration": 1.622067,
     "end_time": "2023-02-18T08:42:39.818851",
     "exception": false,
     "start_time": "2023-02-18T08:42:38.196784",
     "status": "completed"
    },
    "tags": []
   },
   "outputs": [
    {
     "data": {
      "text/plain": [
       "[('Hard Candy', 5),\n",
       " ('Visitor Q', 5),\n",
       " ('The Protector', 4.666666666666667),\n",
       " ('Shaun of the Dead', 4.571428571428571),\n",
       " ('The Silence of the Lambs', 4.503228000162119),\n",
       " (\"Singin' in the Rain\", 4.5),\n",
       " (\"Hearts of Darkness: A Filmmaker's Apocalypse\", 4.5),\n",
       " ('Sense and Sensibility', 4.5),\n",
       " (\"The Hitchhiker's Guide to the Galaxy\", 4.5),\n",
       " ('Fantasia', 4.428571428571429)]"
      ]
     },
     "execution_count": 49,
     "metadata": {},
     "output_type": "execute_result"
    }
   ],
   "source": [
    "get_recommendations(ratings, movie_md, 671,10,sim_item)"
   ]
  }
 ],
 "metadata": {
  "kernelspec": {
   "display_name": "Python 3",
   "language": "python",
   "name": "python3"
  },
  "language_info": {
   "codemirror_mode": {
    "name": "ipython",
    "version": 3
   },
   "file_extension": ".py",
   "mimetype": "text/x-python",
   "name": "python",
   "nbconvert_exporter": "python",
   "pygments_lexer": "ipython3",
   "version": "3.7.12"
  },
  "papermill": {
   "default_parameters": {},
   "duration": 34.308851,
   "end_time": "2023-02-18T08:42:40.667446",
   "environment_variables": {},
   "exception": null,
   "input_path": "__notebook__.ipynb",
   "output_path": "__notebook__.ipynb",
   "parameters": {},
   "start_time": "2023-02-18T08:42:06.358595",
   "version": "2.3.4"
  }
 },
 "nbformat": 4,
 "nbformat_minor": 5
}
